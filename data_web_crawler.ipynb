{
 "cells": [
  {
   "cell_type": "markdown",
   "metadata": {},
   "source": [
    "# 국민재난안전포털 웹 크롤러 만들기"
   ]
  },
  {
   "cell_type": "code",
   "execution_count": 7,
   "metadata": {},
   "outputs": [],
   "source": [
    "from requests import Session\n",
    "from requests.compat import urljoin\n",
    "from bs4 import BeautifulSoup"
   ]
  },
  {
   "cell_type": "code",
   "execution_count": 59,
   "metadata": {},
   "outputs": [],
   "source": [
    "session = Session()\n",
    "\n",
    "base_url = 'http://www.safekorea.go.kr/'\n",
    "main_url = 'idsiSFK/neo/ext/json/main/menuList.json'\n",
    "\n",
    "main_resp = session.get(urljoin(base_url, main_url))\n",
    "result = main_resp.json()\n",
    "\n",
    "disaster_service_url = ''\n",
    "disaster_menu_seq = 1\n",
    "\n",
    "# 재난문자 url과 params인 munuSeq 구하기\n",
    "for cnt in range(0,len(result)):\n",
    "    if cnt > 0 and result[cnt]['MENU_NM'] == '재난문자':\n",
    "        disaster_service_url = 'idsiSFK' + result[cnt]['SERVICE_URL']\n",
    "        disaster_menu_seq = result[cnt]['MENU_SEQ']\n",
    "        break\n",
    "        \n",
    "#disaster_service_url, disaster_menu_seq"
   ]
  },
  {
   "cell_type": "markdown",
   "metadata": {},
   "source": [
    "## 아래 코드 사용 불가\n",
    "- post 방식의 재난문자 json request시 500 error 발생"
   ]
  },
  {
   "cell_type": "code",
   "execution_count": 75,
   "metadata": {},
   "outputs": [],
   "source": [
    "session.cookies.clear()\n",
    "disaster_resp = session.request('GET', urljoin(base_url, disaster_service_url), params={'menuSeq':disaster_menu_seq})\n",
    "#dom = BeautifulSoup(disaster_resp.text, 'html.parser')\n",
    "referer = disaster_resp.request.url\n",
    "\n",
    "#새 쿠키값 \n",
    "cookiedict = {}\n",
    "for _ in session.cookies.items():\n",
    "    cookiedict[_[0]] = _[1]\n",
    "\n",
    "headers = {\n",
    "    'Referer' : referer,\n",
    "    'User-Agent': 'Mozilla/5.0 (Windows NT 10.0; Win64; x64) AppleWebKit/537.36 (KHTML, like Gecko) Chrome/83.0.4103.116 Safari/537.36'\n",
    "}\n",
    "\n",
    "#쿠키 날짜 value는 당일 날짜로 변경해야함, 실시간 크롤링시\n",
    "cookies = {\n",
    "    'JSESSIONID':cookiedict['JSESSIONID'],\n",
    "    'elevisor_for_j2ee_uid':cookiedict['elevisor_for_j2ee_uid'],\n",
    "    'e4d3f82b588e6cf132ee4765403cd800':cookiedict['e4d3f82b588e6cf132ee4765403cd800'],\n",
    "    '3053195ebb01870828aed202f55dc974':'76ff93199833d41c33e1b89a9862350b',\n",
    "    'popup_1':'20200802',\n",
    "    'popup_2':'20200802',\n",
    "    '_ga':'GA1.3.522710010.1595930482',\n",
    "    '_gid':'GA1.3.1758721736.1596362546'\n",
    "}\n",
    "\n",
    "#session.request지만 누락된 쿠키값이 있어서 따로 다시 입력\n",
    "disaster_list = 'idsiSFK/bbs/user/selectBbsList.do'\n",
    "disaster_list_resp = session.request('POST', urljoin(base_url, disaster_list), headers=headers, cookies=cookies)"
   ]
  },
  {
   "cell_type": "code",
   "execution_count": 76,
   "metadata": {},
   "outputs": [
    {
     "data": {
      "text/plain": [
       "(<PreparedRequest [POST]>,\n",
       " 'Internal Server Error',\n",
       " 500,\n",
       " {'Content-Encoding': 'gzip', 'Content-Type': 'text/html;charset=ISO-8859-1', 'Content-Length': '254', 'Date': 'Sun, 02 Aug 2020 14:56:23 GMT'})"
      ]
     },
     "execution_count": 76,
     "metadata": {},
     "output_type": "execute_result"
    }
   ],
   "source": [
    "disaster_list_resp.request, disaster_list_resp.reason, disaster_list_resp.status_code, disaster_list_resp.headers"
   ]
  },
  {
   "cell_type": "markdown",
   "metadata": {},
   "source": [
    "# 셀레니움 활용 실시간 문자 수집\n",
    "- 셀레니움 사용 이유: 재난문자 페이지의 json request 불가(inter server error, 500 error)"
   ]
  },
  {
   "cell_type": "code",
   "execution_count": 77,
   "metadata": {},
   "outputs": [],
   "source": [
    "from selenium import webdriver"
   ]
  },
  {
   "cell_type": "code",
   "execution_count": 83,
   "metadata": {},
   "outputs": [],
   "source": [
    "driver = webdriver.Chrome()\n",
    "driver.implicitly_wait(3)\n",
    "\n",
    "uu = urljoin(base_url, disaster_service_url)\n",
    "uuu = uu + '&menuSeq=' + str(disaster_menu_seq)\n",
    "driver.get(uuu)"
   ]
  },
  {
   "cell_type": "markdown",
   "metadata": {},
   "source": [
    "#### 재난문자 첫 페이지 => 10개 재난문자 가져오기\n",
    "- 재난문자 하나씩 접근하므로 중간에 재난문자 갱신이 되면 똑같은 문자 접근할 수 있음"
   ]
  },
  {
   "cell_type": "code",
   "execution_count": 104,
   "metadata": {},
   "outputs": [
    {
     "name": "stdout",
     "output_type": "stream",
     "text": [
      "1 번째 재난문자: 2020/08/03 13:02:21 재난문자[행정안전부]\n",
      "[행정안전부] 오늘 13시00분 세종,충남(보령,청양,공주) 호우경보, 산사태ㆍ상습침수 등 위험지역 대피, 외출자제 등 안전에 주의바랍니다\n",
      "\n",
      "-송출지역-\n",
      "충청남도 공주시\n",
      "충청남도 보령시\n",
      "충청남도 청양군\n",
      "세종특별자치시\n",
      "\n",
      "\n",
      "2 번째 재난문자: 2020/08/03 13:00:44 재난문자[천안시청]\n",
      "[천안시청] 쌍용지하차도 침수에 따라 통제 예정이니, 우회 통행하여 주시기 바랍니다.\n",
      "\n",
      "-송출지역-\n",
      "충청남도 천안시\n",
      "\n",
      "\n",
      "3 번째 재난문자: 2020/08/03 12:58:31 재난문자[강남구재대본]\n",
      "[강남구재대본]팔당댐 방류에 따른 한강수위 상승으로 강남, 신청담, 신사나들목, 신사수문, 압구1·수문 14시 폐쇄 예정이오니, 차량진입이 통제됨을 알려드립니다.\n",
      "\n",
      "-송출지역-\n",
      "서울특별시 강남구\n",
      "\n",
      "\n",
      "4 번째 재난문자: 2020/08/03 12:55:21 재난문자[한강홍수통제소]\n",
      "[한강홍수통제소]오늘 12:50 홍천강 홍천군(홍천교) 홍수주의보 발령, 안전에 유의하시기 바랍니다.\n",
      "\n",
      "-송출지역-\n",
      "강원도 춘천시\n",
      "강원도 홍천군\n",
      "경기도 가평군\n",
      "\n",
      "\n",
      "5 번째 재난문자: 2020/08/03 12:40:39 재난문자[오산시청]\n",
      "[오산시청] 오늘 많은 비로 오산천 수위 상승중, 오산천 산책로 및 자전거도로 통행을 금지합니다.[재난안전대책본부]\n",
      "\n",
      "-송출지역-\n",
      "경기도 오산시\n",
      "\n",
      "\n",
      "6 번째 재난문자: 2020/08/03 12:32:41 재난문자[천안시청]\n",
      "[천안시청] 청수지하차도, 청당지하차도, 남산지하도, 신방동 하상도로 통제되었으니 우회 통행하여 주시기 바랍니다.\n",
      "\n",
      "-송출지역-\n",
      "충청남도 천안시\n",
      "\n",
      "\n",
      "7 번째 재난문자: 2020/08/03 12:25:49 재난문자[용인시청]\n",
      "[용인시청] 용인시 호우경보 발효중. 집중호우가 예상되오니 산사태·상습침수 등 위험지역에서 대피하시고 차량운행 및 외출 자제 등 안전에 주의바랍니다.\n",
      "\n",
      "-송출지역-\n",
      "경기도 용인시\n",
      "\n",
      "\n",
      "8 번째 재난문자: 2020/08/03 12:25:47 재난문자[광진구청]\n",
      "[광진구청] 2020.8.3. 12:00 기준 팔당댐 방류(초당 12,000톤)에 따른 한강 수위 상승으로 광진구 한강변 공원 전면 통제(나들목 5개소 폐쇄)\n",
      "\n",
      "-송출지역-\n",
      "서울특별시 광진구\n",
      "\n",
      "\n",
      "9 번째 재난문자: 2020/08/03 12:24:48 재난문자[진천군청]\n",
      "[진천군청]현재 진천군 호우경보 및 산사태 주의보 발효. 주민들께서는 산간계곡, 하천변, 산사태위험지역, 저지대 등에 피해가 예상되오니 안전에 유의바랍니다.\n",
      "\n",
      "-송출지역-\n",
      "충청북도 진천군\n",
      "\n",
      "\n",
      "10 번째 재난문자: 2020/08/03 12:23:57 재난문자[천안시청]\n",
      "[천안시청] 업성수변도로 및 용곡동 천변도로는 차량통제되었으니 우회 통행하여 주시기 바랍니다.\n",
      "\n",
      "-송출지역-\n",
      "충청남도 천안시\n",
      "\n",
      "\n"
     ]
    }
   ],
   "source": [
    "for cnt in range(0, 10):\n",
    "    # cnt 번째 페이지, 첫 번째 재난 문자 path\n",
    "    disaster_path = '//tbody[@id=\"bbs_tr\"]/tr[@id=\"bbs_tr_{0}_apiData1\"]/td[2]'.format(cnt)\n",
    "    result_topic = driver.find_element_by_xpath(disaster_path)\n",
    "    print((cnt+1), '번째 재난문자:', result_topic.text)\n",
    "\n",
    "    # cnt 번째 재난문자 링크 이동\n",
    "    first_a = disaster_path + '/a'\n",
    "    last_url = driver.current_url\n",
    "    driver.find_element_by_xpath(first_a).click()\n",
    "    driver.implicitly_wait(3)\n",
    "\n",
    "    # 재난문자 상세내용 확인\n",
    "    disaster_context = '//div[@id=\"content\"]/div[@id=\"content\"]/div/div[@class=\"boardView\"]/div[@class=\"boardView_context\"]'\n",
    "    result_context = driver.find_element_by_xpath(disaster_context)\n",
    "    print(result_context.text)\n",
    "    print('\\n')\n",
    "    driver.implicitly_wait(3)\n",
    "\n",
    "    # 이전 페이지로 돌아가기\n",
    "    driver.get(last_url)"
   ]
  },
  {
   "cell_type": "code",
   "execution_count": null,
   "metadata": {},
   "outputs": [],
   "source": []
  },
  {
   "cell_type": "code",
   "execution_count": null,
   "metadata": {},
   "outputs": [],
   "source": []
  }
 ],
 "metadata": {
  "kernelspec": {
   "display_name": "Python 3",
   "language": "python",
   "name": "python3"
  },
  "language_info": {
   "codemirror_mode": {
    "name": "ipython",
    "version": 3
   },
   "file_extension": ".py",
   "mimetype": "text/x-python",
   "name": "python",
   "nbconvert_exporter": "python",
   "pygments_lexer": "ipython3",
   "version": "3.7.6"
  }
 },
 "nbformat": 4,
 "nbformat_minor": 4
}
