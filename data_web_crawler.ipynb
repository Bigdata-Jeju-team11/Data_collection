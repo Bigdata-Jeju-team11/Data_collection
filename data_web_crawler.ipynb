{
 "cells": [
  {
   "cell_type": "markdown",
   "metadata": {},
   "source": [
    "# 국민재난안전포털 웹 크롤러 만들기"
   ]
  },
  {
   "cell_type": "code",
   "execution_count": 7,
   "metadata": {},
   "outputs": [],
   "source": [
    "from requests import Session\n",
    "from requests.compat import urljoin\n",
    "from bs4 import BeautifulSoup"
   ]
  },
  {
   "cell_type": "code",
   "execution_count": 59,
   "metadata": {},
   "outputs": [],
   "source": [
    "session = Session()\n",
    "\n",
    "base_url = 'http://www.safekorea.go.kr/'\n",
    "main_url = 'idsiSFK/neo/ext/json/main/menuList.json'\n",
    "\n",
    "main_resp = session.get(urljoin(base_url, main_url))\n",
    "result = main_resp.json()\n",
    "\n",
    "disaster_service_url = ''\n",
    "disaster_menu_seq = 1\n",
    "\n",
    "# 재난문자 url과 params인 munuSeq 구하기\n",
    "for cnt in range(0,len(result)):\n",
    "    if cnt > 0 and result[cnt]['MENU_NM'] == '재난문자':\n",
    "        disaster_service_url = 'idsiSFK' + result[cnt]['SERVICE_URL']\n",
    "        disaster_menu_seq = result[cnt]['MENU_SEQ']\n",
    "        break\n",
    "        \n",
    "#disaster_service_url, disaster_menu_seq"
   ]
  },
  {
   "cell_type": "markdown",
   "metadata": {},
   "source": [
    "## 아래 코드 사용 불가\n",
    "- post 방식의 재난문자 json request시 500 error 발생"
   ]
  },
  {
   "cell_type": "code",
   "execution_count": 75,
   "metadata": {},
   "outputs": [],
   "source": [
    "session.cookies.clear()\n",
    "disaster_resp = session.request('GET', urljoin(base_url, disaster_service_url), params={'menuSeq':disaster_menu_seq})\n",
    "#dom = BeautifulSoup(disaster_resp.text, 'html.parser')\n",
    "referer = disaster_resp.request.url\n",
    "\n",
    "#새 쿠키값 \n",
    "cookiedict = {}\n",
    "for _ in session.cookies.items():\n",
    "    cookiedict[_[0]] = _[1]\n",
    "\n",
    "headers = {\n",
    "    'Referer' : referer,\n",
    "    'User-Agent': 'Mozilla/5.0 (Windows NT 10.0; Win64; x64) AppleWebKit/537.36 (KHTML, like Gecko) Chrome/83.0.4103.116 Safari/537.36'\n",
    "}\n",
    "\n",
    "#쿠키 날짜 value는 당일 날짜로 변경해야함, 실시간 크롤링시\n",
    "cookies = {\n",
    "    'JSESSIONID':cookiedict['JSESSIONID'],\n",
    "    'elevisor_for_j2ee_uid':cookiedict['elevisor_for_j2ee_uid'],\n",
    "    'e4d3f82b588e6cf132ee4765403cd800':cookiedict['e4d3f82b588e6cf132ee4765403cd800'],\n",
    "    '3053195ebb01870828aed202f55dc974':'76ff93199833d41c33e1b89a9862350b',\n",
    "    'popup_1':'20200802',\n",
    "    'popup_2':'20200802',\n",
    "    '_ga':'GA1.3.522710010.1595930482',\n",
    "    '_gid':'GA1.3.1758721736.1596362546'\n",
    "}\n",
    "\n",
    "#session.request지만 누락된 쿠키값이 있어서 따로 다시 입력\n",
    "disaster_list = 'idsiSFK/bbs/user/selectBbsList.do'\n",
    "disaster_list_resp = session.request('POST', urljoin(base_url, disaster_list), headers=headers, cookies=cookies)"
   ]
  },
  {
   "cell_type": "code",
   "execution_count": 76,
   "metadata": {},
   "outputs": [
    {
     "data": {
      "text/plain": [
       "(<PreparedRequest [POST]>,\n",
       " 'Internal Server Error',\n",
       " 500,\n",
       " {'Content-Encoding': 'gzip', 'Content-Type': 'text/html;charset=ISO-8859-1', 'Content-Length': '254', 'Date': 'Sun, 02 Aug 2020 14:56:23 GMT'})"
      ]
     },
     "execution_count": 76,
     "metadata": {},
     "output_type": "execute_result"
    }
   ],
   "source": [
    "disaster_list_resp.request, disaster_list_resp.reason, disaster_list_resp.status_code, disaster_list_resp.headers"
   ]
  },
  {
   "cell_type": "markdown",
   "metadata": {},
   "source": [
    "# 셀레니움 활용 실시간 문자 수집\n",
    "- 셀레니움 사용 이유: 재난문자 페이지의 json request 불가(inter server error, 500 error) "
   ]
  },
  {
   "cell_type": "code",
   "execution_count": 77,
   "metadata": {},
   "outputs": [],
   "source": [
    "from selenium import webdriver"
   ]
  },
  {
   "cell_type": "code",
   "execution_count": 83,
   "metadata": {},
   "outputs": [],
   "source": [
    "driver = webdriver.Chrome()\n",
    "driver.implicitly_wait(3)\n",
    "\n",
    "uu = urljoin(base_url, disaster_service_url)\n",
    "uuu = uu + '&menuSeq=' + str(disaster_menu_seq)\n",
    "driver.get(uuu)"
   ]
  },
  {
   "cell_type": "code",
   "execution_count": 99,
   "metadata": {},
   "outputs": [
    {
     "name": "stdout",
     "output_type": "stream",
     "text": [
      "2020/08/03 11:11:38 재난문자[춘천시재대본]\n"
     ]
    }
   ],
   "source": [
    "# 첫 번째 페이지, 첫 번째 재난 문자 path\n",
    "first_path = '//tbody[@id=\"bbs_tr\"]/tr[1]/td[2]'\n",
    "result_1 = driver.find_element_by_xpath(first_path)\n",
    "print(result_1.text)\n",
    "\n",
    "# 첫 번째 재난문자 링크 이동\n",
    "first_a = first_path + '/a'\n",
    "last_url = driver.current_url\n",
    "driver.find_element_by_xpath(first_a).click()"
   ]
  },
  {
   "cell_type": "code",
   "execution_count": 100,
   "metadata": {},
   "outputs": [
    {
     "name": "stdout",
     "output_type": "stream",
     "text": [
      "[춘천시재대본] 현재 지역 곳곳에 많은 비가 내립니다. 산사태·침수 등 위험지역 대피, 외출자제 등 안전에 주의바랍니다.\n",
      "\n",
      "-송출지역-\n",
      "강원도 춘천시\n"
     ]
    }
   ],
   "source": [
    "# 재난문자 상세내용 확인\n",
    "disaster_context = '//div[@id=\"content\"]/div[@id=\"content\"]/div/div[@class=\"boardView\"]/div[@class=\"boardView_context\"]'\n",
    "result_context = driver.find_element_by_xpath(disaster_context)\n",
    "print(result_context.text)\n",
    "\n",
    "# 이전 페이지로 돌아가기\n",
    "driver.get(last_url)"
   ]
  },
  {
   "cell_type": "code",
   "execution_count": null,
   "metadata": {},
   "outputs": [],
   "source": []
  }
 ],
 "metadata": {
  "kernelspec": {
   "display_name": "Python 3",
   "language": "python",
   "name": "python3"
  },
  "language_info": {
   "codemirror_mode": {
    "name": "ipython",
    "version": 3
   },
   "file_extension": ".py",
   "mimetype": "text/x-python",
   "name": "python",
   "nbconvert_exporter": "python",
   "pygments_lexer": "ipython3",
   "version": "3.7.6"
  }
 },
 "nbformat": 4,
 "nbformat_minor": 4
}
