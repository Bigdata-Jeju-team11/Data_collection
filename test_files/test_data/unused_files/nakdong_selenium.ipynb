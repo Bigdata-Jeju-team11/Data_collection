{
 "cells": [
  {
   "cell_type": "code",
   "execution_count": null,
   "metadata": {},
   "outputs": [],
   "source": [
    "http://www.nakdongriver.go.kr/sumun/wlList.do"
   ]
  },
  {
   "cell_type": "code",
   "execution_count": 23,
   "metadata": {},
   "outputs": [],
   "source": [
    "from selenium import webdriver\n",
    "from selenium.webdriver.support.ui import Select\n",
    "import json"
   ]
  },
  {
   "cell_type": "code",
   "execution_count": 24,
   "metadata": {},
   "outputs": [],
   "source": [
    "driver = webdriver.Chrome('C:\\\\Users\\\\wldus\\\\chromedriver_win32\\\\chromedriver.exe')"
   ]
  },
  {
   "cell_type": "code",
   "execution_count": 25,
   "metadata": {},
   "outputs": [],
   "source": [
    "driver.get('http://www.nakdongriver.go.kr/sumun/popup/wlPopup.do?Fbscd=02&Obscd=2020675&type=1M')"
   ]
  },
  {
   "cell_type": "code",
   "execution_count": 26,
   "metadata": {},
   "outputs": [],
   "source": [
    "# 낙동강홍수통제소 한 달(31일) 단위로 검색 가능\n",
    "list_yyyy = ['2010', '2011', '2012', '2013', '2014', '2015', '2016', '2017' '2018', '2019', '2020']\n",
    "list_mm = ['01', '02', '03', '04', '05', '06', '07', '08', '09', '10', '11', '12']\n",
    "\n"
   ]
  },
  {
   "cell_type": "code",
   "execution_count": 28,
   "metadata": {},
   "outputs": [],
   "source": [
    "##10분 마다, 0시 00분 단위로 고정\n",
    "driver.find_element_by_xpath('//button[@id=\"10M\"]').click()\n"
   ]
  },
  {
   "cell_type": "code",
   "execution_count": 34,
   "metadata": {},
   "outputs": [],
   "source": [
    "driver.find_element_by_xpath('//select[@id=\"shh\"]/option[@value=\"00\"]').click()\n",
    "driver.find_element_by_xpath('//select[@id=\"smi\"]/option[@value=\"00\"]').click()\n",
    "driver.find_element_by_xpath('//select[@id=\"ehh\"]/option[@value=\"00\"]').click()\n",
    "driver.find_element_by_xpath('//select[@id=\"emi\"]/option[@value=\"00\"]').click()"
   ]
  },
  {
   "cell_type": "code",
   "execution_count": 41,
   "metadata": {},
   "outputs": [],
   "source": [
    "select_syear = Select(driver.find_element_by_id('syyyy')) #시작연월선택\n",
    "select_smonth = Select(driver.find_element_by_id('smm'))\n",
    "select_eyear = Select(driver.find_element_by_id('eyyyy')) #검색 끝 연월 선택\n",
    "select_emonth = Select(driver.find_element_by_id('emm'))"
   ]
  },
  {
   "cell_type": "code",
   "execution_count": 42,
   "metadata": {},
   "outputs": [],
   "source": [
    "select_syear.select_by_value('2010') "
   ]
  },
  {
   "cell_type": "code",
   "execution_count": 43,
   "metadata": {},
   "outputs": [],
   "source": [
    "select_smonth.select_by_value(list_smm[0])"
   ]
  },
  {
   "cell_type": "code",
   "execution_count": 44,
   "metadata": {},
   "outputs": [],
   "source": [
    "select_eyear.select_by_value(list_yyyy[0])\n",
    "select_emonth.select_by_value(list_mm[1])"
   ]
  },
  {
   "cell_type": "code",
   "execution_count": 46,
   "metadata": {},
   "outputs": [],
   "source": [
    "driver.find_element_by_xpath('//button[@id=\"download\"]').click()"
   ]
  },
  {
   "cell_type": "code",
   "execution_count": null,
   "metadata": {},
   "outputs": [],
   "source": [
    "## 낙동강에 있는 지점별 리스트 만들고 이제 돌려서 가져오는 거 만들어야됨"
   ]
  }
 ],
 "metadata": {
  "kernelspec": {
   "display_name": "Python 3",
   "language": "python",
   "name": "python3"
  },
  "language_info": {
   "codemirror_mode": {
    "name": "ipython",
    "version": 3
   },
   "file_extension": ".py",
   "mimetype": "text/x-python",
   "name": "python",
   "nbconvert_exporter": "python",
   "pygments_lexer": "ipython3",
   "version": "3.7.6"
  }
 },
 "nbformat": 4,
 "nbformat_minor": 4
}
