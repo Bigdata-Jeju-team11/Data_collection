{
 "cells": [
  {
   "cell_type": "code",
   "execution_count": 1,
   "metadata": {},
   "outputs": [],
   "source": [
    "import pandas as pd"
   ]
  },
  {
   "cell_type": "code",
   "execution_count": 2,
   "metadata": {},
   "outputs": [],
   "source": [
    "df = pd.read_csv(r'C:\\Users\\Shin\\Desktop\\for-kr-pjt\\NoonMap-Project\\data\\file_data\\교량_기준_임시_최종db.csv')"
   ]
  },
  {
   "cell_type": "code",
   "execution_count": 3,
   "metadata": {},
   "outputs": [
    {
     "name": "stdout",
     "output_type": "stream",
     "text": [
      "<class 'pandas.core.frame.DataFrame'>\n",
      "RangeIndex: 4097832 entries, 0 to 4097831\n",
      "Data columns (total 15 columns):\n",
      " #   Column              Dtype  \n",
      "---  ------              -----  \n",
      " 0   Unnamed: 0          int64  \n",
      " 1   Unnamed: 0.1        int64  \n",
      " 2   bridge_name         object \n",
      " 3   address             object \n",
      " 4   etc_address         object \n",
      " 5   latitude            float64\n",
      " 6   longitude           float64\n",
      " 7   brid_height_origin  float64\n",
      " 8   location_start      object \n",
      " 9   wl_station_code     int64  \n",
      " 10  rf_station_code     int64  \n",
      " 11  obs_date            object \n",
      " 12  WL                  float64\n",
      " 13  rainfall            float64\n",
      " 14  bridge_height       float64\n",
      "dtypes: float64(6), int64(4), object(5)\n",
      "memory usage: 469.0+ MB\n"
     ]
    }
   ],
   "source": [
    "df.info()"
   ]
  },
  {
   "cell_type": "code",
   "execution_count": 4,
   "metadata": {},
   "outputs": [],
   "source": [
    "df['obs_date'] = pd.to_datetime(df['obs_date'])"
   ]
  },
  {
   "cell_type": "code",
   "execution_count": 5,
   "metadata": {},
   "outputs": [],
   "source": [
    "bridge_list = pd.unique(df['location_start']).tolist()"
   ]
  },
  {
   "cell_type": "code",
   "execution_count": 6,
   "metadata": {},
   "outputs": [
    {
     "data": {
      "text/plain": [
       "54"
      ]
     },
     "execution_count": 6,
     "metadata": {},
     "output_type": "execute_result"
    }
   ],
   "source": [
    "len(bridge_list)"
   ]
  },
  {
   "cell_type": "code",
   "execution_count": 7,
   "metadata": {},
   "outputs": [],
   "source": [
    "df_list = [df[df['location_start']==i] for i in bridge_list]"
   ]
  },
  {
   "cell_type": "code",
   "execution_count": 8,
   "metadata": {},
   "outputs": [],
   "source": [
    "for i in range(len(bridge_list)):\n",
    "    df_list[i] = df_list[i].drop(columns=['Unnamed: 0', 'Unnamed: 0.1', 'bridge_name', 'address', 'etc_address', 'latitude', 'longitude',\n",
    "                                          'location_start', 'wl_station_code', 'rf_station_code', 'rainfall', 'brid_height_origin', 'bridge_height'])\n",
    "    df_list[i].rename({'obs_date':'time', 'WL':'value'}, axis=1, inplace=True)"
   ]
  },
  {
   "cell_type": "code",
   "execution_count": 9,
   "metadata": {},
   "outputs": [
    {
     "data": {
      "text/html": [
       "<div>\n",
       "<style scoped>\n",
       "    .dataframe tbody tr th:only-of-type {\n",
       "        vertical-align: middle;\n",
       "    }\n",
       "\n",
       "    .dataframe tbody tr th {\n",
       "        vertical-align: top;\n",
       "    }\n",
       "\n",
       "    .dataframe thead th {\n",
       "        text-align: right;\n",
       "    }\n",
       "</style>\n",
       "<table border=\"1\" class=\"dataframe\">\n",
       "  <thead>\n",
       "    <tr style=\"text-align: right;\">\n",
       "      <th></th>\n",
       "      <th>time</th>\n",
       "      <th>value</th>\n",
       "    </tr>\n",
       "  </thead>\n",
       "  <tbody>\n",
       "    <tr>\n",
       "      <th>0</th>\n",
       "      <td>2010-02-25 12:00:00</td>\n",
       "      <td>3.0</td>\n",
       "    </tr>\n",
       "    <tr>\n",
       "      <th>1</th>\n",
       "      <td>2010-02-25 13:00:00</td>\n",
       "      <td>6.0</td>\n",
       "    </tr>\n",
       "    <tr>\n",
       "      <th>2</th>\n",
       "      <td>2010-02-25 14:00:00</td>\n",
       "      <td>10.0</td>\n",
       "    </tr>\n",
       "    <tr>\n",
       "      <th>3</th>\n",
       "      <td>2010-02-25 15:00:00</td>\n",
       "      <td>14.0</td>\n",
       "    </tr>\n",
       "    <tr>\n",
       "      <th>4</th>\n",
       "      <td>2010-02-25 16:00:00</td>\n",
       "      <td>18.0</td>\n",
       "    </tr>\n",
       "    <tr>\n",
       "      <th>...</th>\n",
       "      <td>...</td>\n",
       "      <td>...</td>\n",
       "    </tr>\n",
       "    <tr>\n",
       "      <th>84484</th>\n",
       "      <td>2020-08-26 21:00:00</td>\n",
       "      <td>12.0</td>\n",
       "    </tr>\n",
       "    <tr>\n",
       "      <th>84485</th>\n",
       "      <td>2020-08-26 22:00:00</td>\n",
       "      <td>12.0</td>\n",
       "    </tr>\n",
       "    <tr>\n",
       "      <th>84486</th>\n",
       "      <td>2020-08-26 23:00:00</td>\n",
       "      <td>16.0</td>\n",
       "    </tr>\n",
       "    <tr>\n",
       "      <th>84487</th>\n",
       "      <td>2020-08-27 00:00:00</td>\n",
       "      <td>17.0</td>\n",
       "    </tr>\n",
       "    <tr>\n",
       "      <th>84488</th>\n",
       "      <td>2020-08-27 01:00:00</td>\n",
       "      <td>17.0</td>\n",
       "    </tr>\n",
       "  </tbody>\n",
       "</table>\n",
       "<p>84489 rows × 2 columns</p>\n",
       "</div>"
      ],
      "text/plain": [
       "                     time  value\n",
       "0     2010-02-25 12:00:00    3.0\n",
       "1     2010-02-25 13:00:00    6.0\n",
       "2     2010-02-25 14:00:00   10.0\n",
       "3     2010-02-25 15:00:00   14.0\n",
       "4     2010-02-25 16:00:00   18.0\n",
       "...                   ...    ...\n",
       "84484 2020-08-26 21:00:00   12.0\n",
       "84485 2020-08-26 22:00:00   12.0\n",
       "84486 2020-08-26 23:00:00   16.0\n",
       "84487 2020-08-27 00:00:00   17.0\n",
       "84488 2020-08-27 01:00:00   17.0\n",
       "\n",
       "[84489 rows x 2 columns]"
      ]
     },
     "execution_count": 9,
     "metadata": {},
     "output_type": "execute_result"
    }
   ],
   "source": [
    "df_list[0]"
   ]
  },
  {
   "cell_type": "code",
   "execution_count": 10,
   "metadata": {},
   "outputs": [],
   "source": [
    "import matplotlib.pyplot as plt"
   ]
  },
  {
   "cell_type": "code",
   "execution_count": 11,
   "metadata": {},
   "outputs": [],
   "source": [
    "import numpy as np"
   ]
  },
  {
   "cell_type": "code",
   "execution_count": 13,
   "metadata": {},
   "outputs": [],
   "source": [
    "from datetime import datetime "
   ]
  },
  {
   "cell_type": "code",
   "execution_count": 14,
   "metadata": {},
   "outputs": [],
   "source": [
    "split_date = pd.Timestamp('01-01-2018')"
   ]
  },
  {
   "cell_type": "code",
   "execution_count": 15,
   "metadata": {},
   "outputs": [
    {
     "data": {
      "text/plain": [
       "Timestamp('2018-01-01 00:00:00')"
      ]
     },
     "execution_count": 15,
     "metadata": {},
     "output_type": "execute_result"
    }
   ],
   "source": [
    "split_date"
   ]
  },
  {
   "cell_type": "code",
   "execution_count": 16,
   "metadata": {},
   "outputs": [
    {
     "data": {
      "text/html": [
       "<div>\n",
       "<style scoped>\n",
       "    .dataframe tbody tr th:only-of-type {\n",
       "        vertical-align: middle;\n",
       "    }\n",
       "\n",
       "    .dataframe tbody tr th {\n",
       "        vertical-align: top;\n",
       "    }\n",
       "\n",
       "    .dataframe thead th {\n",
       "        text-align: right;\n",
       "    }\n",
       "</style>\n",
       "<table border=\"1\" class=\"dataframe\">\n",
       "  <thead>\n",
       "    <tr style=\"text-align: right;\">\n",
       "      <th></th>\n",
       "      <th>time</th>\n",
       "      <th>value</th>\n",
       "    </tr>\n",
       "  </thead>\n",
       "  <tbody>\n",
       "    <tr>\n",
       "      <th>0</th>\n",
       "      <td>2010-02-25 12:00:00</td>\n",
       "      <td>3.0</td>\n",
       "    </tr>\n",
       "    <tr>\n",
       "      <th>1</th>\n",
       "      <td>2010-02-25 13:00:00</td>\n",
       "      <td>6.0</td>\n",
       "    </tr>\n",
       "    <tr>\n",
       "      <th>2</th>\n",
       "      <td>2010-02-25 14:00:00</td>\n",
       "      <td>10.0</td>\n",
       "    </tr>\n",
       "    <tr>\n",
       "      <th>3</th>\n",
       "      <td>2010-02-25 15:00:00</td>\n",
       "      <td>14.0</td>\n",
       "    </tr>\n",
       "    <tr>\n",
       "      <th>4</th>\n",
       "      <td>2010-02-25 16:00:00</td>\n",
       "      <td>18.0</td>\n",
       "    </tr>\n",
       "    <tr>\n",
       "      <th>...</th>\n",
       "      <td>...</td>\n",
       "      <td>...</td>\n",
       "    </tr>\n",
       "    <tr>\n",
       "      <th>62058</th>\n",
       "      <td>2017-12-31 19:00:00</td>\n",
       "      <td>-32.0</td>\n",
       "    </tr>\n",
       "    <tr>\n",
       "      <th>62059</th>\n",
       "      <td>2017-12-31 20:00:00</td>\n",
       "      <td>-32.0</td>\n",
       "    </tr>\n",
       "    <tr>\n",
       "      <th>62060</th>\n",
       "      <td>2017-12-31 21:00:00</td>\n",
       "      <td>-33.0</td>\n",
       "    </tr>\n",
       "    <tr>\n",
       "      <th>62061</th>\n",
       "      <td>2017-12-31 22:00:00</td>\n",
       "      <td>-33.0</td>\n",
       "    </tr>\n",
       "    <tr>\n",
       "      <th>62062</th>\n",
       "      <td>2017-12-31 23:00:00</td>\n",
       "      <td>-33.0</td>\n",
       "    </tr>\n",
       "  </tbody>\n",
       "</table>\n",
       "<p>62063 rows × 2 columns</p>\n",
       "</div>"
      ],
      "text/plain": [
       "                     time  value\n",
       "0     2010-02-25 12:00:00    3.0\n",
       "1     2010-02-25 13:00:00    6.0\n",
       "2     2010-02-25 14:00:00   10.0\n",
       "3     2010-02-25 15:00:00   14.0\n",
       "4     2010-02-25 16:00:00   18.0\n",
       "...                   ...    ...\n",
       "62058 2017-12-31 19:00:00  -32.0\n",
       "62059 2017-12-31 20:00:00  -32.0\n",
       "62060 2017-12-31 21:00:00  -33.0\n",
       "62061 2017-12-31 22:00:00  -33.0\n",
       "62062 2017-12-31 23:00:00  -33.0\n",
       "\n",
       "[62063 rows x 2 columns]"
      ]
     },
     "execution_count": 16,
     "metadata": {},
     "output_type": "execute_result"
    }
   ],
   "source": [
    "df_list[0][df_list[0]['time'] < split_date]"
   ]
  },
  {
   "cell_type": "code",
   "execution_count": 17,
   "metadata": {},
   "outputs": [],
   "source": [
    "train_value = df_list[0][df_list[0]['time'] < split_date]['value']\n",
    "test_value = df_list[0][df_list[0]['time'] >= split_date]['value']"
   ]
  },
  {
   "cell_type": "code",
   "execution_count": 18,
   "metadata": {},
   "outputs": [
    {
     "data": {
      "text/plain": [
       "<matplotlib.legend.Legend at 0x15c9427dd48>"
      ]
     },
     "execution_count": 18,
     "metadata": {},
     "output_type": "execute_result"
    },
    {
     "data": {
      "image/png": "[encoded data removed]",
      "text/plain": [
       "<Figure size 432x288 with 1 Axes>"
      ]
     },
     "metadata": {
      "needs_background": "light"
     },
     "output_type": "display_data"
    }
   ],
   "source": [
    "ax = train_value.plot()\n",
    "test_value.plot(ax=ax)\n",
    "plt.legend(['train', 'test'])"
   ]
  },
  {
   "cell_type": "code",
   "execution_count": 19,
   "metadata": {},
   "outputs": [],
   "source": [
    "from sklearn.preprocessing import MinMaxScaler"
   ]
  },
  {
   "cell_type": "code",
   "execution_count": 20,
   "metadata": {},
   "outputs": [],
   "source": [
    "sc = MinMaxScaler()"
   ]
  },
  {
   "cell_type": "code",
   "execution_count": 21,
   "metadata": {
    "scrolled": true
   },
   "outputs": [],
   "source": [
    "train_arr = np.array(train_value).reshape(-1,1)"
   ]
  },
  {
   "cell_type": "code",
   "execution_count": 22,
   "metadata": {},
   "outputs": [],
   "source": [
    "test_arr = np.array(test_value).reshape(-1,1)"
   ]
  },
  {
   "cell_type": "code",
   "execution_count": 23,
   "metadata": {},
   "outputs": [],
   "source": [
    "train_sc = sc.fit_transform(train_arr)\n",
    "test_sc = sc.transform(test_arr)"
   ]
  },
  {
   "cell_type": "code",
   "execution_count": 24,
   "metadata": {},
   "outputs": [
    {
     "data": {
      "text/plain": [
       "array([[0.19646799],\n",
       "       [0.20309051],\n",
       "       [0.21192053],\n",
       "       ...,\n",
       "       [0.11699779],\n",
       "       [0.11699779],\n",
       "       [0.11699779]])"
      ]
     },
     "execution_count": 24,
     "metadata": {},
     "output_type": "execute_result"
    }
   ],
   "source": [
    "train_sc"
   ]
  },
  {
   "cell_type": "code",
   "execution_count": 25,
   "metadata": {},
   "outputs": [],
   "source": [
    "train = df_list[0][df_list[0]['time'] < split_date]\n",
    "test = df_list[0][df_list[0]['time'] >= split_date]"
   ]
  },
  {
   "cell_type": "code",
   "execution_count": 26,
   "metadata": {},
   "outputs": [],
   "source": [
    "train = train.set_index('time')\n",
    "test = test.set_index('time')"
   ]
  },
  {
   "cell_type": "code",
   "execution_count": 27,
   "metadata": {},
   "outputs": [
    {
     "data": {
      "text/html": [
       "<div>\n",
       "<style scoped>\n",
       "    .dataframe tbody tr th:only-of-type {\n",
       "        vertical-align: middle;\n",
       "    }\n",
       "\n",
       "    .dataframe tbody tr th {\n",
       "        vertical-align: top;\n",
       "    }\n",
       "\n",
       "    .dataframe thead th {\n",
       "        text-align: right;\n",
       "    }\n",
       "</style>\n",
       "<table border=\"1\" class=\"dataframe\">\n",
       "  <thead>\n",
       "    <tr style=\"text-align: right;\">\n",
       "      <th></th>\n",
       "      <th>value</th>\n",
       "    </tr>\n",
       "    <tr>\n",
       "      <th>time</th>\n",
       "      <th></th>\n",
       "    </tr>\n",
       "  </thead>\n",
       "  <tbody>\n",
       "    <tr>\n",
       "      <th>2010-02-25 12:00:00</th>\n",
       "      <td>3.0</td>\n",
       "    </tr>\n",
       "    <tr>\n",
       "      <th>2010-02-25 13:00:00</th>\n",
       "      <td>6.0</td>\n",
       "    </tr>\n",
       "    <tr>\n",
       "      <th>2010-02-25 14:00:00</th>\n",
       "      <td>10.0</td>\n",
       "    </tr>\n",
       "    <tr>\n",
       "      <th>2010-02-25 15:00:00</th>\n",
       "      <td>14.0</td>\n",
       "    </tr>\n",
       "    <tr>\n",
       "      <th>2010-02-25 16:00:00</th>\n",
       "      <td>18.0</td>\n",
       "    </tr>\n",
       "    <tr>\n",
       "      <th>...</th>\n",
       "      <td>...</td>\n",
       "    </tr>\n",
       "    <tr>\n",
       "      <th>2017-12-31 19:00:00</th>\n",
       "      <td>-32.0</td>\n",
       "    </tr>\n",
       "    <tr>\n",
       "      <th>2017-12-31 20:00:00</th>\n",
       "      <td>-32.0</td>\n",
       "    </tr>\n",
       "    <tr>\n",
       "      <th>2017-12-31 21:00:00</th>\n",
       "      <td>-33.0</td>\n",
       "    </tr>\n",
       "    <tr>\n",
       "      <th>2017-12-31 22:00:00</th>\n",
       "      <td>-33.0</td>\n",
       "    </tr>\n",
       "    <tr>\n",
       "      <th>2017-12-31 23:00:00</th>\n",
       "      <td>-33.0</td>\n",
       "    </tr>\n",
       "  </tbody>\n",
       "</table>\n",
       "<p>62063 rows × 1 columns</p>\n",
       "</div>"
      ],
      "text/plain": [
       "                     value\n",
       "time                      \n",
       "2010-02-25 12:00:00    3.0\n",
       "2010-02-25 13:00:00    6.0\n",
       "2010-02-25 14:00:00   10.0\n",
       "2010-02-25 15:00:00   14.0\n",
       "2010-02-25 16:00:00   18.0\n",
       "...                    ...\n",
       "2017-12-31 19:00:00  -32.0\n",
       "2017-12-31 20:00:00  -32.0\n",
       "2017-12-31 21:00:00  -33.0\n",
       "2017-12-31 22:00:00  -33.0\n",
       "2017-12-31 23:00:00  -33.0\n",
       "\n",
       "[62063 rows x 1 columns]"
      ]
     },
     "execution_count": 27,
     "metadata": {},
     "output_type": "execute_result"
    }
   ],
   "source": [
    "train"
   ]
  },
  {
   "cell_type": "code",
   "execution_count": 28,
   "metadata": {},
   "outputs": [],
   "source": [
    "train_sc_df = pd.DataFrame(train_sc, columns=['std_value'], index=train.index)\n",
    "test_sc_df = pd.DataFrame(test_sc, columns=['std_value'], index=test.index)"
   ]
  },
  {
   "cell_type": "code",
   "execution_count": 29,
   "metadata": {},
   "outputs": [
    {
     "data": {
      "text/html": [
       "<div>\n",
       "<style scoped>\n",
       "    .dataframe tbody tr th:only-of-type {\n",
       "        vertical-align: middle;\n",
       "    }\n",
       "\n",
       "    .dataframe tbody tr th {\n",
       "        vertical-align: top;\n",
       "    }\n",
       "\n",
       "    .dataframe thead th {\n",
       "        text-align: right;\n",
       "    }\n",
       "</style>\n",
       "<table border=\"1\" class=\"dataframe\">\n",
       "  <thead>\n",
       "    <tr style=\"text-align: right;\">\n",
       "      <th></th>\n",
       "      <th>std_value</th>\n",
       "    </tr>\n",
       "    <tr>\n",
       "      <th>time</th>\n",
       "      <th></th>\n",
       "    </tr>\n",
       "  </thead>\n",
       "  <tbody>\n",
       "    <tr>\n",
       "      <th>2010-02-25 12:00:00</th>\n",
       "      <td>0.196468</td>\n",
       "    </tr>\n",
       "    <tr>\n",
       "      <th>2010-02-25 13:00:00</th>\n",
       "      <td>0.203091</td>\n",
       "    </tr>\n",
       "    <tr>\n",
       "      <th>2010-02-25 14:00:00</th>\n",
       "      <td>0.211921</td>\n",
       "    </tr>\n",
       "    <tr>\n",
       "      <th>2010-02-25 15:00:00</th>\n",
       "      <td>0.220751</td>\n",
       "    </tr>\n",
       "    <tr>\n",
       "      <th>2010-02-25 16:00:00</th>\n",
       "      <td>0.229581</td>\n",
       "    </tr>\n",
       "    <tr>\n",
       "      <th>...</th>\n",
       "      <td>...</td>\n",
       "    </tr>\n",
       "    <tr>\n",
       "      <th>2017-12-31 19:00:00</th>\n",
       "      <td>0.119205</td>\n",
       "    </tr>\n",
       "    <tr>\n",
       "      <th>2017-12-31 20:00:00</th>\n",
       "      <td>0.119205</td>\n",
       "    </tr>\n",
       "    <tr>\n",
       "      <th>2017-12-31 21:00:00</th>\n",
       "      <td>0.116998</td>\n",
       "    </tr>\n",
       "    <tr>\n",
       "      <th>2017-12-31 22:00:00</th>\n",
       "      <td>0.116998</td>\n",
       "    </tr>\n",
       "    <tr>\n",
       "      <th>2017-12-31 23:00:00</th>\n",
       "      <td>0.116998</td>\n",
       "    </tr>\n",
       "  </tbody>\n",
       "</table>\n",
       "<p>62063 rows × 1 columns</p>\n",
       "</div>"
      ],
      "text/plain": [
       "                     std_value\n",
       "time                          \n",
       "2010-02-25 12:00:00   0.196468\n",
       "2010-02-25 13:00:00   0.203091\n",
       "2010-02-25 14:00:00   0.211921\n",
       "2010-02-25 15:00:00   0.220751\n",
       "2010-02-25 16:00:00   0.229581\n",
       "...                        ...\n",
       "2017-12-31 19:00:00   0.119205\n",
       "2017-12-31 20:00:00   0.119205\n",
       "2017-12-31 21:00:00   0.116998\n",
       "2017-12-31 22:00:00   0.116998\n",
       "2017-12-31 23:00:00   0.116998\n",
       "\n",
       "[62063 rows x 1 columns]"
      ]
     },
     "execution_count": 29,
     "metadata": {},
     "output_type": "execute_result"
    }
   ],
   "source": [
    "train_sc_df"
   ]
  },
  {
   "cell_type": "code",
   "execution_count": 30,
   "metadata": {},
   "outputs": [],
   "source": [
    "train['std_value'] = train_sc_df['std_value']\n",
    "test['std_value'] = test_sc_df['std_value']"
   ]
  },
  {
   "cell_type": "code",
   "execution_count": 31,
   "metadata": {},
   "outputs": [],
   "source": [
    "train.drop(['value'], axis=1, inplace=True)\n",
    "test.drop(['value'], axis=1, inplace=True)"
   ]
  },
  {
   "cell_type": "code",
   "execution_count": 32,
   "metadata": {},
   "outputs": [
    {
     "data": {
      "text/html": [
       "<div>\n",
       "<style scoped>\n",
       "    .dataframe tbody tr th:only-of-type {\n",
       "        vertical-align: middle;\n",
       "    }\n",
       "\n",
       "    .dataframe tbody tr th {\n",
       "        vertical-align: top;\n",
       "    }\n",
       "\n",
       "    .dataframe thead th {\n",
       "        text-align: right;\n",
       "    }\n",
       "</style>\n",
       "<table border=\"1\" class=\"dataframe\">\n",
       "  <thead>\n",
       "    <tr style=\"text-align: right;\">\n",
       "      <th></th>\n",
       "      <th>std_value</th>\n",
       "    </tr>\n",
       "    <tr>\n",
       "      <th>time</th>\n",
       "      <th></th>\n",
       "    </tr>\n",
       "  </thead>\n",
       "  <tbody>\n",
       "    <tr>\n",
       "      <th>2010-02-25 12:00:00</th>\n",
       "      <td>0.196468</td>\n",
       "    </tr>\n",
       "    <tr>\n",
       "      <th>2010-02-25 13:00:00</th>\n",
       "      <td>0.203091</td>\n",
       "    </tr>\n",
       "    <tr>\n",
       "      <th>2010-02-25 14:00:00</th>\n",
       "      <td>0.211921</td>\n",
       "    </tr>\n",
       "    <tr>\n",
       "      <th>2010-02-25 15:00:00</th>\n",
       "      <td>0.220751</td>\n",
       "    </tr>\n",
       "    <tr>\n",
       "      <th>2010-02-25 16:00:00</th>\n",
       "      <td>0.229581</td>\n",
       "    </tr>\n",
       "    <tr>\n",
       "      <th>...</th>\n",
       "      <td>...</td>\n",
       "    </tr>\n",
       "    <tr>\n",
       "      <th>2017-12-31 19:00:00</th>\n",
       "      <td>0.119205</td>\n",
       "    </tr>\n",
       "    <tr>\n",
       "      <th>2017-12-31 20:00:00</th>\n",
       "      <td>0.119205</td>\n",
       "    </tr>\n",
       "    <tr>\n",
       "      <th>2017-12-31 21:00:00</th>\n",
       "      <td>0.116998</td>\n",
       "    </tr>\n",
       "    <tr>\n",
       "      <th>2017-12-31 22:00:00</th>\n",
       "      <td>0.116998</td>\n",
       "    </tr>\n",
       "    <tr>\n",
       "      <th>2017-12-31 23:00:00</th>\n",
       "      <td>0.116998</td>\n",
       "    </tr>\n",
       "  </tbody>\n",
       "</table>\n",
       "<p>62063 rows × 1 columns</p>\n",
       "</div>"
      ],
      "text/plain": [
       "                     std_value\n",
       "time                          \n",
       "2010-02-25 12:00:00   0.196468\n",
       "2010-02-25 13:00:00   0.203091\n",
       "2010-02-25 14:00:00   0.211921\n",
       "2010-02-25 15:00:00   0.220751\n",
       "2010-02-25 16:00:00   0.229581\n",
       "...                        ...\n",
       "2017-12-31 19:00:00   0.119205\n",
       "2017-12-31 20:00:00   0.119205\n",
       "2017-12-31 21:00:00   0.116998\n",
       "2017-12-31 22:00:00   0.116998\n",
       "2017-12-31 23:00:00   0.116998\n",
       "\n",
       "[62063 rows x 1 columns]"
      ]
     },
     "execution_count": 32,
     "metadata": {},
     "output_type": "execute_result"
    }
   ],
   "source": [
    "train"
   ]
  },
  {
   "cell_type": "code",
   "execution_count": 33,
   "metadata": {},
   "outputs": [],
   "source": [
    "for s in range(12):\n",
    "    train['shift_{}'.format(s)] = train['std_value'].shift(s)\n",
    "    test['shift_{}'.format(s)] = test['std_value'].shift(s)"
   ]
  },
  {
   "cell_type": "code",
   "execution_count": 34,
   "metadata": {},
   "outputs": [
    {
     "data": {
      "text/html": [
       "<div>\n",
       "<style scoped>\n",
       "    .dataframe tbody tr th:only-of-type {\n",
       "        vertical-align: middle;\n",
       "    }\n",
       "\n",
       "    .dataframe tbody tr th {\n",
       "        vertical-align: top;\n",
       "    }\n",
       "\n",
       "    .dataframe thead th {\n",
       "        text-align: right;\n",
       "    }\n",
       "</style>\n",
       "<table border=\"1\" class=\"dataframe\">\n",
       "  <thead>\n",
       "    <tr style=\"text-align: right;\">\n",
       "      <th></th>\n",
       "      <th>std_value</th>\n",
       "      <th>shift_0</th>\n",
       "      <th>shift_1</th>\n",
       "      <th>shift_2</th>\n",
       "      <th>shift_3</th>\n",
       "      <th>shift_4</th>\n",
       "      <th>shift_5</th>\n",
       "      <th>shift_6</th>\n",
       "      <th>shift_7</th>\n",
       "      <th>shift_8</th>\n",
       "      <th>shift_9</th>\n",
       "      <th>shift_10</th>\n",
       "      <th>shift_11</th>\n",
       "    </tr>\n",
       "    <tr>\n",
       "      <th>time</th>\n",
       "      <th></th>\n",
       "      <th></th>\n",
       "      <th></th>\n",
       "      <th></th>\n",
       "      <th></th>\n",
       "      <th></th>\n",
       "      <th></th>\n",
       "      <th></th>\n",
       "      <th></th>\n",
       "      <th></th>\n",
       "      <th></th>\n",
       "      <th></th>\n",
       "      <th></th>\n",
       "    </tr>\n",
       "  </thead>\n",
       "  <tbody>\n",
       "    <tr>\n",
       "      <th>2010-02-25 12:00:00</th>\n",
       "      <td>0.196468</td>\n",
       "      <td>0.196468</td>\n",
       "      <td>NaN</td>\n",
       "      <td>NaN</td>\n",
       "      <td>NaN</td>\n",
       "      <td>NaN</td>\n",
       "      <td>NaN</td>\n",
       "      <td>NaN</td>\n",
       "      <td>NaN</td>\n",
       "      <td>NaN</td>\n",
       "      <td>NaN</td>\n",
       "      <td>NaN</td>\n",
       "      <td>NaN</td>\n",
       "    </tr>\n",
       "    <tr>\n",
       "      <th>2010-02-25 13:00:00</th>\n",
       "      <td>0.203091</td>\n",
       "      <td>0.203091</td>\n",
       "      <td>0.196468</td>\n",
       "      <td>NaN</td>\n",
       "      <td>NaN</td>\n",
       "      <td>NaN</td>\n",
       "      <td>NaN</td>\n",
       "      <td>NaN</td>\n",
       "      <td>NaN</td>\n",
       "      <td>NaN</td>\n",
       "      <td>NaN</td>\n",
       "      <td>NaN</td>\n",
       "      <td>NaN</td>\n",
       "    </tr>\n",
       "    <tr>\n",
       "      <th>2010-02-25 14:00:00</th>\n",
       "      <td>0.211921</td>\n",
       "      <td>0.211921</td>\n",
       "      <td>0.203091</td>\n",
       "      <td>0.196468</td>\n",
       "      <td>NaN</td>\n",
       "      <td>NaN</td>\n",
       "      <td>NaN</td>\n",
       "      <td>NaN</td>\n",
       "      <td>NaN</td>\n",
       "      <td>NaN</td>\n",
       "      <td>NaN</td>\n",
       "      <td>NaN</td>\n",
       "      <td>NaN</td>\n",
       "    </tr>\n",
       "    <tr>\n",
       "      <th>2010-02-25 15:00:00</th>\n",
       "      <td>0.220751</td>\n",
       "      <td>0.220751</td>\n",
       "      <td>0.211921</td>\n",
       "      <td>0.203091</td>\n",
       "      <td>0.196468</td>\n",
       "      <td>NaN</td>\n",
       "      <td>NaN</td>\n",
       "      <td>NaN</td>\n",
       "      <td>NaN</td>\n",
       "      <td>NaN</td>\n",
       "      <td>NaN</td>\n",
       "      <td>NaN</td>\n",
       "      <td>NaN</td>\n",
       "    </tr>\n",
       "    <tr>\n",
       "      <th>2010-02-25 16:00:00</th>\n",
       "      <td>0.229581</td>\n",
       "      <td>0.229581</td>\n",
       "      <td>0.220751</td>\n",
       "      <td>0.211921</td>\n",
       "      <td>0.203091</td>\n",
       "      <td>0.196468</td>\n",
       "      <td>NaN</td>\n",
       "      <td>NaN</td>\n",
       "      <td>NaN</td>\n",
       "      <td>NaN</td>\n",
       "      <td>NaN</td>\n",
       "      <td>NaN</td>\n",
       "      <td>NaN</td>\n",
       "    </tr>\n",
       "    <tr>\n",
       "      <th>2010-02-25 17:00:00</th>\n",
       "      <td>0.238411</td>\n",
       "      <td>0.238411</td>\n",
       "      <td>0.229581</td>\n",
       "      <td>0.220751</td>\n",
       "      <td>0.211921</td>\n",
       "      <td>0.203091</td>\n",
       "      <td>0.196468</td>\n",
       "      <td>NaN</td>\n",
       "      <td>NaN</td>\n",
       "      <td>NaN</td>\n",
       "      <td>NaN</td>\n",
       "      <td>NaN</td>\n",
       "      <td>NaN</td>\n",
       "    </tr>\n",
       "    <tr>\n",
       "      <th>2010-02-25 18:00:00</th>\n",
       "      <td>0.245033</td>\n",
       "      <td>0.245033</td>\n",
       "      <td>0.238411</td>\n",
       "      <td>0.229581</td>\n",
       "      <td>0.220751</td>\n",
       "      <td>0.211921</td>\n",
       "      <td>0.203091</td>\n",
       "      <td>0.196468</td>\n",
       "      <td>NaN</td>\n",
       "      <td>NaN</td>\n",
       "      <td>NaN</td>\n",
       "      <td>NaN</td>\n",
       "      <td>NaN</td>\n",
       "    </tr>\n",
       "    <tr>\n",
       "      <th>2010-02-25 19:00:00</th>\n",
       "      <td>0.249448</td>\n",
       "      <td>0.249448</td>\n",
       "      <td>0.245033</td>\n",
       "      <td>0.238411</td>\n",
       "      <td>0.229581</td>\n",
       "      <td>0.220751</td>\n",
       "      <td>0.211921</td>\n",
       "      <td>0.203091</td>\n",
       "      <td>0.196468</td>\n",
       "      <td>NaN</td>\n",
       "      <td>NaN</td>\n",
       "      <td>NaN</td>\n",
       "      <td>NaN</td>\n",
       "    </tr>\n",
       "    <tr>\n",
       "      <th>2010-02-25 20:00:00</th>\n",
       "      <td>0.249448</td>\n",
       "      <td>0.249448</td>\n",
       "      <td>0.249448</td>\n",
       "      <td>0.245033</td>\n",
       "      <td>0.238411</td>\n",
       "      <td>0.229581</td>\n",
       "      <td>0.220751</td>\n",
       "      <td>0.211921</td>\n",
       "      <td>0.203091</td>\n",
       "      <td>0.196468</td>\n",
       "      <td>NaN</td>\n",
       "      <td>NaN</td>\n",
       "      <td>NaN</td>\n",
       "    </tr>\n",
       "    <tr>\n",
       "      <th>2010-02-25 21:00:00</th>\n",
       "      <td>0.251656</td>\n",
       "      <td>0.251656</td>\n",
       "      <td>0.249448</td>\n",
       "      <td>0.249448</td>\n",
       "      <td>0.245033</td>\n",
       "      <td>0.238411</td>\n",
       "      <td>0.229581</td>\n",
       "      <td>0.220751</td>\n",
       "      <td>0.211921</td>\n",
       "      <td>0.203091</td>\n",
       "      <td>0.196468</td>\n",
       "      <td>NaN</td>\n",
       "      <td>NaN</td>\n",
       "    </tr>\n",
       "  </tbody>\n",
       "</table>\n",
       "</div>"
      ],
      "text/plain": [
       "                     std_value   shift_0   shift_1   shift_2   shift_3  \\\n",
       "time                                                                     \n",
       "2010-02-25 12:00:00   0.196468  0.196468       NaN       NaN       NaN   \n",
       "2010-02-25 13:00:00   0.203091  0.203091  0.196468       NaN       NaN   \n",
       "2010-02-25 14:00:00   0.211921  0.211921  0.203091  0.196468       NaN   \n",
       "2010-02-25 15:00:00   0.220751  0.220751  0.211921  0.203091  0.196468   \n",
       "2010-02-25 16:00:00   0.229581  0.229581  0.220751  0.211921  0.203091   \n",
       "2010-02-25 17:00:00   0.238411  0.238411  0.229581  0.220751  0.211921   \n",
       "2010-02-25 18:00:00   0.245033  0.245033  0.238411  0.229581  0.220751   \n",
       "2010-02-25 19:00:00   0.249448  0.249448  0.245033  0.238411  0.229581   \n",
       "2010-02-25 20:00:00   0.249448  0.249448  0.249448  0.245033  0.238411   \n",
       "2010-02-25 21:00:00   0.251656  0.251656  0.249448  0.249448  0.245033   \n",
       "\n",
       "                      shift_4   shift_5   shift_6   shift_7   shift_8  \\\n",
       "time                                                                    \n",
       "2010-02-25 12:00:00       NaN       NaN       NaN       NaN       NaN   \n",
       "2010-02-25 13:00:00       NaN       NaN       NaN       NaN       NaN   \n",
       "2010-02-25 14:00:00       NaN       NaN       NaN       NaN       NaN   \n",
       "2010-02-25 15:00:00       NaN       NaN       NaN       NaN       NaN   \n",
       "2010-02-25 16:00:00  0.196468       NaN       NaN       NaN       NaN   \n",
       "2010-02-25 17:00:00  0.203091  0.196468       NaN       NaN       NaN   \n",
       "2010-02-25 18:00:00  0.211921  0.203091  0.196468       NaN       NaN   \n",
       "2010-02-25 19:00:00  0.220751  0.211921  0.203091  0.196468       NaN   \n",
       "2010-02-25 20:00:00  0.229581  0.220751  0.211921  0.203091  0.196468   \n",
       "2010-02-25 21:00:00  0.238411  0.229581  0.220751  0.211921  0.203091   \n",
       "\n",
       "                      shift_9  shift_10  shift_11  \n",
       "time                                               \n",
       "2010-02-25 12:00:00       NaN       NaN       NaN  \n",
       "2010-02-25 13:00:00       NaN       NaN       NaN  \n",
       "2010-02-25 14:00:00       NaN       NaN       NaN  \n",
       "2010-02-25 15:00:00       NaN       NaN       NaN  \n",
       "2010-02-25 16:00:00       NaN       NaN       NaN  \n",
       "2010-02-25 17:00:00       NaN       NaN       NaN  \n",
       "2010-02-25 18:00:00       NaN       NaN       NaN  \n",
       "2010-02-25 19:00:00       NaN       NaN       NaN  \n",
       "2010-02-25 20:00:00       NaN       NaN       NaN  \n",
       "2010-02-25 21:00:00  0.196468       NaN       NaN  "
      ]
     },
     "execution_count": 34,
     "metadata": {},
     "output_type": "execute_result"
    }
   ],
   "source": [
    "train.head(10)"
   ]
  },
  {
   "cell_type": "code",
   "execution_count": 35,
   "metadata": {},
   "outputs": [],
   "source": [
    "X_train = train.dropna().drop('std_value', axis=1)\n",
    "y_train = train.dropna()[['std_value']]\n",
    "\n",
    "X_test = test.dropna().drop('std_value', axis=1)\n",
    "y_test = test.dropna()[['std_value']]"
   ]
  },
  {
   "cell_type": "code",
   "execution_count": 36,
   "metadata": {},
   "outputs": [
    {
     "data": {
      "text/html": [
       "<div>\n",
       "<style scoped>\n",
       "    .dataframe tbody tr th:only-of-type {\n",
       "        vertical-align: middle;\n",
       "    }\n",
       "\n",
       "    .dataframe tbody tr th {\n",
       "        vertical-align: top;\n",
       "    }\n",
       "\n",
       "    .dataframe thead th {\n",
       "        text-align: right;\n",
       "    }\n",
       "</style>\n",
       "<table border=\"1\" class=\"dataframe\">\n",
       "  <thead>\n",
       "    <tr style=\"text-align: right;\">\n",
       "      <th></th>\n",
       "      <th>shift_0</th>\n",
       "      <th>shift_1</th>\n",
       "      <th>shift_2</th>\n",
       "      <th>shift_3</th>\n",
       "      <th>shift_4</th>\n",
       "      <th>shift_5</th>\n",
       "      <th>shift_6</th>\n",
       "      <th>shift_7</th>\n",
       "      <th>shift_8</th>\n",
       "      <th>shift_9</th>\n",
       "      <th>shift_10</th>\n",
       "      <th>shift_11</th>\n",
       "    </tr>\n",
       "    <tr>\n",
       "      <th>time</th>\n",
       "      <th></th>\n",
       "      <th></th>\n",
       "      <th></th>\n",
       "      <th></th>\n",
       "      <th></th>\n",
       "      <th></th>\n",
       "      <th></th>\n",
       "      <th></th>\n",
       "      <th></th>\n",
       "      <th></th>\n",
       "      <th></th>\n",
       "      <th></th>\n",
       "    </tr>\n",
       "  </thead>\n",
       "  <tbody>\n",
       "    <tr>\n",
       "      <th>2010-02-25 23:00:00</th>\n",
       "      <td>0.251656</td>\n",
       "      <td>0.251656</td>\n",
       "      <td>0.251656</td>\n",
       "      <td>0.249448</td>\n",
       "      <td>0.249448</td>\n",
       "      <td>0.245033</td>\n",
       "      <td>0.238411</td>\n",
       "      <td>0.229581</td>\n",
       "      <td>0.220751</td>\n",
       "      <td>0.211921</td>\n",
       "      <td>0.203091</td>\n",
       "      <td>0.196468</td>\n",
       "    </tr>\n",
       "    <tr>\n",
       "      <th>2010-02-26 00:00:00</th>\n",
       "      <td>0.249448</td>\n",
       "      <td>0.251656</td>\n",
       "      <td>0.251656</td>\n",
       "      <td>0.251656</td>\n",
       "      <td>0.249448</td>\n",
       "      <td>0.249448</td>\n",
       "      <td>0.245033</td>\n",
       "      <td>0.238411</td>\n",
       "      <td>0.229581</td>\n",
       "      <td>0.220751</td>\n",
       "      <td>0.211921</td>\n",
       "      <td>0.203091</td>\n",
       "    </tr>\n",
       "    <tr>\n",
       "      <th>2010-02-26 01:00:00</th>\n",
       "      <td>0.247241</td>\n",
       "      <td>0.249448</td>\n",
       "      <td>0.251656</td>\n",
       "      <td>0.251656</td>\n",
       "      <td>0.251656</td>\n",
       "      <td>0.249448</td>\n",
       "      <td>0.249448</td>\n",
       "      <td>0.245033</td>\n",
       "      <td>0.238411</td>\n",
       "      <td>0.229581</td>\n",
       "      <td>0.220751</td>\n",
       "      <td>0.211921</td>\n",
       "    </tr>\n",
       "    <tr>\n",
       "      <th>2010-02-26 02:00:00</th>\n",
       "      <td>0.245033</td>\n",
       "      <td>0.247241</td>\n",
       "      <td>0.249448</td>\n",
       "      <td>0.251656</td>\n",
       "      <td>0.251656</td>\n",
       "      <td>0.251656</td>\n",
       "      <td>0.249448</td>\n",
       "      <td>0.249448</td>\n",
       "      <td>0.245033</td>\n",
       "      <td>0.238411</td>\n",
       "      <td>0.229581</td>\n",
       "      <td>0.220751</td>\n",
       "    </tr>\n",
       "    <tr>\n",
       "      <th>2010-02-26 03:00:00</th>\n",
       "      <td>0.242826</td>\n",
       "      <td>0.245033</td>\n",
       "      <td>0.247241</td>\n",
       "      <td>0.249448</td>\n",
       "      <td>0.251656</td>\n",
       "      <td>0.251656</td>\n",
       "      <td>0.251656</td>\n",
       "      <td>0.249448</td>\n",
       "      <td>0.249448</td>\n",
       "      <td>0.245033</td>\n",
       "      <td>0.238411</td>\n",
       "      <td>0.229581</td>\n",
       "    </tr>\n",
       "    <tr>\n",
       "      <th>2010-02-26 04:00:00</th>\n",
       "      <td>0.240618</td>\n",
       "      <td>0.242826</td>\n",
       "      <td>0.245033</td>\n",
       "      <td>0.247241</td>\n",
       "      <td>0.249448</td>\n",
       "      <td>0.251656</td>\n",
       "      <td>0.251656</td>\n",
       "      <td>0.251656</td>\n",
       "      <td>0.249448</td>\n",
       "      <td>0.249448</td>\n",
       "      <td>0.245033</td>\n",
       "      <td>0.238411</td>\n",
       "    </tr>\n",
       "    <tr>\n",
       "      <th>2010-02-26 05:00:00</th>\n",
       "      <td>0.238411</td>\n",
       "      <td>0.240618</td>\n",
       "      <td>0.242826</td>\n",
       "      <td>0.245033</td>\n",
       "      <td>0.247241</td>\n",
       "      <td>0.249448</td>\n",
       "      <td>0.251656</td>\n",
       "      <td>0.251656</td>\n",
       "      <td>0.251656</td>\n",
       "      <td>0.249448</td>\n",
       "      <td>0.249448</td>\n",
       "      <td>0.245033</td>\n",
       "    </tr>\n",
       "    <tr>\n",
       "      <th>2010-02-26 06:00:00</th>\n",
       "      <td>0.236203</td>\n",
       "      <td>0.238411</td>\n",
       "      <td>0.240618</td>\n",
       "      <td>0.242826</td>\n",
       "      <td>0.245033</td>\n",
       "      <td>0.247241</td>\n",
       "      <td>0.249448</td>\n",
       "      <td>0.251656</td>\n",
       "      <td>0.251656</td>\n",
       "      <td>0.251656</td>\n",
       "      <td>0.249448</td>\n",
       "      <td>0.249448</td>\n",
       "    </tr>\n",
       "    <tr>\n",
       "      <th>2010-02-26 07:00:00</th>\n",
       "      <td>0.233996</td>\n",
       "      <td>0.236203</td>\n",
       "      <td>0.238411</td>\n",
       "      <td>0.240618</td>\n",
       "      <td>0.242826</td>\n",
       "      <td>0.245033</td>\n",
       "      <td>0.247241</td>\n",
       "      <td>0.249448</td>\n",
       "      <td>0.251656</td>\n",
       "      <td>0.251656</td>\n",
       "      <td>0.251656</td>\n",
       "      <td>0.249448</td>\n",
       "    </tr>\n",
       "    <tr>\n",
       "      <th>2010-02-26 08:00:00</th>\n",
       "      <td>0.231788</td>\n",
       "      <td>0.233996</td>\n",
       "      <td>0.236203</td>\n",
       "      <td>0.238411</td>\n",
       "      <td>0.240618</td>\n",
       "      <td>0.242826</td>\n",
       "      <td>0.245033</td>\n",
       "      <td>0.247241</td>\n",
       "      <td>0.249448</td>\n",
       "      <td>0.251656</td>\n",
       "      <td>0.251656</td>\n",
       "      <td>0.251656</td>\n",
       "    </tr>\n",
       "  </tbody>\n",
       "</table>\n",
       "</div>"
      ],
      "text/plain": [
       "                      shift_0   shift_1   shift_2   shift_3   shift_4  \\\n",
       "time                                                                    \n",
       "2010-02-25 23:00:00  0.251656  0.251656  0.251656  0.249448  0.249448   \n",
       "2010-02-26 00:00:00  0.249448  0.251656  0.251656  0.251656  0.249448   \n",
       "2010-02-26 01:00:00  0.247241  0.249448  0.251656  0.251656  0.251656   \n",
       "2010-02-26 02:00:00  0.245033  0.247241  0.249448  0.251656  0.251656   \n",
       "2010-02-26 03:00:00  0.242826  0.245033  0.247241  0.249448  0.251656   \n",
       "2010-02-26 04:00:00  0.240618  0.242826  0.245033  0.247241  0.249448   \n",
       "2010-02-26 05:00:00  0.238411  0.240618  0.242826  0.245033  0.247241   \n",
       "2010-02-26 06:00:00  0.236203  0.238411  0.240618  0.242826  0.245033   \n",
       "2010-02-26 07:00:00  0.233996  0.236203  0.238411  0.240618  0.242826   \n",
       "2010-02-26 08:00:00  0.231788  0.233996  0.236203  0.238411  0.240618   \n",
       "\n",
       "                      shift_5   shift_6   shift_7   shift_8   shift_9  \\\n",
       "time                                                                    \n",
       "2010-02-25 23:00:00  0.245033  0.238411  0.229581  0.220751  0.211921   \n",
       "2010-02-26 00:00:00  0.249448  0.245033  0.238411  0.229581  0.220751   \n",
       "2010-02-26 01:00:00  0.249448  0.249448  0.245033  0.238411  0.229581   \n",
       "2010-02-26 02:00:00  0.251656  0.249448  0.249448  0.245033  0.238411   \n",
       "2010-02-26 03:00:00  0.251656  0.251656  0.249448  0.249448  0.245033   \n",
       "2010-02-26 04:00:00  0.251656  0.251656  0.251656  0.249448  0.249448   \n",
       "2010-02-26 05:00:00  0.249448  0.251656  0.251656  0.251656  0.249448   \n",
       "2010-02-26 06:00:00  0.247241  0.249448  0.251656  0.251656  0.251656   \n",
       "2010-02-26 07:00:00  0.245033  0.247241  0.249448  0.251656  0.251656   \n",
       "2010-02-26 08:00:00  0.242826  0.245033  0.247241  0.249448  0.251656   \n",
       "\n",
       "                     shift_10  shift_11  \n",
       "time                                     \n",
       "2010-02-25 23:00:00  0.203091  0.196468  \n",
       "2010-02-26 00:00:00  0.211921  0.203091  \n",
       "2010-02-26 01:00:00  0.220751  0.211921  \n",
       "2010-02-26 02:00:00  0.229581  0.220751  \n",
       "2010-02-26 03:00:00  0.238411  0.229581  \n",
       "2010-02-26 04:00:00  0.245033  0.238411  \n",
       "2010-02-26 05:00:00  0.249448  0.245033  \n",
       "2010-02-26 06:00:00  0.249448  0.249448  \n",
       "2010-02-26 07:00:00  0.251656  0.249448  \n",
       "2010-02-26 08:00:00  0.251656  0.251656  "
      ]
     },
     "execution_count": 36,
     "metadata": {},
     "output_type": "execute_result"
    }
   ],
   "source": [
    "X_train.head(10)"
   ]
  },
  {
   "cell_type": "code",
   "execution_count": 37,
   "metadata": {},
   "outputs": [
    {
     "data": {
      "text/html": [
       "<div>\n",
       "<style scoped>\n",
       "    .dataframe tbody tr th:only-of-type {\n",
       "        vertical-align: middle;\n",
       "    }\n",
       "\n",
       "    .dataframe tbody tr th {\n",
       "        vertical-align: top;\n",
       "    }\n",
       "\n",
       "    .dataframe thead th {\n",
       "        text-align: right;\n",
       "    }\n",
       "</style>\n",
       "<table border=\"1\" class=\"dataframe\">\n",
       "  <thead>\n",
       "    <tr style=\"text-align: right;\">\n",
       "      <th></th>\n",
       "      <th>std_value</th>\n",
       "    </tr>\n",
       "    <tr>\n",
       "      <th>time</th>\n",
       "      <th></th>\n",
       "    </tr>\n",
       "  </thead>\n",
       "  <tbody>\n",
       "    <tr>\n",
       "      <th>2010-02-25 23:00:00</th>\n",
       "      <td>0.251656</td>\n",
       "    </tr>\n",
       "    <tr>\n",
       "      <th>2010-02-26 00:00:00</th>\n",
       "      <td>0.249448</td>\n",
       "    </tr>\n",
       "    <tr>\n",
       "      <th>2010-02-26 01:00:00</th>\n",
       "      <td>0.247241</td>\n",
       "    </tr>\n",
       "    <tr>\n",
       "      <th>2010-02-26 02:00:00</th>\n",
       "      <td>0.245033</td>\n",
       "    </tr>\n",
       "    <tr>\n",
       "      <th>2010-02-26 03:00:00</th>\n",
       "      <td>0.242826</td>\n",
       "    </tr>\n",
       "    <tr>\n",
       "      <th>...</th>\n",
       "      <td>...</td>\n",
       "    </tr>\n",
       "    <tr>\n",
       "      <th>2017-12-31 19:00:00</th>\n",
       "      <td>0.119205</td>\n",
       "    </tr>\n",
       "    <tr>\n",
       "      <th>2017-12-31 20:00:00</th>\n",
       "      <td>0.119205</td>\n",
       "    </tr>\n",
       "    <tr>\n",
       "      <th>2017-12-31 21:00:00</th>\n",
       "      <td>0.116998</td>\n",
       "    </tr>\n",
       "    <tr>\n",
       "      <th>2017-12-31 22:00:00</th>\n",
       "      <td>0.116998</td>\n",
       "    </tr>\n",
       "    <tr>\n",
       "      <th>2017-12-31 23:00:00</th>\n",
       "      <td>0.116998</td>\n",
       "    </tr>\n",
       "  </tbody>\n",
       "</table>\n",
       "<p>62052 rows × 1 columns</p>\n",
       "</div>"
      ],
      "text/plain": [
       "                     std_value\n",
       "time                          \n",
       "2010-02-25 23:00:00   0.251656\n",
       "2010-02-26 00:00:00   0.249448\n",
       "2010-02-26 01:00:00   0.247241\n",
       "2010-02-26 02:00:00   0.245033\n",
       "2010-02-26 03:00:00   0.242826\n",
       "...                        ...\n",
       "2017-12-31 19:00:00   0.119205\n",
       "2017-12-31 20:00:00   0.119205\n",
       "2017-12-31 21:00:00   0.116998\n",
       "2017-12-31 22:00:00   0.116998\n",
       "2017-12-31 23:00:00   0.116998\n",
       "\n",
       "[62052 rows x 1 columns]"
      ]
     },
     "execution_count": 37,
     "metadata": {},
     "output_type": "execute_result"
    }
   ],
   "source": [
    "y_train"
   ]
  },
  {
   "cell_type": "code",
   "execution_count": 38,
   "metadata": {},
   "outputs": [
    {
     "name": "stdout",
     "output_type": "stream",
     "text": [
      "<class 'pandas.core.frame.DataFrame'>\n"
     ]
    }
   ],
   "source": [
    "print(type(X_train))"
   ]
  },
  {
   "cell_type": "code",
   "execution_count": 39,
   "metadata": {},
   "outputs": [
    {
     "name": "stdout",
     "output_type": "stream",
     "text": [
      "<class 'numpy.ndarray'>\n"
     ]
    }
   ],
   "source": [
    "X_train = X_train.values\n",
    "print(type(X_train))"
   ]
  },
  {
   "cell_type": "code",
   "execution_count": 40,
   "metadata": {},
   "outputs": [],
   "source": [
    "X_test= X_test.values\n",
    "y_train = y_train.values\n",
    "y_test = y_test.values"
   ]
  },
  {
   "cell_type": "code",
   "execution_count": 41,
   "metadata": {},
   "outputs": [
    {
     "name": "stdout",
     "output_type": "stream",
     "text": [
      "(62052, 12)\n",
      "(62052, 1)\n"
     ]
    }
   ],
   "source": [
    "print(X_train.shape)\n",
    "print(y_train.shape)"
   ]
  },
  {
   "cell_type": "code",
   "execution_count": 42,
   "metadata": {},
   "outputs": [
    {
     "name": "stdout",
     "output_type": "stream",
     "text": [
      "최종 DATA\n",
      "(62052, 12, 1)\n",
      "[[[0.25165563]\n",
      "  [0.25165563]\n",
      "  [0.25165563]\n",
      "  ...\n",
      "  [0.21192053]\n",
      "  [0.20309051]\n",
      "  [0.19646799]]\n",
      "\n",
      " [[0.24944812]\n",
      "  [0.25165563]\n",
      "  [0.25165563]\n",
      "  ...\n",
      "  [0.22075055]\n",
      "  [0.21192053]\n",
      "  [0.20309051]]\n",
      "\n",
      " [[0.24724062]\n",
      "  [0.24944812]\n",
      "  [0.25165563]\n",
      "  ...\n",
      "  [0.22958057]\n",
      "  [0.22075055]\n",
      "  [0.21192053]]\n",
      "\n",
      " ...\n",
      "\n",
      " [[0.11699779]\n",
      "  [0.1192053 ]\n",
      "  [0.1192053 ]\n",
      "  ...\n",
      "  [0.12362031]\n",
      "  [0.12362031]\n",
      "  [0.12362031]]\n",
      "\n",
      " [[0.11699779]\n",
      "  [0.11699779]\n",
      "  [0.1192053 ]\n",
      "  ...\n",
      "  [0.12362031]\n",
      "  [0.12362031]\n",
      "  [0.12362031]]\n",
      "\n",
      " [[0.11699779]\n",
      "  [0.11699779]\n",
      "  [0.11699779]\n",
      "  ...\n",
      "  [0.12362031]\n",
      "  [0.12362031]\n",
      "  [0.12362031]]]\n",
      "[[0.25165563]\n",
      " [0.24944812]\n",
      " [0.24724062]\n",
      " ...\n",
      " [0.11699779]\n",
      " [0.11699779]\n",
      " [0.11699779]]\n"
     ]
    }
   ],
   "source": [
    "X_train_t = X_train.reshape(X_train.shape[0], 12, 1)\n",
    "X_test_t = X_test.reshape(X_test.shape[0], 12, 1)\n",
    "\n",
    "print(\"최종 DATA\")\n",
    "print(X_train_t.shape)\n",
    "print(X_train_t)\n",
    "print(y_train)"
   ]
  },
  {
   "cell_type": "code",
   "execution_count": 43,
   "metadata": {},
   "outputs": [],
   "source": [
    "from keras.layers import SimpleRNN\n",
    "from keras.layers import GRU\n",
    "from keras.models import Sequential\n",
    "from keras.layers import Dense\n",
    "import keras.backend as K\n",
    "from keras.callbacks import EarlyStopping"
   ]
  },
  {
   "cell_type": "code",
   "execution_count": 44,
   "metadata": {},
   "outputs": [],
   "source": [
    "K.clear_session()"
   ]
  },
  {
   "cell_type": "code",
   "execution_count": 45,
   "metadata": {},
   "outputs": [
    {
     "name": "stdout",
     "output_type": "stream",
     "text": [
      "Model: \"sequential\"\n",
      "_________________________________________________________________\n",
      "Layer (type)                 Output Shape              Param #   \n",
      "=================================================================\n",
      "gru (GRU)                    (None, 20)                1380      \n",
      "_________________________________________________________________\n",
      "dense (Dense)                (None, 1)                 21        \n",
      "=================================================================\n",
      "Total params: 1,401\n",
      "Trainable params: 1,401\n",
      "Non-trainable params: 0\n",
      "_________________________________________________________________\n"
     ]
    }
   ],
   "source": [
    "model = Sequential() # Sequeatial Model \n",
    "model.add(GRU(20, input_shape=(12, 1))) # (timestep, feature) \n",
    "model.add(Dense(1)) # output = 1 \n",
    "model.compile(loss='mean_squared_error', optimizer='adam') \n",
    "model.summary()"
   ]
  },
  {
   "cell_type": "code",
   "execution_count": 46,
   "metadata": {},
   "outputs": [],
   "source": [
    "early_stop = EarlyStopping(monitor='loss', patience=1, verbose=1)"
   ]
  },
  {
   "cell_type": "code",
   "execution_count": 47,
   "metadata": {},
   "outputs": [
    {
     "name": "stdout",
     "output_type": "stream",
     "text": [
      "Epoch 1/100\n",
      "2069/2069 [==============================] - 9s 4ms/step - loss: 7.1237e-04\n",
      "Epoch 2/100\n",
      "2069/2069 [==============================] - 10s 5ms/step - loss: 9.9242e-05\n",
      "Epoch 3/100\n",
      "2069/2069 [==============================] - 10s 5ms/step - loss: 7.5553e-05\n",
      "Epoch 4/100\n",
      "2069/2069 [==============================] - 10s 5ms/step - loss: 6.2249e-05\n",
      "Epoch 5/100\n",
      "2069/2069 [==============================] - 10s 5ms/step - loss: 4.8329e-05\n",
      "Epoch 6/100\n",
      "2069/2069 [==============================] - 12s 6ms/step - loss: 4.0137e-05\n",
      "Epoch 7/100\n",
      "2069/2069 [==============================] - 18s 9ms/step - loss: 3.5359e-05\n",
      "Epoch 8/100\n",
      "2069/2069 [==============================] - 20s 10ms/step - loss: 2.6037e-05\n",
      "Epoch 9/100\n",
      "2069/2069 [==============================] - 23s 11ms/step - loss: 2.2237e-05\n",
      "Epoch 10/100\n",
      "2069/2069 [==============================] - 23s 11ms/step - loss: 1.9259e-05\n",
      "Epoch 11/100\n",
      "2069/2069 [==============================] - 23s 11ms/step - loss: 1.5557e-05\n",
      "Epoch 12/100\n",
      "2069/2069 [==============================] - 25s 12ms/step - loss: 1.4728e-05\n",
      "Epoch 13/100\n",
      "2069/2069 [==============================] - 22s 11ms/step - loss: 1.0479e-05\n",
      "Epoch 14/100\n",
      "2069/2069 [==============================] - 23s 11ms/step - loss: 9.5397e-06\n",
      "Epoch 15/100\n",
      "2069/2069 [==============================] - 23s 11ms/step - loss: 7.6130e-06\n",
      "Epoch 16/100\n",
      "2069/2069 [==============================] - 22s 10ms/step - loss: 5.8030e-06\n",
      "Epoch 17/100\n",
      "2069/2069 [==============================] - 21s 10ms/step - loss: 4.9684e-06\n",
      "Epoch 18/100\n",
      "2069/2069 [==============================] - 21s 10ms/step - loss: 3.8679e-06\n",
      "Epoch 19/100\n",
      "2069/2069 [==============================] - 21s 10ms/step - loss: 4.0328e-06\n",
      "Epoch 00019: early stopping\n"
     ]
    },
    {
     "data": {
      "text/plain": [
       "<tensorflow.python.keras.callbacks.History at 0x15ca3661748>"
      ]
     },
     "execution_count": 47,
     "metadata": {},
     "output_type": "execute_result"
    }
   ],
   "source": [
    "# 학습\n",
    "model.fit(X_train_t, y_train, epochs=100,\n",
    "          batch_size=30, verbose=1, callbacks=[early_stop])"
   ]
  },
  {
   "cell_type": "code",
   "execution_count": 48,
   "metadata": {},
   "outputs": [
    {
     "data": {
      "text/plain": [
       "Text(0.5, 1.0, 'WL vs Predicted WL Index: $Y_i$ vs $\\\\hat{Y}_i$')"
      ]
     },
     "execution_count": 48,
     "metadata": {},
     "output_type": "execute_result"
    },
    {
     "data": {
      "image/png": "[encoded data removed]",
      "text/plain": [
       "<Figure size 432x288 with 1 Axes>"
      ]
     },
     "metadata": {
      "needs_background": "light"
     },
     "output_type": "display_data"
    }
   ],
   "source": [
    "%matplotlib inline\n",
    "import matplotlib.pyplot as plt\n",
    "\n",
    "y_pred = model.predict(X_test_t, batch_size=30) # 예측\n",
    "plt.scatter(y_test, y_pred)\n",
    "plt.xlabel(\"WL Index: $Y_i$\")\n",
    "plt.ylabel(\"Predicted WL Index: $\\hat{Y}_i$\")\n",
    "plt.title(\"WL vs Predicted WL Index: $Y_i$ vs $\\hat{Y}_i$\")"
   ]
  },
  {
   "cell_type": "code",
   "execution_count": 49,
   "metadata": {},
   "outputs": [
    {
     "data": {
      "image/png": "[encoded data removed]",
      "text/plain": [
       "<Figure size 1152x576 with 1 Axes>"
      ]
     },
     "metadata": {
      "needs_background": "light"
     },
     "output_type": "display_data"
    }
   ],
   "source": [
    "a_axis = np.arange(0, len(y_train))\n",
    "b_axis = np.arange(len(y_train), len(y_train) + len(y_pred))\n",
    "\n",
    "plt.figure(figsize=(16,8))\n",
    "plt.plot(a_axis, y_train.reshape(62052,), 'o-')\n",
    "plt.plot(b_axis, y_pred.reshape(22415,), 'o-', color='red', label='Predicted')\n",
    "plt.plot(b_axis, y_test.reshape(22415,), 'o-', color='green', alpha=0.2, label='Actual')\n",
    "plt.legend()\n",
    "plt.show()"
   ]
  },
  {
   "cell_type": "code",
   "execution_count": null,
   "metadata": {},
   "outputs": [],
   "source": []
  }
 ],
 "metadata": {
  "kernelspec": {
   "display_name": "Python 3",
   "language": "python",
   "name": "python3"
  },
  "language_info": {
   "codemirror_mode": {
    "name": "ipython",
    "version": 3
   },
   "file_extension": ".py",
   "mimetype": "text/x-python",
   "name": "python",
   "nbconvert_exporter": "python",
   "pygments_lexer": "ipython3",
   "version": "3.7.6"
  }
 },
 "nbformat": 4,
 "nbformat_minor": 4
}
