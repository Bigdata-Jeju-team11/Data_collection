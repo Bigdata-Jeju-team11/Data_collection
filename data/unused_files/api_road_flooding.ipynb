{
 "cells": [
  {
   "cell_type": "code",
   "execution_count": 10,
   "metadata": {},
   "outputs": [],
   "source": [
    "import requests\n",
    "import json\n",
    "from tqdm import tqdm\n",
    "import pandas as pd\n",
    "from bs4 import BeautifulSoup"
   ]
  },
  {
   "cell_type": "code",
   "execution_count": 71,
   "metadata": {},
   "outputs": [
    {
     "data": {
      "text/plain": [
       "[<row><acc_id>753857</acc_id><occr_date>20200807</occr_date><occr_time>1449</occr_time><exp_clr_date>20200811</exp_clr_date><exp_clr_time>233000</exp_clr_time><acc_type>A09</acc_type><acc_dtype>09B16</acc_dtype><link_id>1210028900</link_id><grs80tm_x>199662.75</grs80tm_x><grs80tm_y>446196.75</grs80tm_y><acc_info>한강교량 양방향 잠수교북단 ↔ 잠수교남단 도로침수 전면통제</acc_info></row>,\n",
       " <row><acc_id>753865</acc_id><occr_date>20200807</occr_date><occr_time>1500</occr_time><exp_clr_date>20200811</exp_clr_date><exp_clr_time>233000</exp_clr_time><acc_type>A11</acc_type><acc_dtype>11B01</acc_dtype><link_id>1130002300</link_id><grs80tm_x>191129</grs80tm_x><grs80tm_y>450346</grs80tm_y><acc_info>강변북로 구리방향(성산대교→양화대교) 4차로 적재물 부분통제</acc_info></row>,\n",
       " <row><acc_id>753901</acc_id><occr_date>20200808</occr_date><occr_time>0711</occr_time><exp_clr_date>20200811</exp_clr_date><exp_clr_time>233000</exp_clr_time><acc_type>A11</acc_type><acc_dtype>11B01</acc_dtype><link_id>1230003900</link_id><grs80tm_x>207102</grs80tm_x><grs80tm_y>446411</grs80tm_y><acc_info>올림픽대로 김포방향(잠실대교→청담대교) 4차로 적재물 부분통제</acc_info></row>,\n",
       " <row><acc_id>753977</acc_id><occr_date>20200809</occr_date><occr_time>0712</occr_time><exp_clr_date>20200811</exp_clr_date><exp_clr_time>233000</exp_clr_time><acc_type>A11</acc_type><acc_dtype>11B01</acc_dtype><link_id>1180003200</link_id><grs80tm_x>191623.5</grs80tm_x><grs80tm_y>448512</grs80tm_y><acc_info>올림픽대로 김포방향(여의하류→양화대교) 4차로 적재물 부분통제</acc_info></row>,\n",
       " <row><acc_id>753978</acc_id><occr_date>20200809</occr_date><occr_time>0718</occr_time><exp_clr_date>20200811</exp_clr_date><exp_clr_time>233000</exp_clr_time><acc_type>A11</acc_type><acc_dtype>11B01</acc_dtype><link_id>1180004200</link_id><grs80tm_x>191027.5</grs80tm_x><grs80tm_y>448986.5</grs80tm_y><acc_info>올림픽대로 김포 방향 (양화대교남단→성산대교남단 ) 4차로 적재물 부분통제</acc_info></row>,\n",
       " <row><acc_id>754069</acc_id><occr_date>20200810</occr_date><occr_time>0705</occr_time><exp_clr_date>20200811</exp_clr_date><exp_clr_time>233000</exp_clr_time><acc_type>A11</acc_type><acc_dtype>11B01</acc_dtype><link_id>1020000100</link_id><grs80tm_x>197426</grs80tm_x><grs80tm_y>446492</grs80tm_y><acc_info>강변북로 구리방향(한강대교→동작대교) 기타(적재물) 4차로 부분통제</acc_info></row>,\n",
       " <row><acc_id>754081</acc_id><occr_date>20200803</occr_date><occr_time>1830</occr_time><exp_clr_date>20200811</exp_clr_date><exp_clr_time>090000</exp_clr_time><acc_type>A09</acc_type><acc_dtype>09B19</acc_dtype><link_id>1180004100</link_id><grs80tm_x>190255</grs80tm_x><grs80tm_y>449596</grs80tm_y><acc_info>양평로30길(성산대교남단옆↔양평나들목) 강우로 인한 도로통제</acc_info></row>,\n",
       " <row><acc_id>754087</acc_id><occr_date>20200803</occr_date><occr_time>1830</occr_time><exp_clr_date>20200811</exp_clr_date><exp_clr_time>233000</exp_clr_time><acc_type>A09</acc_type><acc_dtype>09B19</acc_dtype><link_id>1150006100</link_id><grs80tm_x>184064.9375</grs80tm_x><grs80tm_y>453953</grs80tm_y><acc_info>개화육갑문 방화대교 남단 하부도로 양방향 도로침수 전면통제</acc_info></row>,\n",
       " <row><acc_id>754096</acc_id><occr_date>20200803</occr_date><occr_time>1010</occr_time><exp_clr_date>20200811</exp_clr_date><exp_clr_time>100000</exp_clr_time><acc_type>A09</acc_type><acc_dtype>09B19</acc_dtype><link_id>1180040200</link_id><grs80tm_x>191519</grs80tm_x><grs80tm_y>448404</grs80tm_y><acc_info>당산로52길(당산철교남단→당산지하차도) 강우로 인한 도로통제</acc_info></row>,\n",
       " <row><acc_id>754097</acc_id><occr_date>20200810</occr_date><occr_time>0700</occr_time><exp_clr_date>20200811</exp_clr_date><exp_clr_time>090000</exp_clr_time><acc_type>A09</acc_type><acc_dtype>09B19</acc_dtype><link_id>1230027800</link_id><grs80tm_x>206857</grs80tm_x><grs80tm_y>446397.5</grs80tm_y><acc_info>올림픽대로 김포방향 신천나들목</acc_info></row>,\n",
       " <row><acc_id>754107</acc_id><occr_date>20200810</occr_date><occr_time>0700</occr_time><exp_clr_date>20200811</exp_clr_date><exp_clr_time>090000</exp_clr_time><acc_type>A09</acc_type><acc_dtype>09B19</acc_dtype><link_id>1020002300</link_id><grs80tm_x>198793.5</grs80tm_x><grs80tm_y>446259.5</grs80tm_y><acc_info>동작대교 하부 신동아쇼핑센터지하차도(양방향) 강우로 인한 통제</acc_info></row>,\n",
       " <row><acc_id>754110</acc_id><occr_date>20200810</occr_date><occr_time>2216</occr_time><exp_clr_date>20200810</exp_clr_date><exp_clr_time>230000</exp_clr_time><acc_type>A01</acc_type><acc_dtype>01B01</acc_dtype><link_id>1220004400</link_id><grs80tm_x>205111.901045</grs80tm_x><grs80tm_y>447126.012145</grs80tm_y><acc_info>올림픽대로 하남방향(영동대교→청담) 3차로 추돌사고 </acc_info></row>]"
      ]
     },
     "execution_count": 71,
     "metadata": {},
     "output_type": "execute_result"
    }
   ],
   "source": [
    "url = 'http://openapi.seoul.go.kr:8088/6761667a626d736c37374962794d65/xml/AccInfo/1/50/'\n",
    "resp = requests.get(url)\n",
    "dom = BeautifulSoup(resp.text, 'lxml')\n",
    "dom.body.find_all('row')"
   ]
  },
  {
   "cell_type": "code",
   "execution_count": 72,
   "metadata": {},
   "outputs": [],
   "source": [
    "rows = []\n",
    "\n",
    "# iterate through each node of the tree\n",
    "\n",
    "for node in dom.body.find_all('row'):\n",
    "    \n",
    "    n_acc_id = node.find(\"acc_id\")\n",
    "    n_occr_date = node.find(\"occr_date\")\n",
    "    n_occr_time = node.find(\"occr_time\")\n",
    "    n_exp_clr_date = node.find(\"exp_clr_date\")\n",
    "    n_exp_clr_time = node.find(\"exp_clr_time\")\n",
    "    n_acc_type = node.find(\"acc_type\").text\n",
    "    n_acc_dtype = node.find(\"acc_dtype\").text\n",
    "    n_link_id = node.find(\"link_id\")\n",
    "    n_grs80tm_x = node.find(\"grs80tm_x\")\n",
    "    n_grs80tm_y = node.find(\"grs80tm_y\")\n",
    "    n_acc_info = node.find(\"acc_info\").text\n",
    "    \n",
    "    if n_acc_dtype == '09B19' or n_acc_dtype == '09B16':\n",
    "        rows.append({\"acc_id\": n_acc_id, \n",
    "                     \"occr_date\": n_occr_date, \n",
    "                     \"occr_time\": n_occr_time, \n",
    "                     \"exp_clr_date\": n_exp_clr_date, \n",
    "                     \"exp_clr_time\": n_exp_clr_time, \n",
    "                     \"acc_type\": n_acc_type, \n",
    "                     \"acc_dtype\": n_acc_dtype, \n",
    "                     \"link_id\": n_link_id, \n",
    "                     \"grs80tm_x\": n_grs80tm_x, \n",
    "                     \"grs80tm_y\": n_grs80tm_y, \n",
    "                     \"acc_info\": n_acc_info})\n",
    "\n"
   ]
  },
  {
   "cell_type": "code",
   "execution_count": 74,
   "metadata": {},
   "outputs": [],
   "source": [
    "columns = [\"acc_id\", \n",
    "           \"occr_date\", \n",
    "           \"occr_time\", \n",
    "           \"exp_clr_date\", \n",
    "           \"exp_clr_time\", \n",
    "           \"acc_type\", \n",
    "           \"acc_dtype\", \n",
    "           \"link_id\", \n",
    "           \"grs80tm_x\", \n",
    "           \"grs80tm_y\", \n",
    "           \"acc_info\"]\n",
    "\n",
    "catalog_df = pd.DataFrame(rows, columns = columns)\n",
    "\n",
    "catalog_df.head(10)\n",
    "catalog_df.to_csv('road_flooding.csv')"
   ]
  },
  {
   "cell_type": "code",
   "execution_count": null,
   "metadata": {},
   "outputs": [],
   "source": []
  }
 ],
 "metadata": {
  "kernelspec": {
   "display_name": "Python 3",
   "language": "python",
   "name": "python3"
  },
  "language_info": {
   "codemirror_mode": {
    "name": "ipython",
    "version": 3
   },
   "file_extension": ".py",
   "mimetype": "text/x-python",
   "name": "python",
   "nbconvert_exporter": "python",
   "pygments_lexer": "ipython3",
   "version": "3.7.6"
  }
 },
 "nbformat": 4,
 "nbformat_minor": 4
}
