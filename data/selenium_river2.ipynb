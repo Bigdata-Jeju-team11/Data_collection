{
 "cells": [
  {
   "cell_type": "markdown",
   "metadata": {},
   "source": [
    "# 금강 홍수통제소\n",
    "- selenium 활용 수위 자료 데이터 수집\n",
    "- link: http://www.geumriver.go.kr/html/sumun/sumun_wl.jsp"
   ]
  },
  {
   "cell_type": "code",
   "execution_count": 9,
   "metadata": {},
   "outputs": [],
   "source": [
    "from selenium import webdriver\n",
    "import time"
   ]
  },
  {
   "cell_type": "code",
   "execution_count": 11,
   "metadata": {},
   "outputs": [],
   "source": [
    "driver = webdriver.Chrome()\n",
    "driver.get('http://www.geumriver.go.kr/html/sumun/sumunPopup_wl.jsp?code=3012634&ymdhm=202008120000')"
   ]
  },
  {
   "cell_type": "code",
   "execution_count": 37,
   "metadata": {},
   "outputs": [
    {
     "ename": "KeyboardInterrupt",
     "evalue": "",
     "output_type": "error",
     "traceback": [
      "\u001b[1;31m---------------------------------------------------------------------------\u001b[0m",
      "\u001b[1;31mKeyboardInterrupt\u001b[0m                         Traceback (most recent call last)",
      "\u001b[1;32m<ipython-input-37-e6158ac19bb7>\u001b[0m in \u001b[0;36m<module>\u001b[1;34m\u001b[0m\n\u001b[0;32m     25\u001b[0m     \u001b[0mdriver\u001b[0m\u001b[1;33m.\u001b[0m\u001b[0mfind_element_by_xpath\u001b[0m\u001b[1;33m(\u001b[0m\u001b[1;34m'//tbody/tr[2]/td/select[@id=\"%s\"]'\u001b[0m \u001b[1;33m%\u001b[0m \u001b[0msdt_y\u001b[0m\u001b[1;33m)\u001b[0m\u001b[1;33m.\u001b[0m\u001b[0mclick\u001b[0m\u001b[1;33m(\u001b[0m\u001b[1;33m)\u001b[0m\u001b[1;33m\u001b[0m\u001b[1;33m\u001b[0m\u001b[0m\n\u001b[0;32m     26\u001b[0m     \u001b[0mdriver\u001b[0m\u001b[1;33m.\u001b[0m\u001b[0mfind_element_by_xpath\u001b[0m\u001b[1;33m(\u001b[0m\u001b[1;34m'//tbody/tr[2]/td/select[@id=\"%s\"]'\u001b[0m \u001b[1;33m%\u001b[0m \u001b[0msdt_y\u001b[0m\u001b[1;33m)\u001b[0m\u001b[1;33m.\u001b[0m\u001b[0msend_keys\u001b[0m\u001b[1;33m(\u001b[0m\u001b[0mdate_year\u001b[0m\u001b[1;33m[\u001b[0m\u001b[0midx_yy\u001b[0m\u001b[1;33m]\u001b[0m\u001b[1;33m)\u001b[0m\u001b[1;33m\u001b[0m\u001b[1;33m\u001b[0m\u001b[0m\n\u001b[1;32m---> 27\u001b[1;33m     \u001b[0mtime\u001b[0m\u001b[1;33m.\u001b[0m\u001b[0msleep\u001b[0m\u001b[1;33m(\u001b[0m\u001b[1;36m2\u001b[0m\u001b[1;33m)\u001b[0m\u001b[1;33m\u001b[0m\u001b[1;33m\u001b[0m\u001b[0m\n\u001b[0m\u001b[0;32m     28\u001b[0m     \u001b[0mdriver\u001b[0m\u001b[1;33m.\u001b[0m\u001b[0mfind_element_by_xpath\u001b[0m\u001b[1;33m(\u001b[0m\u001b[1;34m'//tbody/tr[2]/td/select[@id=\"%s\"]'\u001b[0m \u001b[1;33m%\u001b[0m \u001b[0medt_y\u001b[0m\u001b[1;33m)\u001b[0m\u001b[1;33m.\u001b[0m\u001b[0mclick\u001b[0m\u001b[1;33m(\u001b[0m\u001b[1;33m)\u001b[0m\u001b[1;33m\u001b[0m\u001b[1;33m\u001b[0m\u001b[0m\n\u001b[0;32m     29\u001b[0m     \u001b[0mdriver\u001b[0m\u001b[1;33m.\u001b[0m\u001b[0mfind_element_by_xpath\u001b[0m\u001b[1;33m(\u001b[0m\u001b[1;34m'//tbody/tr[2]/td/select[@id=\"%s\"]'\u001b[0m \u001b[1;33m%\u001b[0m \u001b[0medt_y\u001b[0m\u001b[1;33m)\u001b[0m\u001b[1;33m.\u001b[0m\u001b[0msend_keys\u001b[0m\u001b[1;33m(\u001b[0m\u001b[0mdate_year\u001b[0m\u001b[1;33m[\u001b[0m\u001b[0midx_yy\u001b[0m\u001b[1;33m]\u001b[0m\u001b[1;33m)\u001b[0m\u001b[1;33m\u001b[0m\u001b[1;33m\u001b[0m\u001b[0m\n",
      "\u001b[1;31mKeyboardInterrupt\u001b[0m: "
     ]
    }
   ],
   "source": [
    "date_year = ['2010', '2011', '2012', '2013', '2014', '2015', '2016', '2017', '2018', '2019', '2020']\n",
    "#date_month = ['1~12']\n",
    "#date_day = ['1~31']\n",
    "#date_hour = ['0~23'] => 1시간 단위로 데이터 수집하므로 시, 분은 그대로 0, 0\n",
    "list_sdt = ['sdt_yy', 'sdt_mm', 'sdt_dd', 'sdt_hh', 'sdt_mi']\n",
    "list_edt = ['edt_yy', 'edt_mm', 'edt_dd', 'edt_hh', 'edt_mi']\n",
    "\n",
    "#일 1일, 31일\n",
    "sdt_d = list_sdt[2]\n",
    "edt_d = list_edt[2]\n",
    "driver.find_element_by_xpath('//tbody/tr[2]/td/select[@id=\"%s\"]' % sdt_d).click()\n",
    "#------------------------------------------------------------------------------------#\n",
    "driver.find_element_by_xpath('//tbody/tr[2]/td/select[@id=\"%s\"]' % sdt_d).send_keys(31)\n",
    "time.sleep(2) # 1 선택이 안되서 제일 마지막 값 먼저 선택 후\n",
    "#------------------------------------------------------------------------------------#\n",
    "driver.find_element_by_xpath('//tbody/tr[2]/td/select[@id=\"%s\"]' % sdt_d).send_keys(1)\n",
    "time.sleep(2)\n",
    "driver.find_element_by_xpath('//tbody/tr[2]/td/select[@id=\"%s\"]' % edt_d).click()\n",
    "driver.find_element_by_xpath('//tbody/tr[2]/td/select[@id=\"%s\"]' % edt_d).send_keys(31)\n",
    "time.sleep(2)\n",
    "\n",
    "for idx_yy in range(0, 10): #년도 2010~2020\n",
    "    sdt_y = list_sdt[0]\n",
    "    edt_y = list_edt[0]\n",
    "    driver.find_element_by_xpath('//tbody/tr[2]/td/select[@id=\"%s\"]' % sdt_y).click()\n",
    "    driver.find_element_by_xpath('//tbody/tr[2]/td/select[@id=\"%s\"]' % sdt_y).send_keys(date_year[idx_yy])\n",
    "    time.sleep(2)\n",
    "    driver.find_element_by_xpath('//tbody/tr[2]/td/select[@id=\"%s\"]' % edt_y).click()\n",
    "    driver.find_element_by_xpath('//tbody/tr[2]/td/select[@id=\"%s\"]' % edt_y).send_keys(date_year[idx_yy])\n",
    "    time.sleep(2)\n",
    "    for idx_mm in range(0, 4): #월 1~12 => 3개월 간격으로 수집 가능\n",
    "        sdt_m = list_sdt[1]\n",
    "        edt_m = list_edt[1]\n",
    "        driver.find_element_by_xpath('//tbody/tr[2]/td/select[@id=\"%s\"]' % sdt_m).click()\n",
    "        #------------------------------------------------------------------------------------#\n",
    "        driver.find_element_by_xpath('//tbody/tr[2]/td/select[@id=\"%s\"]' % sdt_m).send_keys(12)\n",
    "        time.sleep(2)\n",
    "        #------------------------------------------------------------------------------------#\n",
    "        driver.find_element_by_xpath('//tbody/tr[2]/td/select[@id=\"%s\"]' % sdt_m).send_keys(3*idx_mm+1) #1, 4, 7, 10\n",
    "        time.sleep(2)\n",
    "        driver.find_element_by_xpath('//tbody/tr[2]/td/select[@id=\"%s\"]' % edt_m).click()\n",
    "        driver.find_element_by_xpath('//tbody/tr[2]/td/select[@id=\"%s\"]' % edt_m).send_keys(3*idx_mm+3) #3, 6, 9, 12\n",
    "        time.sleep(2)\n",
    "        # 이제 조회 버튼 누르고, csv 저장 버튼 누르면 끝"
   ]
  },
  {
   "cell_type": "code",
   "execution_count": null,
   "metadata": {},
   "outputs": [],
   "source": []
  },
  {
   "cell_type": "code",
   "execution_count": null,
   "metadata": {},
   "outputs": [],
   "source": []
  }
 ],
 "metadata": {
  "kernelspec": {
   "display_name": "Python 3",
   "language": "python",
   "name": "python3"
  },
  "language_info": {
   "codemirror_mode": {
    "name": "ipython",
    "version": 3
   },
   "file_extension": ".py",
   "mimetype": "text/x-python",
   "name": "python",
   "nbconvert_exporter": "python",
   "pygments_lexer": "ipython3",
   "version": "3.7.6"
  }
 },
 "nbformat": 4,
 "nbformat_minor": 4
}
