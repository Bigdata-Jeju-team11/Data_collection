{
 "cells": [
  {
<<<<<<< HEAD
   "cell_type": "markdown",
   "metadata": {},
   "source": [
    "# 재난문자방송 발령현황 API Service Crawling"
   ]
  },
  {
=======
>>>>>>> 24965cf... Add files via upload
   "cell_type": "code",
   "execution_count": 1,
   "metadata": {},
   "outputs": [],
   "source": [
    "import requests\n",
    "import json\n",
    "from tqdm import tqdm\n",
    "import pandas as pd"
   ]
  },
  {
   "cell_type": "code",
   "execution_count": 32,
   "metadata": {},
   "outputs": [
    {
     "data": {
      "text/plain": [
<<<<<<< HEAD
<<<<<<< HEAD
       "{'DisasterMsg': [{'head': [{'totalCount': 22100},\n",
       "    {'numOfRows': '10', 'pageNo': '1', 'type': 'JSON'},\n",
       "    {'RESULT': {'resultCode': 'INFO-0', 'resultMsg': '정상'}}]},\n",
       "  {'row': [{'create_date': '2020/08/06 14:20:00',\n",
       "     'location_id': '49',\n",
       "     'location_name': '경기도 평택시',\n",
       "     'md101_sn': '42609',\n",
       "     'msg': '[평택시청]관내 하천 상류지역에 내린 집중호우로 위험 할 수 있으니 하천변, 하천둔치 공원 출입을 자제하시고 실시간 기상정보 확인 등 안전관리에 유의바랍니다',\n",
       "     'send_platform': 'cbs'},\n",
       "    {'create_date': '2020/08/06 14:06:06',\n",
       "     'location_id': '52',\n",
       "     'location_name': '경기도 화성시',\n",
       "     'md101_sn': '42608',\n",
       "     'msg': '[화성시청]코로나19 수원시 113번 확진자(화성시 능동 거주) 발생. 격리병원 이송예정, 자택 등 주변 소독중, 세부내용 화성시 홈페이지, SNS등 참조바랍니다',\n",
       "     'send_platform': 'cbs'},\n",
       "    {'create_date': '2020/08/06 14:01:35',\n",
       "     'location_id': '21',\n",
       "     'location_name': '경기도 전체',\n",
       "     'md101_sn': '42607',\n",
       "     'msg': '[경기도청] 경기도내 산사태 위험수준이 “심각단계”로 산림 인근지역 방문을 자제하시고 산림인접 거주자는 집중호우 전후 안전한 곳으로 대피하시기 바랍니다.',\n",
       "     'send_platform': 'cbs'},\n",
       "    {'create_date': '2020/08/06 13:51:38',\n",
       "     'location_id': '11,20,41',\n",
       "     'location_name': '강원도 원주시,강원도 횡성군,경기도 여주시',\n",
       "     'md101_sn': '42606',\n",
       "     'msg': '[한강홍수통제소]오늘 13:40 섬강 원주시(문막교) 홍수주의보 발령, 안전에 유의하시기 바랍니다.',\n",
       "     'send_platform': 'cbs'},\n",
       "    {'create_date': '2020/08/06 12:47:48',\n",
       "     'location_id': '8',\n",
       "     'location_name': '강원도 양구군',\n",
       "     'md101_sn': '42605',\n",
       "     'msg': '[양구군청]집중호우에 따라 양구읍 상용터널 내 조명고장에 현재 조사 중으로, 시간이 소요될 것으로 예상되니, 차량점등 후 서행 또는 우회하여 주시기 바랍니다.',\n",
       "     'send_platform': 'cbs'},\n",
       "    {'create_date': '2020/08/06 12:03:56',\n",
       "     'location_id': '18',\n",
       "     'location_name': '강원도 홍천군',\n",
       "     'md101_sn': '42604',\n",
       "     'msg': '[홍천군청] 군도 7호선 남노일구간, 하천 범람으로 차량통행이 제한됨을 알려드리니 우회도로를 이용하시기 바랍니다.',\n",
       "     'send_platform': 'cbs'},\n",
       "    {'create_date': '2020/08/06 11:55:46',\n",
       "     'location_id': '86',\n",
       "     'location_name': '경상북도 영덕군',\n",
       "     'md101_sn': '42603',\n",
       "     'msg': '[영덕군청] 모레까지 많은 비 예상. 저지대와 농경지 침수, 산사태, 축대붕괴 등 비 피해가 없도록 유의. 국지성 호우시 산간, 계곡 등의 야영객 대피 철저',\n",
       "     'send_platform': 'cbs'},\n",
       "    {'create_date': '2020/08/06 11:52:26',\n",
       "     'location_id': '195',\n",
       "     'location_name': '전라남도 완도군',\n",
       "     'md101_sn': '42602',\n",
       "     'msg': '[완도군청] 음식점？카페에서 ▶식사 전 손씻기 ▶식사 전·후 마스크 착용 ▶공용집게로 덜어먹기 ▶가급적 대화자제 ▶거리두기 등 방역수칙을 준수해 주세요..',\n",
       "     'send_platform': 'cbs'},\n",
       "    {'create_date': '2020/08/06 11:40:12',\n",
       "     'location_id': '34',\n",
       "     'location_name': '경기도 수원시',\n",
       "     'md101_sn': '42601',\n",
       "     'msg': '[수원시청] 113번째 확진자 발생 [40대/화성시 거주자/내국인], 동선은 역학조사 후 SNS 및 홈페이지에 공개하겠습니다.',\n",
       "     'send_platform': 'cbs'},\n",
       "    {'create_date': '2020/08/06 11:39:30',\n",
       "     'location_id': '183',\n",
       "     'location_name': '전라남도 광양시',\n",
       "     'md101_sn': '42600',\n",
       "     'msg': '[광양시청] 최근 카페·음식점 등 일상적 공간에서 감염사례가 발생하고 있으니, 2m 거리두기, 대화자제, 손씻기, 대화시 반드시 마스크 착용 바랍니다.',\n",
=======
       "{'DisasterMsg': [{'head': [{'totalCount': 22069},\n",
=======
       "{'DisasterMsg': [{'head': [{'totalCount': 22100},\n",
>>>>>>> a35d3c9... Add files via upload
       "    {'numOfRows': '10', 'pageNo': '1', 'type': 'JSON'},\n",
       "    {'RESULT': {'resultCode': 'INFO-0', 'resultMsg': '정상'}}]},\n",
       "  {'row': [{'create_date': '2020/08/06 14:20:00',\n",
       "     'location_id': '49',\n",
       "     'location_name': '경기도 평택시',\n",
       "     'md101_sn': '42609',\n",
       "     'msg': '[평택시청]관내 하천 상류지역에 내린 집중호우로 위험 할 수 있으니 하천변, 하천둔치 공원 출입을 자제하시고 실시간 기상정보 확인 등 안전관리에 유의바랍니다',\n",
       "     'send_platform': 'cbs'},\n",
       "    {'create_date': '2020/08/06 14:06:06',\n",
       "     'location_id': '52',\n",
       "     'location_name': '경기도 화성시',\n",
       "     'md101_sn': '42608',\n",
       "     'msg': '[화성시청]코로나19 수원시 113번 확진자(화성시 능동 거주) 발생. 격리병원 이송예정, 자택 등 주변 소독중, 세부내용 화성시 홈페이지, SNS등 참조바랍니다',\n",
       "     'send_platform': 'cbs'},\n",
       "    {'create_date': '2020/08/06 14:01:35',\n",
       "     'location_id': '21',\n",
       "     'location_name': '경기도 전체',\n",
       "     'md101_sn': '42607',\n",
       "     'msg': '[경기도청] 경기도내 산사태 위험수준이 “심각단계”로 산림 인근지역 방문을 자제하시고 산림인접 거주자는 집중호우 전후 안전한 곳으로 대피하시기 바랍니다.',\n",
       "     'send_platform': 'cbs'},\n",
       "    {'create_date': '2020/08/06 13:51:38',\n",
       "     'location_id': '11,20,41',\n",
       "     'location_name': '강원도 원주시,강원도 횡성군,경기도 여주시',\n",
       "     'md101_sn': '42606',\n",
       "     'msg': '[한강홍수통제소]오늘 13:40 섬강 원주시(문막교) 홍수주의보 발령, 안전에 유의하시기 바랍니다.',\n",
       "     'send_platform': 'cbs'},\n",
       "    {'create_date': '2020/08/06 12:47:48',\n",
       "     'location_id': '8',\n",
       "     'location_name': '강원도 양구군',\n",
       "     'md101_sn': '42605',\n",
       "     'msg': '[양구군청]집중호우에 따라 양구읍 상용터널 내 조명고장에 현재 조사 중으로, 시간이 소요될 것으로 예상되니, 차량점등 후 서행 또는 우회하여 주시기 바랍니다.',\n",
       "     'send_platform': 'cbs'},\n",
       "    {'create_date': '2020/08/06 12:03:56',\n",
       "     'location_id': '18',\n",
       "     'location_name': '강원도 홍천군',\n",
       "     'md101_sn': '42604',\n",
       "     'msg': '[홍천군청] 군도 7호선 남노일구간, 하천 범람으로 차량통행이 제한됨을 알려드리니 우회도로를 이용하시기 바랍니다.',\n",
       "     'send_platform': 'cbs'},\n",
       "    {'create_date': '2020/08/06 11:55:46',\n",
       "     'location_id': '86',\n",
       "     'location_name': '경상북도 영덕군',\n",
       "     'md101_sn': '42603',\n",
       "     'msg': '[영덕군청] 모레까지 많은 비 예상. 저지대와 농경지 침수, 산사태, 축대붕괴 등 비 피해가 없도록 유의. 국지성 호우시 산간, 계곡 등의 야영객 대피 철저',\n",
       "     'send_platform': 'cbs'},\n",
       "    {'create_date': '2020/08/06 11:52:26',\n",
       "     'location_id': '195',\n",
       "     'location_name': '전라남도 완도군',\n",
       "     'md101_sn': '42602',\n",
       "     'msg': '[완도군청] 음식점？카페에서 ▶식사 전 손씻기 ▶식사 전·후 마스크 착용 ▶공용집게로 덜어먹기 ▶가급적 대화자제 ▶거리두기 등 방역수칙을 준수해 주세요..',\n",
       "     'send_platform': 'cbs'},\n",
       "    {'create_date': '2020/08/06 11:40:12',\n",
       "     'location_id': '34',\n",
       "     'location_name': '경기도 수원시',\n",
       "     'md101_sn': '42601',\n",
       "     'msg': '[수원시청] 113번째 확진자 발생 [40대/화성시 거주자/내국인], 동선은 역학조사 후 SNS 및 홈페이지에 공개하겠습니다.',\n",
       "     'send_platform': 'cbs'},\n",
<<<<<<< HEAD
       "    {'create_date': '2020/08/06 09:52:25',\n",
       "     'location_id': '222',\n",
       "     'location_name': '충청남도 전체',\n",
       "     'md101_sn': '42567',\n",
       "     'msg': '[충청남도청] 도내 풍랑 및 강풍특보 발효 중 ▲입간판 등 시설물 안전조치 ▲선박 항내 결박 ▲해안가 위험지역 접근금지 ▲외출자제 등 안전에 주의바랍니다.',\n",
>>>>>>> 24965cf... Add files via upload
=======
       "    {'create_date': '2020/08/06 11:39:30',\n",
       "     'location_id': '183',\n",
       "     'location_name': '전라남도 광양시',\n",
       "     'md101_sn': '42600',\n",
       "     'msg': '[광양시청] 최근 카페·음식점 등 일상적 공간에서 감염사례가 발생하고 있으니, 2m 거리두기, 대화자제, 손씻기, 대화시 반드시 마스크 착용 바랍니다.',\n",
>>>>>>> a35d3c9... Add files via upload
       "     'send_platform': 'cbs'}]}]}"
      ]
     },
     "execution_count": 32,
     "metadata": {},
     "output_type": "execute_result"
    }
   ],
   "source": [
<<<<<<< HEAD
    "# 데이터 확인\n",
    "\n",
=======
>>>>>>> 24965cf... Add files via upload
    "url = 'http://apis.data.go.kr/1741000/DisasterMsg2/getDisasterMsgList?serviceKey=JEKSrW3YsUbYoCkbk3oWnYQ4dZmZo9nV71BUEkNkIxIpU6yiMN3xIqMMHyVE9075tTDYa%2Bk3GDOxam5oSmRRmg%3D%3D&pageNo=1&numOfRows=10&type=json&flag=Y&'\n",
    "req = requests.get(url)\n",
    "json = req.json()\n",
    "json"
   ]
  },
  {
   "cell_type": "code",
<<<<<<< HEAD
<<<<<<< HEAD
   "execution_count": 3,
   "metadata": {},
   "outputs": [],
   "source": [
    "# Crawling\n",
    "\n",
    "def api_crawling():\n",
    "    url = 'http://apis.data.go.kr/1741000/DisasterMsg2/getDisasterMsgList?serviceKey=JEKSrW3YsUbYoCkbk3oWnYQ4dZmZo9nV71BUEkNkIxIpU6yiMN3xIqMMHyVE9075tTDYa%2Bk3GDOxam5oSmRRmg%3D%3D&pageNo=1&numOfRows=1000&type=json&flag=Y&'\n",
=======
   "execution_count": 6,
=======
   "execution_count": 33,
>>>>>>> a35d3c9... Add files via upload
   "metadata": {},
   "outputs": [],
   "source": [
    "def api_crawling():\n",
<<<<<<< HEAD
    "    url = 'http://apis.data.go.kr/1741000/DisasterMsg2/getDisasterMsgList?serviceKey=JEKSrW3YsUbYoCkbk3oWnYQ4dZmZo9nV71BUEkNkIxIpU6yiMN3xIqMMHyVE9075tTDYa%2Bk3GDOxam5oSmRRmg%3D%3D&pageNo=1&numOfRows=100&type=json&flag=Y&'\n",
>>>>>>> 24965cf... Add files via upload
=======
    "    url = 'http://apis.data.go.kr/1741000/DisasterMsg2/getDisasterMsgList?serviceKey=JEKSrW3YsUbYoCkbk3oWnYQ4dZmZo9nV71BUEkNkIxIpU6yiMN3xIqMMHyVE9075tTDYa%2Bk3GDOxam5oSmRRmg%3D%3D&pageNo=1&numOfRows=1000&type=json&flag=Y&'\n",
>>>>>>> a35d3c9... Add files via upload
    "    \n",
    "    req = requests.get(url)\n",
    "    \n",
    "    totalCount = req.json()['DisasterMsg'][0]['head'][0]['totalCount']\n",
<<<<<<< HEAD
=======
    "#    numOfRows = int(req.json()['DisasterMsg'][0]['head'][1]['numOfRows'])\n",
>>>>>>> 24965cf... Add files via upload
    "    \n",
    "    create_date = []\n",
    "    location_id = []\n",
    "    location_name = []\n",
    "    md101_sn = []\n",
    "    msg = []\n",
    "    send_platform = []\n",
    "    \n",
<<<<<<< HEAD
<<<<<<< HEAD
    "    # totalCount가 numOfRows=1000으로 나누어떨어지는 경우\n",
    "    if (totalCount % 1000) == 0:\n",
    "        total_page = (totalCount // 1000) + 1\n",
    "    # totalCount가 numOfRows=1000으로 나누어떨어지지 않는 경우\n",
    "    else:\n",
    "        total_page = (totalCount // 1000) + 2\n",
    "        \n",
    "        for pageNo in tqdm(range(1, total_page)):\n",
    "            url = 'http://apis.data.go.kr/1741000/DisasterMsg2/getDisasterMsgList?serviceKey=JEKSrW3YsUbYoCkbk3oWnYQ4dZmZo9nV71BUEkNkIxIpU6yiMN3xIqMMHyVE9075tTDYa%2Bk3GDOxam5oSmRRmg%3D%3D&numOfRows=1000&type=json&flag=Y&pageNo=' + str(pageNo)\n",
=======
    "    if (totalCount % 100) == 0:\n",
=======
    "    if (totalCount % 1000) == 0:\n",
>>>>>>> a35d3c9... Add files via upload
    "#        total_page = (totalCount // numOfRows)\n",
    "        total_page = (totalCount // 1000)\n",
    "    else:\n",
    "#        total_page = (totalCount // numOfRows) + 1\n",
    "        total_page = (totalCount // 1000) + 1\n",
    "        \n",
    "        for pageNo in tqdm(range(1, total_page + 1)):\n",
<<<<<<< HEAD
    "            url = 'http://apis.data.go.kr/1741000/DisasterMsg2/getDisasterMsgList?serviceKey=JEKSrW3YsUbYoCkbk3oWnYQ4dZmZo9nV71BUEkNkIxIpU6yiMN3xIqMMHyVE9075tTDYa%2Bk3GDOxam5oSmRRmg%3D%3D&numOfRows=100&type=json&flag=Y&pageNo=' + str(pageNo)\n",
>>>>>>> 24965cf... Add files via upload
=======
    "            url = 'http://apis.data.go.kr/1741000/DisasterMsg2/getDisasterMsgList?serviceKey=JEKSrW3YsUbYoCkbk3oWnYQ4dZmZo9nV71BUEkNkIxIpU6yiMN3xIqMMHyVE9075tTDYa%2Bk3GDOxam5oSmRRmg%3D%3D&numOfRows=1000&type=json&flag=Y&pageNo=' + str(pageNo)\n",
>>>>>>> a35d3c9... Add files via upload
    "            \n",
    "            req = requests.get(url)\n",
    "            \n",
    "            json_data = req.json()\n",
    "            \n",
    "            row = json_data['DisasterMsg'][1]['row']\n",
    "            \n",
    "            for data in row:\n",
    "                create_date.append(data['create_date'])\n",
    "                location_id.append(data['location_id'])\n",
    "                location_name.append(data['location_name'])\n",
    "                md101_sn.append(data['md101_sn'])\n",
    "                msg.append(data['msg'])\n",
    "                send_platform.append(data['send_platform'])\n",
    "\n",
    "    msg_api_df = pd.DataFrame({\"create_date\": create_date, \"location_id\": location_id, \"location_name\":location_name,\n",
    "                               \"md101_sn\":md101_sn, \"msg\":msg, \"send_platform\":send_platform})\n",
<<<<<<< HEAD
    "\n",
    "    # DataFrame 형식으로 반환\n",
=======
    "    \n",
>>>>>>> 24965cf... Add files via upload
    "    return msg_api_df"
   ]
  },
  {
   "cell_type": "code",
<<<<<<< HEAD
<<<<<<< HEAD
   "execution_count": 14,
=======
   "execution_count": 7,
>>>>>>> 24965cf... Add files via upload
=======
   "execution_count": 30,
>>>>>>> a35d3c9... Add files via upload
   "metadata": {},
   "outputs": [
    {
     "name": "stderr",
     "output_type": "stream",
     "text": [
<<<<<<< HEAD
<<<<<<< HEAD
      "100%|██████████████████████████████████████████████████████████████████████████████████| 23/23 [00:13<00:00,  1.65it/s]\n"
=======
      "100%|████████████████████████████████████████████████████████████████████████████████| 221/221 [02:17<00:00,  1.61it/s]\n"
>>>>>>> 24965cf... Add files via upload
=======
      "100%|██████████████████████████████████████████████████████████████████████████████████| 23/23 [00:13<00:00,  1.73it/s]\n"
>>>>>>> a35d3c9... Add files via upload
     ]
    }
   ],
   "source": [
    "msg_api_df = api_crawling()"
   ]
  },
  {
   "cell_type": "code",
<<<<<<< HEAD
<<<<<<< HEAD
   "execution_count": 5,
=======
   "execution_count": 8,
>>>>>>> 24965cf... Add files via upload
=======
   "execution_count": 31,
>>>>>>> a35d3c9... Add files via upload
   "metadata": {},
   "outputs": [
    {
     "data": {
      "text/html": [
       "<div>\n",
       "<style scoped>\n",
       "    .dataframe tbody tr th:only-of-type {\n",
       "        vertical-align: middle;\n",
       "    }\n",
       "\n",
       "    .dataframe tbody tr th {\n",
       "        vertical-align: top;\n",
       "    }\n",
       "\n",
       "    .dataframe thead th {\n",
       "        text-align: right;\n",
       "    }\n",
       "</style>\n",
       "<table border=\"1\" class=\"dataframe\">\n",
       "  <thead>\n",
       "    <tr style=\"text-align: right;\">\n",
       "      <th></th>\n",
       "      <th>create_date</th>\n",
       "      <th>location_id</th>\n",
       "      <th>location_name</th>\n",
       "      <th>md101_sn</th>\n",
       "      <th>msg</th>\n",
       "      <th>send_platform</th>\n",
       "    </tr>\n",
       "  </thead>\n",
       "  <tbody>\n",
       "    <tr>\n",
       "      <th>0</th>\n",
<<<<<<< HEAD
<<<<<<< HEAD
=======
>>>>>>> a35d3c9... Add files via upload
       "      <td>2020/08/06 14:20:00</td>\n",
       "      <td>49</td>\n",
       "      <td>경기도 평택시</td>\n",
       "      <td>42609</td>\n",
       "      <td>[평택시청]관내 하천 상류지역에 내린 집중호우로 위험 할 수 있으니 하천변, 하천둔...</td>\n",
<<<<<<< HEAD
=======
       "      <td>2020/08/06 10:09:27</td>\n",
       "      <td>213</td>\n",
       "      <td>전라북도 장수군</td>\n",
       "      <td>42576</td>\n",
       "      <td>[행정안전부] 오늘 10시05분 전북(장수) 호우경보, 산사태ㆍ상습침수 등 위험지역...</td>\n",
>>>>>>> 24965cf... Add files via upload
=======
>>>>>>> a35d3c9... Add files via upload
       "      <td>cbs</td>\n",
       "    </tr>\n",
       "    <tr>\n",
       "      <th>1</th>\n",
<<<<<<< HEAD
<<<<<<< HEAD
=======
>>>>>>> a35d3c9... Add files via upload
       "      <td>2020/08/06 14:06:06</td>\n",
       "      <td>52</td>\n",
       "      <td>경기도 화성시</td>\n",
       "      <td>42608</td>\n",
       "      <td>[화성시청]코로나19 수원시 113번 확진자(화성시 능동 거주) 발생. 격리병원 이...</td>\n",
<<<<<<< HEAD
=======
       "      <td>2020/08/06 10:09:20</td>\n",
       "      <td>139</td>\n",
       "      <td>서울특별시 강북구</td>\n",
       "      <td>42575</td>\n",
       "      <td>[강북구청]집중호우와 강풍으로 산사태 발생우려가 높으니, 입산금지 바라며 산림 인접...</td>\n",
>>>>>>> 24965cf... Add files via upload
=======
>>>>>>> a35d3c9... Add files via upload
       "      <td>cbs</td>\n",
       "    </tr>\n",
       "    <tr>\n",
       "      <th>2</th>\n",
<<<<<<< HEAD
<<<<<<< HEAD
=======
>>>>>>> a35d3c9... Add files via upload
       "      <td>2020/08/06 14:01:35</td>\n",
       "      <td>21</td>\n",
       "      <td>경기도 전체</td>\n",
       "      <td>42607</td>\n",
       "      <td>[경기도청] 경기도내 산사태 위험수준이 “심각단계”로 산림 인근지역 방문을 자제하시...</td>\n",
<<<<<<< HEAD
=======
       "      <td>2020/08/06 10:08:37</td>\n",
       "      <td>200</td>\n",
       "      <td>전라남도 해남군</td>\n",
       "      <td>42574</td>\n",
       "      <td>[해남군청] 현재 우리지역은 강풍 및 풍랑주의보가 발효중이며 많은 비가 내릴 것으로...</td>\n",
>>>>>>> 24965cf... Add files via upload
=======
>>>>>>> a35d3c9... Add files via upload
       "      <td>cbs</td>\n",
       "    </tr>\n",
       "    <tr>\n",
       "      <th>3</th>\n",
<<<<<<< HEAD
<<<<<<< HEAD
=======
>>>>>>> a35d3c9... Add files via upload
       "      <td>2020/08/06 13:51:38</td>\n",
       "      <td>11,20,41</td>\n",
       "      <td>강원도 원주시,강원도 횡성군,경기도 여주시</td>\n",
       "      <td>42606</td>\n",
       "      <td>[한강홍수통제소]오늘 13:40 섬강 원주시(문막교) 홍수주의보 발령, 안전에 유의...</td>\n",
<<<<<<< HEAD
=======
       "      <td>2020/08/06 10:08:22</td>\n",
       "      <td>20</td>\n",
       "      <td>강원도 횡성군</td>\n",
       "      <td>42573</td>\n",
       "      <td>[횡성군청]호우경보 발령중, 현재 횡성군 관내 많은 비로 일부 하천 범람이 우려되니...</td>\n",
>>>>>>> 24965cf... Add files via upload
=======
>>>>>>> a35d3c9... Add files via upload
       "      <td>cbs</td>\n",
       "    </tr>\n",
       "    <tr>\n",
       "      <th>4</th>\n",
<<<<<<< HEAD
<<<<<<< HEAD
=======
>>>>>>> a35d3c9... Add files via upload
       "      <td>2020/08/06 12:47:48</td>\n",
       "      <td>8</td>\n",
       "      <td>강원도 양구군</td>\n",
       "      <td>42605</td>\n",
       "      <td>[양구군청]집중호우에 따라 양구읍 상용터널 내 조명고장에 현재 조사 중으로, 시간이...</td>\n",
<<<<<<< HEAD
=======
       "      <td>2020/08/06 10:08:04</td>\n",
       "      <td>2,21,74,113,136,168,202,222,238,6474</td>\n",
       "      <td>강원도 전체,경기도 전체,경상북도 전체,대전광역시 전체,서울특별시 전체,인천광역시 ...</td>\n",
       "      <td>42572</td>\n",
       "      <td>[중앙재난안전대책본부] 집중호우 위험, 저지대 침수, 비탈면 붕괴 등 위험지역에서 ...</td>\n",
>>>>>>> 24965cf... Add files via upload
=======
>>>>>>> a35d3c9... Add files via upload
       "      <td>cbs</td>\n",
       "    </tr>\n",
       "    <tr>\n",
       "      <th>...</th>\n",
       "      <td>...</td>\n",
       "      <td>...</td>\n",
       "      <td>...</td>\n",
       "      <td>...</td>\n",
       "      <td>...</td>\n",
       "      <td>...</td>\n",
       "    </tr>\n",
       "    <tr>\n",
<<<<<<< HEAD
<<<<<<< HEAD
       "      <th>22095</th>\n",
=======
       "      <th>22064</th>\n",
>>>>>>> 24965cf... Add files via upload
=======
       "      <th>22095</th>\n",
>>>>>>> a35d3c9... Add files via upload
       "      <td>2011/11/20 12:10:41</td>\n",
       "      <td>3,4,5,6,7,9</td>\n",
       "      <td>강원도 강릉시,강원도 고성군,강원도 동해시,강원도 삼척시,강원도 속초시,강원도 양양군</td>\n",
       "      <td>10</td>\n",
       "      <td>[국민안전처]20일 12시 동해중부먼바다 풍랑경보, 어선은 출항을 금지하고 출어선은...</td>\n",
       "      <td>cbs</td>\n",
       "    </tr>\n",
       "    <tr>\n",
<<<<<<< HEAD
<<<<<<< HEAD
       "      <th>22096</th>\n",
=======
       "      <th>22065</th>\n",
>>>>>>> 24965cf... Add files via upload
=======
       "      <th>22096</th>\n",
>>>>>>> a35d3c9... Add files via upload
       "      <td>2011/11/18 21:12:20</td>\n",
       "      <td>200</td>\n",
       "      <td>전라남도 해남군</td>\n",
       "      <td>9</td>\n",
       "      <td>[국민안전처]\\n18일21시10분 전남 해남지역 호우경보, 상습침수및위험지역 대피,...</td>\n",
       "      <td>cbs</td>\n",
       "    </tr>\n",
       "    <tr>\n",
<<<<<<< HEAD
<<<<<<< HEAD
       "      <th>22097</th>\n",
=======
       "      <th>22066</th>\n",
>>>>>>> 24965cf... Add files via upload
=======
       "      <th>22097</th>\n",
>>>>>>> a35d3c9... Add files via upload
       "      <td>2011/11/18 11:38:36</td>\n",
       "      <td>217</td>\n",
       "      <td>제주특별자치도 전체</td>\n",
       "      <td>8</td>\n",
       "      <td>[국민안전처]\\n18일11시30분 제주동부지역 호우경보, 상습침수및위험지역 대피,외...</td>\n",
       "      <td>cbs</td>\n",
       "    </tr>\n",
       "    <tr>\n",
<<<<<<< HEAD
<<<<<<< HEAD
       "      <th>22098</th>\n",
=======
       "      <th>22067</th>\n",
>>>>>>> 24965cf... Add files via upload
=======
       "      <th>22098</th>\n",
>>>>>>> a35d3c9... Add files via upload
       "      <td>2011/11/18 08:20:05</td>\n",
       "      <td>217</td>\n",
       "      <td>제주특별자치도 전체</td>\n",
       "      <td>7</td>\n",
       "      <td>[국민안전처]\\n18일8시20분 제주산간,북부지역 호우경보, 상습침수및위험지역 대피...</td>\n",
       "      <td>cbs</td>\n",
       "    </tr>\n",
       "    <tr>\n",
<<<<<<< HEAD
<<<<<<< HEAD
       "      <th>22099</th>\n",
=======
       "      <th>22068</th>\n",
>>>>>>> 24965cf... Add files via upload
=======
       "      <th>22099</th>\n",
>>>>>>> a35d3c9... Add files via upload
       "      <td>2011/11/18 07:43:44</td>\n",
       "      <td>217</td>\n",
       "      <td>제주특별자치도 전체</td>\n",
       "      <td>6</td>\n",
       "      <td>[국민안전처]\\n18일07:30 제주서부지역 호우경보, 상습침수및위험지역 대피,외출...</td>\n",
       "      <td>cbs</td>\n",
       "    </tr>\n",
       "  </tbody>\n",
       "</table>\n",
<<<<<<< HEAD
<<<<<<< HEAD
       "<p>22100 rows × 6 columns</p>\n",
       "</div>"
      ],
      "text/plain": [
       "               create_date  location_id  \\\n",
       "0      2020/08/06 14:20:00           49   \n",
       "1      2020/08/06 14:06:06           52   \n",
       "2      2020/08/06 14:01:35           21   \n",
       "3      2020/08/06 13:51:38     11,20,41   \n",
       "4      2020/08/06 12:47:48            8   \n",
       "...                    ...          ...   \n",
       "22095  2011/11/20 12:10:41  3,4,5,6,7,9   \n",
       "22096  2011/11/18 21:12:20          200   \n",
       "22097  2011/11/18 11:38:36          217   \n",
       "22098  2011/11/18 08:20:05          217   \n",
       "22099  2011/11/18 07:43:44          217   \n",
       "\n",
       "                                         location_name md101_sn  \\\n",
       "0                                              경기도 평택시    42609   \n",
       "1                                              경기도 화성시    42608   \n",
       "2                                               경기도 전체    42607   \n",
       "3                              강원도 원주시,강원도 횡성군,경기도 여주시    42606   \n",
       "4                                              강원도 양구군    42605   \n",
       "...                                                ...      ...   \n",
       "22095  강원도 강릉시,강원도 고성군,강원도 동해시,강원도 삼척시,강원도 속초시,강원도 양양군       10   \n",
       "22096                                         전라남도 해남군        9   \n",
       "22097                                       제주특별자치도 전체        8   \n",
       "22098                                       제주특별자치도 전체        7   \n",
       "22099                                       제주특별자치도 전체        6   \n",
       "\n",
       "                                                     msg send_platform  \n",
       "0      [평택시청]관내 하천 상류지역에 내린 집중호우로 위험 할 수 있으니 하천변, 하천둔...           cbs  \n",
       "1      [화성시청]코로나19 수원시 113번 확진자(화성시 능동 거주) 발생. 격리병원 이...           cbs  \n",
       "2      [경기도청] 경기도내 산사태 위험수준이 “심각단계”로 산림 인근지역 방문을 자제하시...           cbs  \n",
       "3      [한강홍수통제소]오늘 13:40 섬강 원주시(문막교) 홍수주의보 발령, 안전에 유의...           cbs  \n",
       "4      [양구군청]집중호우에 따라 양구읍 상용터널 내 조명고장에 현재 조사 중으로, 시간이...           cbs  \n",
       "...                                                  ...           ...  \n",
       "22095  [국민안전처]20일 12시 동해중부먼바다 풍랑경보, 어선은 출항을 금지하고 출어선은...           cbs  \n",
       "22096  [국민안전처]\\n18일21시10분 전남 해남지역 호우경보, 상습침수및위험지역 대피,...           cbs  \n",
       "22097  [국민안전처]\\n18일11시30분 제주동부지역 호우경보, 상습침수및위험지역 대피,외...           cbs  \n",
       "22098  [국민안전처]\\n18일8시20분 제주산간,북부지역 호우경보, 상습침수및위험지역 대피...           cbs  \n",
       "22099  [국민안전처]\\n18일07:30 제주서부지역 호우경보, 상습침수및위험지역 대피,외출...           cbs  \n",
       "\n",
       "[22100 rows x 6 columns]"
      ]
     },
     "execution_count": 5,
=======
       "<p>22069 rows × 6 columns</p>\n",
=======
       "<p>22100 rows × 6 columns</p>\n",
>>>>>>> a35d3c9... Add files via upload
       "</div>"
      ],
      "text/plain": [
       "               create_date  location_id  \\\n",
       "0      2020/08/06 14:20:00           49   \n",
       "1      2020/08/06 14:06:06           52   \n",
       "2      2020/08/06 14:01:35           21   \n",
       "3      2020/08/06 13:51:38     11,20,41   \n",
       "4      2020/08/06 12:47:48            8   \n",
       "...                    ...          ...   \n",
       "22095  2011/11/20 12:10:41  3,4,5,6,7,9   \n",
       "22096  2011/11/18 21:12:20          200   \n",
       "22097  2011/11/18 11:38:36          217   \n",
       "22098  2011/11/18 08:20:05          217   \n",
       "22099  2011/11/18 07:43:44          217   \n",
       "\n",
       "                                         location_name md101_sn  \\\n",
       "0                                              경기도 평택시    42609   \n",
       "1                                              경기도 화성시    42608   \n",
       "2                                               경기도 전체    42607   \n",
       "3                              강원도 원주시,강원도 횡성군,경기도 여주시    42606   \n",
       "4                                              강원도 양구군    42605   \n",
       "...                                                ...      ...   \n",
       "22095  강원도 강릉시,강원도 고성군,강원도 동해시,강원도 삼척시,강원도 속초시,강원도 양양군       10   \n",
       "22096                                         전라남도 해남군        9   \n",
       "22097                                       제주특별자치도 전체        8   \n",
       "22098                                       제주특별자치도 전체        7   \n",
       "22099                                       제주특별자치도 전체        6   \n",
       "\n",
       "                                                     msg send_platform  \n",
       "0      [평택시청]관내 하천 상류지역에 내린 집중호우로 위험 할 수 있으니 하천변, 하천둔...           cbs  \n",
       "1      [화성시청]코로나19 수원시 113번 확진자(화성시 능동 거주) 발생. 격리병원 이...           cbs  \n",
       "2      [경기도청] 경기도내 산사태 위험수준이 “심각단계”로 산림 인근지역 방문을 자제하시...           cbs  \n",
       "3      [한강홍수통제소]오늘 13:40 섬강 원주시(문막교) 홍수주의보 발령, 안전에 유의...           cbs  \n",
       "4      [양구군청]집중호우에 따라 양구읍 상용터널 내 조명고장에 현재 조사 중으로, 시간이...           cbs  \n",
       "...                                                  ...           ...  \n",
       "22095  [국민안전처]20일 12시 동해중부먼바다 풍랑경보, 어선은 출항을 금지하고 출어선은...           cbs  \n",
       "22096  [국민안전처]\\n18일21시10분 전남 해남지역 호우경보, 상습침수및위험지역 대피,...           cbs  \n",
       "22097  [국민안전처]\\n18일11시30분 제주동부지역 호우경보, 상습침수및위험지역 대피,외...           cbs  \n",
       "22098  [국민안전처]\\n18일8시20분 제주산간,북부지역 호우경보, 상습침수및위험지역 대피...           cbs  \n",
       "22099  [국민안전처]\\n18일07:30 제주서부지역 호우경보, 상습침수및위험지역 대피,외출...           cbs  \n",
       "\n",
       "[22100 rows x 6 columns]"
      ]
     },
<<<<<<< HEAD
     "execution_count": 8,
>>>>>>> 24965cf... Add files via upload
=======
     "execution_count": 31,
>>>>>>> a35d3c9... Add files via upload
     "metadata": {},
     "output_type": "execute_result"
    }
   ],
   "source": [
    "msg_api_df"
   ]
  },
  {
   "cell_type": "code",
<<<<<<< HEAD
   "execution_count": 6,
   "metadata": {},
   "outputs": [],
   "source": [
    "# send_platform'열의 중복 여부 확인\n",
=======
   "execution_count": 9,
   "metadata": {},
   "outputs": [],
   "source": [
    "# 데이터프레임 'msg_api_df'의 'send_platform'열의 중복 여부 확인\n",
>>>>>>> 24965cf... Add files via upload
    "v = msg_api_df.duplicated('send_platform')"
   ]
  },
  {
   "cell_type": "code",
<<<<<<< HEAD
   "execution_count": 7,
   "metadata": {},
   "outputs": [],
   "source": [
    "list = []\n",
    "for i in range(len(msg_api_df)):\n",
    "    if v[i] == False:\n",
    "        list.append(i)"
=======
   "execution_count": 10,
   "metadata": {},
   "outputs": [
    {
     "name": "stdout",
     "output_type": "stream",
     "text": [
      "0\n",
      "7520\n",
      "20186\n"
     ]
    }
   ],
   "source": [
    "for i in range(len(msg_api_df)):\n",
    "    if v[i] == False:\n",
    "        print(i)"
>>>>>>> 24965cf... Add files via upload
   ]
  },
  {
   "cell_type": "code",
<<<<<<< HEAD
   "execution_count": 8,
=======
   "execution_count": 14,
>>>>>>> 24965cf... Add files via upload
   "metadata": {},
   "outputs": [
    {
     "data": {
      "text/html": [
       "<div>\n",
       "<style scoped>\n",
       "    .dataframe tbody tr th:only-of-type {\n",
       "        vertical-align: middle;\n",
       "    }\n",
       "\n",
       "    .dataframe tbody tr th {\n",
       "        vertical-align: top;\n",
       "    }\n",
       "\n",
       "    .dataframe thead th {\n",
       "        text-align: right;\n",
       "    }\n",
       "</style>\n",
       "<table border=\"1\" class=\"dataframe\">\n",
       "  <thead>\n",
       "    <tr style=\"text-align: right;\">\n",
       "      <th></th>\n",
       "      <th>create_date</th>\n",
       "      <th>location_id</th>\n",
       "      <th>location_name</th>\n",
       "      <th>md101_sn</th>\n",
       "      <th>msg</th>\n",
       "      <th>send_platform</th>\n",
       "    </tr>\n",
       "  </thead>\n",
       "  <tbody>\n",
       "    <tr>\n",
       "      <th>0</th>\n",
<<<<<<< HEAD
       "      <td>2020/08/06 14:20:00</td>\n",
       "      <td>49</td>\n",
       "      <td>경기도 평택시</td>\n",
       "      <td>42609</td>\n",
       "      <td>[평택시청]관내 하천 상류지역에 내린 집중호우로 위험 할 수 있으니 하천변, 하천둔...</td>\n",
       "      <td>cbs</td>\n",
       "    </tr>\n",
       "    <tr>\n",
       "      <th>7552</th>\n",
=======
       "      <td>2020/08/06 10:09:27</td>\n",
       "      <td>213</td>\n",
       "      <td>전라북도 장수군</td>\n",
       "      <td>42576</td>\n",
       "      <td>[행정안전부] 오늘 10시05분 전북(장수) 호우경보, 산사태ㆍ상습침수 등 위험지역...</td>\n",
       "      <td>cbs</td>\n",
       "    </tr>\n",
       "    <tr>\n",
       "      <th>7520</th>\n",
>>>>>>> 24965cf... Add files via upload
       "      <td>2020/05/11 19:45:42</td>\n",
       "      <td>2,21,136,168</td>\n",
       "      <td>강원도 전체,경기도 전체,서울특별시 전체,인천광역시 전체</td>\n",
       "      <td>35056</td>\n",
       "      <td>[기상청] 05월11일19:45 북한 강원 평강 북북서쪽 37km 지역 규모4.0 ...</td>\n",
       "      <td>cbs_kma</td>\n",
       "    </tr>\n",
       "    <tr>\n",
<<<<<<< HEAD
       "      <th>20216</th>\n",
=======
       "      <th>20186</th>\n",
>>>>>>> 24965cf... Add files via upload
       "      <td>2017/01/27 09:50:04</td>\n",
       "      <td>3100000000</td>\n",
       "      <td>울산광역시</td>\n",
       "      <td>2336</td>\n",
       "      <td>〔울산광역재난안전대책본부〕안전안내, 설날 당일 옥동공원묘지 일대 교통혼잡 및 교통사...</td>\n",
       "      <td>SafeOn</td>\n",
       "    </tr>\n",
       "  </tbody>\n",
       "</table>\n",
       "</div>"
      ],
      "text/plain": [
       "               create_date   location_id                    location_name  \\\n",
<<<<<<< HEAD
       "0      2020/08/06 14:20:00            49                          경기도 평택시   \n",
       "7552   2020/05/11 19:45:42  2,21,136,168  강원도 전체,경기도 전체,서울특별시 전체,인천광역시 전체   \n",
       "20216  2017/01/27 09:50:04    3100000000                            울산광역시   \n",
       "\n",
       "      md101_sn                                                msg  \\\n",
       "0        42609  [평택시청]관내 하천 상류지역에 내린 집중호우로 위험 할 수 있으니 하천변, 하천둔...   \n",
       "7552     35056  [기상청] 05월11일19:45 북한 강원 평강 북북서쪽 37km 지역 규모4.0 ...   \n",
       "20216     2336  〔울산광역재난안전대책본부〕안전안내, 설날 당일 옥동공원묘지 일대 교통혼잡 및 교통사...   \n",
       "\n",
       "      send_platform  \n",
       "0               cbs  \n",
       "7552        cbs_kma  \n",
       "20216        SafeOn  "
      ]
     },
     "execution_count": 8,
=======
       "0      2020/08/06 10:09:27           213                         전라북도 장수군   \n",
       "7520   2020/05/11 19:45:42  2,21,136,168  강원도 전체,경기도 전체,서울특별시 전체,인천광역시 전체   \n",
       "20186  2017/01/27 09:50:04    3100000000                            울산광역시   \n",
       "\n",
       "      md101_sn                                                msg  \\\n",
       "0        42576  [행정안전부] 오늘 10시05분 전북(장수) 호우경보, 산사태ㆍ상습침수 등 위험지역...   \n",
       "7520     35056  [기상청] 05월11일19:45 북한 강원 평강 북북서쪽 37km 지역 규모4.0 ...   \n",
       "20186     2336  〔울산광역재난안전대책본부〕안전안내, 설날 당일 옥동공원묘지 일대 교통혼잡 및 교통사...   \n",
       "\n",
       "      send_platform  \n",
       "0               cbs  \n",
       "7520        cbs_kma  \n",
       "20186        SafeOn  "
      ]
     },
     "execution_count": 14,
>>>>>>> 24965cf... Add files via upload
     "metadata": {},
     "output_type": "execute_result"
    }
   ],
   "source": [
<<<<<<< HEAD
    "msg_api_df.loc[list]"
=======
    "msg_api_df.loc[[0,7520,20186]]"
>>>>>>> 24965cf... Add files via upload
   ]
  },
  {
   "cell_type": "code",
<<<<<<< HEAD
   "execution_count": 9,
=======
   "execution_count": 21,
>>>>>>> 24965cf... Add files via upload
   "metadata": {},
   "outputs": [
    {
     "data": {
      "text/html": [
       "<div>\n",
       "<style scoped>\n",
       "    .dataframe tbody tr th:only-of-type {\n",
       "        vertical-align: middle;\n",
       "    }\n",
       "\n",
       "    .dataframe tbody tr th {\n",
       "        vertical-align: top;\n",
       "    }\n",
       "\n",
       "    .dataframe thead th {\n",
       "        text-align: right;\n",
       "    }\n",
       "</style>\n",
       "<table border=\"1\" class=\"dataframe\">\n",
       "  <thead>\n",
       "    <tr style=\"text-align: right;\">\n",
       "      <th></th>\n",
       "      <th>create_date</th>\n",
       "      <th>location_id</th>\n",
       "      <th>location_name</th>\n",
       "      <th>md101_sn</th>\n",
       "      <th>msg</th>\n",
       "      <th>send_platform</th>\n",
       "    </tr>\n",
       "  </thead>\n",
       "  <tbody>\n",
       "    <tr>\n",
<<<<<<< HEAD
       "      <th>7552</th>\n",
=======
       "      <th>7520</th>\n",
>>>>>>> 24965cf... Add files via upload
       "      <td>2020/05/11 19:45:42</td>\n",
       "      <td>2,21,136,168</td>\n",
       "      <td>강원도 전체,경기도 전체,서울특별시 전체,인천광역시 전체</td>\n",
       "      <td>35056</td>\n",
       "      <td>[기상청] 05월11일19:45 북한 강원 평강 북북서쪽 37km 지역 규모4.0 ...</td>\n",
       "      <td>cbs_kma</td>\n",
       "    </tr>\n",
       "    <tr>\n",
<<<<<<< HEAD
       "      <th>8178</th>\n",
=======
       "      <th>8146</th>\n",
>>>>>>> 24965cf... Add files via upload
       "      <td>2020/05/03 22:10:42</td>\n",
       "      <td>98,179</td>\n",
       "      <td>광주광역시 전체,전라남도 전체</td>\n",
       "      <td>34429</td>\n",
       "      <td>[기상청] 05월03일22:07 전남 해남군 서북서쪽 21km 지역 규모3.1 지진...</td>\n",
       "      <td>cbs_kma</td>\n",
       "    </tr>\n",
       "    <tr>\n",
<<<<<<< HEAD
       "      <th>17528</th>\n",
=======
       "      <th>17498</th>\n",
>>>>>>> 24965cf... Add files via upload
       "      <td>2020/01/30 00:56:43</td>\n",
       "      <td>74,104,238</td>\n",
       "      <td>경상북도 전체,대구광역시 전체,충청북도 전체</td>\n",
       "      <td>25075</td>\n",
       "      <td>[기상청] 01월30일00:52 경북 상주시 북쪽 20km 지역 규모3.2 지진발생...</td>\n",
       "      <td>cbs_kma</td>\n",
       "    </tr>\n",
       "    <tr>\n",
<<<<<<< HEAD
       "      <th>17604</th>\n",
=======
       "      <th>17574</th>\n",
>>>>>>> 24965cf... Add files via upload
       "      <td>2019/12/30 00:32:26</td>\n",
       "      <td>53,74,104,119,162</td>\n",
       "      <td>경상남도 전체,경상북도 전체,대구광역시 전체,부산광역시 전체,울산광역시 전체</td>\n",
       "      <td>24998</td>\n",
       "      <td>[기상청] 12월30일00:32 경남 밀양시 동북동쪽 16km 지역 규모3.5 지진...</td>\n",
       "      <td>cbs_kma</td>\n",
       "    </tr>\n",
       "    <tr>\n",
<<<<<<< HEAD
       "      <th>17689</th>\n",
=======
       "      <th>17659</th>\n",
>>>>>>> 24965cf... Add files via upload
       "      <td>2019/10/27 15:40:10</td>\n",
       "      <td>53,74,104,119,162</td>\n",
       "      <td>경상남도 전체,경상북도 전체,대구광역시 전체,부산광역시 전체,울산광역시 전체</td>\n",
       "      <td>24912</td>\n",
       "      <td>[기상청] 10월27일15:37 경남 창녕군 남쪽 15km 지역 규모3.4 지진발생...</td>\n",
       "      <td>cbs_kma</td>\n",
       "    </tr>\n",
       "    <tr>\n",
<<<<<<< HEAD
       "      <th>18083</th>\n",
=======
       "      <th>18053</th>\n",
>>>>>>> 24965cf... Add files via upload
       "      <td>2019/07/21 11:05:07</td>\n",
       "      <td>74,104,238</td>\n",
       "      <td>경상북도 전체,대구광역시 전체,충청북도 전체</td>\n",
       "      <td>24517</td>\n",
       "      <td>[기상청] 07월21일11:04 경북 상주시 북북서쪽 11km 지역 규모3.9 지진...</td>\n",
       "      <td>cbs_kma</td>\n",
       "    </tr>\n",
       "    <tr>\n",
<<<<<<< HEAD
       "      <th>18190</th>\n",
=======
       "      <th>18160</th>\n",
>>>>>>> 24965cf... Add files via upload
       "      <td>2019/04/22 05:46:11</td>\n",
       "      <td>74,104</td>\n",
       "      <td>경상북도 전체,대구광역시 전체</td>\n",
       "      <td>24409</td>\n",
       "      <td>[기상청] 04월22일05:45 경북 울진군 동남동쪽 43km 해역 규모4.0 지진...</td>\n",
       "      <td>cbs_kma</td>\n",
       "    </tr>\n",
       "    <tr>\n",
<<<<<<< HEAD
       "      <th>18427</th>\n",
=======
       "      <th>18397</th>\n",
>>>>>>> 24965cf... Add files via upload
       "      <td>2019/02/10 12:54:35</td>\n",
       "      <td>74,104</td>\n",
       "      <td>경상북도 전체,대구광역시 전체</td>\n",
       "      <td>24172</td>\n",
       "      <td>[기상청]02월10일12:53 경북 포항시 북구 동북동쪽 58km 해역 규모4.0 ...</td>\n",
       "      <td>cbs_kma</td>\n",
       "    </tr>\n",
       "  </tbody>\n",
       "</table>\n",
       "</div>"
      ],
      "text/plain": [
       "               create_date        location_id  \\\n",
<<<<<<< HEAD
       "7552   2020/05/11 19:45:42       2,21,136,168   \n",
       "8178   2020/05/03 22:10:42             98,179   \n",
       "17528  2020/01/30 00:56:43         74,104,238   \n",
       "17604  2019/12/30 00:32:26  53,74,104,119,162   \n",
       "17689  2019/10/27 15:40:10  53,74,104,119,162   \n",
       "18083  2019/07/21 11:05:07         74,104,238   \n",
       "18190  2019/04/22 05:46:11             74,104   \n",
       "18427  2019/02/10 12:54:35             74,104   \n",
       "\n",
       "                                    location_name md101_sn  \\\n",
       "7552              강원도 전체,경기도 전체,서울특별시 전체,인천광역시 전체    35056   \n",
       "8178                             광주광역시 전체,전라남도 전체    34429   \n",
       "17528                    경상북도 전체,대구광역시 전체,충청북도 전체    25075   \n",
       "17604  경상남도 전체,경상북도 전체,대구광역시 전체,부산광역시 전체,울산광역시 전체    24998   \n",
       "17689  경상남도 전체,경상북도 전체,대구광역시 전체,부산광역시 전체,울산광역시 전체    24912   \n",
       "18083                    경상북도 전체,대구광역시 전체,충청북도 전체    24517   \n",
       "18190                            경상북도 전체,대구광역시 전체    24409   \n",
       "18427                            경상북도 전체,대구광역시 전체    24172   \n",
       "\n",
       "                                                     msg send_platform  \n",
       "7552   [기상청] 05월11일19:45 북한 강원 평강 북북서쪽 37km 지역 규모4.0 ...       cbs_kma  \n",
       "8178   [기상청] 05월03일22:07 전남 해남군 서북서쪽 21km 지역 규모3.1 지진...       cbs_kma  \n",
       "17528  [기상청] 01월30일00:52 경북 상주시 북쪽 20km 지역 규모3.2 지진발생...       cbs_kma  \n",
       "17604  [기상청] 12월30일00:32 경남 밀양시 동북동쪽 16km 지역 규모3.5 지진...       cbs_kma  \n",
       "17689  [기상청] 10월27일15:37 경남 창녕군 남쪽 15km 지역 규모3.4 지진발생...       cbs_kma  \n",
       "18083  [기상청] 07월21일11:04 경북 상주시 북북서쪽 11km 지역 규모3.9 지진...       cbs_kma  \n",
       "18190  [기상청] 04월22일05:45 경북 울진군 동남동쪽 43km 해역 규모4.0 지진...       cbs_kma  \n",
       "18427  [기상청]02월10일12:53 경북 포항시 북구 동북동쪽 58km 해역 규모4.0 ...       cbs_kma  "
      ]
     },
     "execution_count": 9,
=======
       "7520   2020/05/11 19:45:42       2,21,136,168   \n",
       "8146   2020/05/03 22:10:42             98,179   \n",
       "17498  2020/01/30 00:56:43         74,104,238   \n",
       "17574  2019/12/30 00:32:26  53,74,104,119,162   \n",
       "17659  2019/10/27 15:40:10  53,74,104,119,162   \n",
       "18053  2019/07/21 11:05:07         74,104,238   \n",
       "18160  2019/04/22 05:46:11             74,104   \n",
       "18397  2019/02/10 12:54:35             74,104   \n",
       "\n",
       "                                    location_name md101_sn  \\\n",
       "7520              강원도 전체,경기도 전체,서울특별시 전체,인천광역시 전체    35056   \n",
       "8146                             광주광역시 전체,전라남도 전체    34429   \n",
       "17498                    경상북도 전체,대구광역시 전체,충청북도 전체    25075   \n",
       "17574  경상남도 전체,경상북도 전체,대구광역시 전체,부산광역시 전체,울산광역시 전체    24998   \n",
       "17659  경상남도 전체,경상북도 전체,대구광역시 전체,부산광역시 전체,울산광역시 전체    24912   \n",
       "18053                    경상북도 전체,대구광역시 전체,충청북도 전체    24517   \n",
       "18160                            경상북도 전체,대구광역시 전체    24409   \n",
       "18397                            경상북도 전체,대구광역시 전체    24172   \n",
       "\n",
       "                                                     msg send_platform  \n",
       "7520   [기상청] 05월11일19:45 북한 강원 평강 북북서쪽 37km 지역 규모4.0 ...       cbs_kma  \n",
       "8146   [기상청] 05월03일22:07 전남 해남군 서북서쪽 21km 지역 규모3.1 지진...       cbs_kma  \n",
       "17498  [기상청] 01월30일00:52 경북 상주시 북쪽 20km 지역 규모3.2 지진발생...       cbs_kma  \n",
       "17574  [기상청] 12월30일00:32 경남 밀양시 동북동쪽 16km 지역 규모3.5 지진...       cbs_kma  \n",
       "17659  [기상청] 10월27일15:37 경남 창녕군 남쪽 15km 지역 규모3.4 지진발생...       cbs_kma  \n",
       "18053  [기상청] 07월21일11:04 경북 상주시 북북서쪽 11km 지역 규모3.9 지진...       cbs_kma  \n",
       "18160  [기상청] 04월22일05:45 경북 울진군 동남동쪽 43km 해역 규모4.0 지진...       cbs_kma  \n",
       "18397  [기상청]02월10일12:53 경북 포항시 북구 동북동쪽 58km 해역 규모4.0 ...       cbs_kma  "
      ]
     },
     "execution_count": 21,
>>>>>>> 24965cf... Add files via upload
     "metadata": {},
     "output_type": "execute_result"
    }
   ],
   "source": [
    "msg_api_df[msg_api_df[\"send_platform\"] == 'cbs_kma']"
   ]
  },
  {
   "cell_type": "code",
<<<<<<< HEAD
   "execution_count": 10,
=======
   "execution_count": 22,
>>>>>>> 24965cf... Add files via upload
   "metadata": {},
   "outputs": [
    {
     "data": {
      "text/html": [
       "<div>\n",
       "<style scoped>\n",
       "    .dataframe tbody tr th:only-of-type {\n",
       "        vertical-align: middle;\n",
       "    }\n",
       "\n",
       "    .dataframe tbody tr th {\n",
       "        vertical-align: top;\n",
       "    }\n",
       "\n",
       "    .dataframe thead th {\n",
       "        text-align: right;\n",
       "    }\n",
       "</style>\n",
       "<table border=\"1\" class=\"dataframe\">\n",
       "  <thead>\n",
       "    <tr style=\"text-align: right;\">\n",
       "      <th></th>\n",
       "      <th>create_date</th>\n",
       "      <th>location_id</th>\n",
       "      <th>location_name</th>\n",
       "      <th>md101_sn</th>\n",
       "      <th>msg</th>\n",
       "      <th>send_platform</th>\n",
       "    </tr>\n",
       "  </thead>\n",
       "  <tbody>\n",
       "    <tr>\n",
<<<<<<< HEAD
       "      <th>20216</th>\n",
=======
       "      <th>20186</th>\n",
>>>>>>> 24965cf... Add files via upload
       "      <td>2017/01/27 09:50:04</td>\n",
       "      <td>3100000000</td>\n",
       "      <td>울산광역시</td>\n",
       "      <td>2336</td>\n",
       "      <td>〔울산광역재난안전대책본부〕안전안내, 설날 당일 옥동공원묘지 일대 교통혼잡 및 교통사...</td>\n",
       "      <td>SafeOn</td>\n",
       "    </tr>\n",
       "    <tr>\n",
<<<<<<< HEAD
       "      <th>20227</th>\n",
=======
       "      <th>20197</th>\n",
>>>>>>> 24965cf... Add files via upload
       "      <td>2017/01/20 14:48:39</td>\n",
       "      <td>4711000000</td>\n",
       "      <td>경상북도 포항시</td>\n",
       "      <td>2325</td>\n",
       "      <td>[포항시재난안전대책본부]안전안내, 금일 15:00 동해남부앞바다 풍랑경보, 포항시 ...</td>\n",
       "      <td>SafeOn</td>\n",
       "    </tr>\n",
       "    <tr>\n",
<<<<<<< HEAD
       "      <th>20263</th>\n",
=======
       "      <th>20233</th>\n",
>>>>>>> 24965cf... Add files via upload
       "      <td>2016/10/15 20:20:04</td>\n",
       "      <td>3100000000</td>\n",
       "      <td>울산광역시</td>\n",
       "      <td>2289</td>\n",
       "      <td>2016.10.16(일) 예상강수량이 20~60mm로 예상되고 대암댐 자연월류량이 ...</td>\n",
       "      <td>SafeOn</td>\n",
       "    </tr>\n",
       "    <tr>\n",
<<<<<<< HEAD
       "      <th>20264</th>\n",
=======
       "      <th>20234</th>\n",
>>>>>>> 24965cf... Add files via upload
       "      <td>2016/10/15 12:31:51</td>\n",
       "      <td>3100000000</td>\n",
       "      <td>울산광역시</td>\n",
       "      <td>2288</td>\n",
       "      <td>○ 남해안 동부지역 17~18일 대조기로 해수면이 1.5~2.9m 상승되니 저지대 ...</td>\n",
       "      <td>SafeOn</td>\n",
       "    </tr>\n",
       "    <tr>\n",
<<<<<<< HEAD
       "      <th>20265</th>\n",
=======
       "      <th>20235</th>\n",
>>>>>>> 24965cf... Add files via upload
       "      <td>2016/10/15 12:21:23</td>\n",
       "      <td>3100000000</td>\n",
       "      <td>울산광역시</td>\n",
       "      <td>2287</td>\n",
       "      <td>○ 남해안 동부지역 17~18일 대조기로 해수면이 1.5~2.9m 상승되니 저지대 ...</td>\n",
       "      <td>SafeOn</td>\n",
       "    </tr>\n",
       "    <tr>\n",
       "      <th>...</th>\n",
       "      <td>...</td>\n",
       "      <td>...</td>\n",
       "      <td>...</td>\n",
       "      <td>...</td>\n",
       "      <td>...</td>\n",
       "      <td>...</td>\n",
       "    </tr>\n",
       "    <tr>\n",
<<<<<<< HEAD
       "      <th>22072</th>\n",
=======
       "      <th>22041</th>\n",
>>>>>>> 24965cf... Add files via upload
       "      <td>2012/01/12 07:10:53</td>\n",
       "      <td>4217000000</td>\n",
       "      <td>강원도 동해시</td>\n",
       "      <td>129</td>\n",
       "      <td>[풍랑주의보해제] 01.12, 04:00 강원남부앞바다, 강원중부앞바다, 동해중부먼...</td>\n",
       "      <td>SafeOn</td>\n",
       "    </tr>\n",
       "    <tr>\n",
<<<<<<< HEAD
       "      <th>22073</th>\n",
=======
       "      <th>22042</th>\n",
>>>>>>> 24965cf... Add files via upload
       "      <td>2012/01/11 07:29:48</td>\n",
       "      <td>4217000000</td>\n",
       "      <td>강원도 동해시</td>\n",
       "      <td>128</td>\n",
       "      <td>풍랑주의보 발표 01.11. 09:00 발효 동해중부앞바다 사전대비 및 재난예방 철...</td>\n",
       "      <td>SafeOn</td>\n",
       "    </tr>\n",
       "    <tr>\n",
<<<<<<< HEAD
       "      <th>22074</th>\n",
=======
       "      <th>22043</th>\n",
>>>>>>> 24965cf... Add files via upload
       "      <td>2012/01/10 23:27:55</td>\n",
       "      <td>4217000000</td>\n",
       "      <td>강원도 동해시</td>\n",
       "      <td>127</td>\n",
       "      <td>풍랑주의보 발표 동해남부전해상 01월11일 03:00 발효 사전대비 및 재난예방 철...</td>\n",
       "      <td>SafeOn</td>\n",
       "    </tr>\n",
       "    <tr>\n",
<<<<<<< HEAD
       "      <th>22075</th>\n",
=======
       "      <th>22044</th>\n",
>>>>>>> 24965cf... Add files via upload
       "      <td>2012/01/10 22:44:01</td>\n",
       "      <td>4217000000</td>\n",
       "      <td>강원도 동해시</td>\n",
       "      <td>126</td>\n",
       "      <td>풍랑주의보 발표 동해중부먼바다 01월 11일 01:00 발효 사전대비 바랍니다. -...</td>\n",
       "      <td>SafeOn</td>\n",
       "    </tr>\n",
       "    <tr>\n",
<<<<<<< HEAD
       "      <th>22076</th>\n",
=======
       "      <th>22045</th>\n",
>>>>>>> 24965cf... Add files via upload
       "      <td>2012/01/10 17:23:14</td>\n",
       "      <td>4217000000</td>\n",
       "      <td>강원도 동해시</td>\n",
       "      <td>125</td>\n",
       "      <td>한파주의보발표 01.10. 17:00  시설별 월동대비 및 취약자 관리철저 -동해시...</td>\n",
       "      <td>SafeOn</td>\n",
       "    </tr>\n",
       "  </tbody>\n",
       "</table>\n",
<<<<<<< HEAD
       "<p>372 rows × 6 columns</p>\n",
=======
       "<p>371 rows × 6 columns</p>\n",
>>>>>>> 24965cf... Add files via upload
       "</div>"
      ],
      "text/plain": [
       "               create_date location_id location_name md101_sn  \\\n",
<<<<<<< HEAD
       "20216  2017/01/27 09:50:04  3100000000         울산광역시     2336   \n",
       "20227  2017/01/20 14:48:39  4711000000      경상북도 포항시     2325   \n",
       "20263  2016/10/15 20:20:04  3100000000         울산광역시     2289   \n",
       "20264  2016/10/15 12:31:51  3100000000         울산광역시     2288   \n",
       "20265  2016/10/15 12:21:23  3100000000         울산광역시     2287   \n",
       "...                    ...         ...           ...      ...   \n",
       "22072  2012/01/12 07:10:53  4217000000       강원도 동해시      129   \n",
       "22073  2012/01/11 07:29:48  4217000000       강원도 동해시      128   \n",
       "22074  2012/01/10 23:27:55  4217000000       강원도 동해시      127   \n",
       "22075  2012/01/10 22:44:01  4217000000       강원도 동해시      126   \n",
       "22076  2012/01/10 17:23:14  4217000000       강원도 동해시      125   \n",
       "\n",
       "                                                     msg send_platform  \n",
       "20216  〔울산광역재난안전대책본부〕안전안내, 설날 당일 옥동공원묘지 일대 교통혼잡 및 교통사...        SafeOn  \n",
       "20227  [포항시재난안전대책본부]안전안내, 금일 15:00 동해남부앞바다 풍랑경보, 포항시 ...        SafeOn  \n",
       "20263  2016.10.16(일) 예상강수량이 20~60mm로 예상되고 대암댐 자연월류량이 ...        SafeOn  \n",
       "20264  ○ 남해안 동부지역 17~18일 대조기로 해수면이 1.5~2.9m 상승되니 저지대 ...        SafeOn  \n",
       "20265  ○ 남해안 동부지역 17~18일 대조기로 해수면이 1.5~2.9m 상승되니 저지대 ...        SafeOn  \n",
       "...                                                  ...           ...  \n",
       "22072  [풍랑주의보해제] 01.12, 04:00 강원남부앞바다, 강원중부앞바다, 동해중부먼...        SafeOn  \n",
       "22073  풍랑주의보 발표 01.11. 09:00 발효 동해중부앞바다 사전대비 및 재난예방 철...        SafeOn  \n",
       "22074  풍랑주의보 발표 동해남부전해상 01월11일 03:00 발효 사전대비 및 재난예방 철...        SafeOn  \n",
       "22075  풍랑주의보 발표 동해중부먼바다 01월 11일 01:00 발효 사전대비 바랍니다. -...        SafeOn  \n",
       "22076  한파주의보발표 01.10. 17:00  시설별 월동대비 및 취약자 관리철저 -동해시...        SafeOn  \n",
       "\n",
       "[372 rows x 6 columns]"
      ]
     },
     "execution_count": 10,
=======
       "20186  2017/01/27 09:50:04  3100000000         울산광역시     2336   \n",
       "20197  2017/01/20 14:48:39  4711000000      경상북도 포항시     2325   \n",
       "20233  2016/10/15 20:20:04  3100000000         울산광역시     2289   \n",
       "20234  2016/10/15 12:31:51  3100000000         울산광역시     2288   \n",
       "20235  2016/10/15 12:21:23  3100000000         울산광역시     2287   \n",
       "...                    ...         ...           ...      ...   \n",
       "22041  2012/01/12 07:10:53  4217000000       강원도 동해시      129   \n",
       "22042  2012/01/11 07:29:48  4217000000       강원도 동해시      128   \n",
       "22043  2012/01/10 23:27:55  4217000000       강원도 동해시      127   \n",
       "22044  2012/01/10 22:44:01  4217000000       강원도 동해시      126   \n",
       "22045  2012/01/10 17:23:14  4217000000       강원도 동해시      125   \n",
       "\n",
       "                                                     msg send_platform  \n",
       "20186  〔울산광역재난안전대책본부〕안전안내, 설날 당일 옥동공원묘지 일대 교통혼잡 및 교통사...        SafeOn  \n",
       "20197  [포항시재난안전대책본부]안전안내, 금일 15:00 동해남부앞바다 풍랑경보, 포항시 ...        SafeOn  \n",
       "20233  2016.10.16(일) 예상강수량이 20~60mm로 예상되고 대암댐 자연월류량이 ...        SafeOn  \n",
       "20234  ○ 남해안 동부지역 17~18일 대조기로 해수면이 1.5~2.9m 상승되니 저지대 ...        SafeOn  \n",
       "20235  ○ 남해안 동부지역 17~18일 대조기로 해수면이 1.5~2.9m 상승되니 저지대 ...        SafeOn  \n",
       "...                                                  ...           ...  \n",
       "22041  [풍랑주의보해제] 01.12, 04:00 강원남부앞바다, 강원중부앞바다, 동해중부먼...        SafeOn  \n",
       "22042  풍랑주의보 발표 01.11. 09:00 발효 동해중부앞바다 사전대비 및 재난예방 철...        SafeOn  \n",
       "22043  풍랑주의보 발표 동해남부전해상 01월11일 03:00 발효 사전대비 및 재난예방 철...        SafeOn  \n",
       "22044  풍랑주의보 발표 동해중부먼바다 01월 11일 01:00 발효 사전대비 바랍니다. -...        SafeOn  \n",
       "22045  한파주의보발표 01.10. 17:00  시설별 월동대비 및 취약자 관리철저 -동해시...        SafeOn  \n",
       "\n",
       "[371 rows x 6 columns]"
      ]
     },
     "execution_count": 22,
>>>>>>> 24965cf... Add files via upload
     "metadata": {},
     "output_type": "execute_result"
    }
   ],
   "source": [
    "msg_api_df[msg_api_df[\"send_platform\"] == 'SafeOn']"
   ]
  },
  {
   "cell_type": "code",
<<<<<<< HEAD
   "execution_count": 11,
=======
   "execution_count": 43,
>>>>>>> 24965cf... Add files via upload
   "metadata": {},
   "outputs": [],
   "source": [
    "# 총 379개 행의 'send_platform'열이 'cbs'가 아닌 다른 값을 가짐을 확인\n",
<<<<<<< HEAD
    "# 분석에 필요 없다고 판단되어 'send_platform'열을 제거"
=======
    "# 분석에 필요 없다고 판단될 경우, 'send_platform'열을 제거"
>>>>>>> 24965cf... Add files via upload
   ]
  },
  {
   "cell_type": "code",
<<<<<<< HEAD
   "execution_count": 15,
   "metadata": {},
   "outputs": [],
   "source": [
    "msg_api_df = msg_api_df.drop('send_platform', axis=1)"
   ]
  },
  {
   "cell_type": "code",
   "execution_count": 16,
   "metadata": {},
   "outputs": [
    {
     "data": {
      "text/html": [
       "<div>\n",
       "<style scoped>\n",
       "    .dataframe tbody tr th:only-of-type {\n",
       "        vertical-align: middle;\n",
       "    }\n",
       "\n",
       "    .dataframe tbody tr th {\n",
       "        vertical-align: top;\n",
       "    }\n",
       "\n",
       "    .dataframe thead th {\n",
       "        text-align: right;\n",
       "    }\n",
       "</style>\n",
       "<table border=\"1\" class=\"dataframe\">\n",
       "  <thead>\n",
       "    <tr style=\"text-align: right;\">\n",
       "      <th></th>\n",
       "      <th>create_date</th>\n",
       "      <th>location_id</th>\n",
       "      <th>location_name</th>\n",
       "      <th>md101_sn</th>\n",
       "      <th>msg</th>\n",
       "    </tr>\n",
       "  </thead>\n",
       "  <tbody>\n",
       "    <tr>\n",
       "      <th>0</th>\n",
       "      <td>2020/08/06 14:20:00</td>\n",
       "      <td>49</td>\n",
       "      <td>경기도 평택시</td>\n",
       "      <td>42609</td>\n",
       "      <td>[평택시청]관내 하천 상류지역에 내린 집중호우로 위험 할 수 있으니 하천변, 하천둔...</td>\n",
       "    </tr>\n",
       "    <tr>\n",
       "      <th>1</th>\n",
       "      <td>2020/08/06 14:06:06</td>\n",
       "      <td>52</td>\n",
       "      <td>경기도 화성시</td>\n",
       "      <td>42608</td>\n",
       "      <td>[화성시청]코로나19 수원시 113번 확진자(화성시 능동 거주) 발생. 격리병원 이...</td>\n",
       "    </tr>\n",
       "    <tr>\n",
       "      <th>2</th>\n",
       "      <td>2020/08/06 14:01:35</td>\n",
       "      <td>21</td>\n",
       "      <td>경기도 전체</td>\n",
       "      <td>42607</td>\n",
       "      <td>[경기도청] 경기도내 산사태 위험수준이 “심각단계”로 산림 인근지역 방문을 자제하시...</td>\n",
       "    </tr>\n",
       "    <tr>\n",
       "      <th>3</th>\n",
       "      <td>2020/08/06 13:51:38</td>\n",
       "      <td>11,20,41</td>\n",
       "      <td>강원도 원주시,강원도 횡성군,경기도 여주시</td>\n",
       "      <td>42606</td>\n",
       "      <td>[한강홍수통제소]오늘 13:40 섬강 원주시(문막교) 홍수주의보 발령, 안전에 유의...</td>\n",
       "    </tr>\n",
       "    <tr>\n",
       "      <th>4</th>\n",
       "      <td>2020/08/06 12:47:48</td>\n",
       "      <td>8</td>\n",
       "      <td>강원도 양구군</td>\n",
       "      <td>42605</td>\n",
       "      <td>[양구군청]집중호우에 따라 양구읍 상용터널 내 조명고장에 현재 조사 중으로, 시간이...</td>\n",
       "    </tr>\n",
       "    <tr>\n",
       "      <th>...</th>\n",
       "      <td>...</td>\n",
       "      <td>...</td>\n",
       "      <td>...</td>\n",
       "      <td>...</td>\n",
       "      <td>...</td>\n",
       "    </tr>\n",
       "    <tr>\n",
       "      <th>22095</th>\n",
       "      <td>2011/11/20 12:10:41</td>\n",
       "      <td>3,4,5,6,7,9</td>\n",
       "      <td>강원도 강릉시,강원도 고성군,강원도 동해시,강원도 삼척시,강원도 속초시,강원도 양양군</td>\n",
       "      <td>10</td>\n",
       "      <td>[국민안전처]20일 12시 동해중부먼바다 풍랑경보, 어선은 출항을 금지하고 출어선은...</td>\n",
       "    </tr>\n",
       "    <tr>\n",
       "      <th>22096</th>\n",
       "      <td>2011/11/18 21:12:20</td>\n",
       "      <td>200</td>\n",
       "      <td>전라남도 해남군</td>\n",
       "      <td>9</td>\n",
       "      <td>[국민안전처]\\n18일21시10분 전남 해남지역 호우경보, 상습침수및위험지역 대피,...</td>\n",
       "    </tr>\n",
       "    <tr>\n",
       "      <th>22097</th>\n",
       "      <td>2011/11/18 11:38:36</td>\n",
       "      <td>217</td>\n",
       "      <td>제주특별자치도 전체</td>\n",
       "      <td>8</td>\n",
       "      <td>[국민안전처]\\n18일11시30분 제주동부지역 호우경보, 상습침수및위험지역 대피,외...</td>\n",
       "    </tr>\n",
       "    <tr>\n",
       "      <th>22098</th>\n",
       "      <td>2011/11/18 08:20:05</td>\n",
       "      <td>217</td>\n",
       "      <td>제주특별자치도 전체</td>\n",
       "      <td>7</td>\n",
       "      <td>[국민안전처]\\n18일8시20분 제주산간,북부지역 호우경보, 상습침수및위험지역 대피...</td>\n",
       "    </tr>\n",
       "    <tr>\n",
       "      <th>22099</th>\n",
       "      <td>2011/11/18 07:43:44</td>\n",
       "      <td>217</td>\n",
       "      <td>제주특별자치도 전체</td>\n",
       "      <td>6</td>\n",
       "      <td>[국민안전처]\\n18일07:30 제주서부지역 호우경보, 상습침수및위험지역 대피,외출...</td>\n",
       "    </tr>\n",
       "  </tbody>\n",
       "</table>\n",
       "<p>22100 rows × 5 columns</p>\n",
       "</div>"
      ],
      "text/plain": [
       "               create_date  location_id  \\\n",
       "0      2020/08/06 14:20:00           49   \n",
       "1      2020/08/06 14:06:06           52   \n",
       "2      2020/08/06 14:01:35           21   \n",
       "3      2020/08/06 13:51:38     11,20,41   \n",
       "4      2020/08/06 12:47:48            8   \n",
       "...                    ...          ...   \n",
       "22095  2011/11/20 12:10:41  3,4,5,6,7,9   \n",
       "22096  2011/11/18 21:12:20          200   \n",
       "22097  2011/11/18 11:38:36          217   \n",
       "22098  2011/11/18 08:20:05          217   \n",
       "22099  2011/11/18 07:43:44          217   \n",
       "\n",
       "                                         location_name md101_sn  \\\n",
       "0                                              경기도 평택시    42609   \n",
       "1                                              경기도 화성시    42608   \n",
       "2                                               경기도 전체    42607   \n",
       "3                              강원도 원주시,강원도 횡성군,경기도 여주시    42606   \n",
       "4                                              강원도 양구군    42605   \n",
       "...                                                ...      ...   \n",
       "22095  강원도 강릉시,강원도 고성군,강원도 동해시,강원도 삼척시,강원도 속초시,강원도 양양군       10   \n",
       "22096                                         전라남도 해남군        9   \n",
       "22097                                       제주특별자치도 전체        8   \n",
       "22098                                       제주특별자치도 전체        7   \n",
       "22099                                       제주특별자치도 전체        6   \n",
       "\n",
       "                                                     msg  \n",
       "0      [평택시청]관내 하천 상류지역에 내린 집중호우로 위험 할 수 있으니 하천변, 하천둔...  \n",
       "1      [화성시청]코로나19 수원시 113번 확진자(화성시 능동 거주) 발생. 격리병원 이...  \n",
       "2      [경기도청] 경기도내 산사태 위험수준이 “심각단계”로 산림 인근지역 방문을 자제하시...  \n",
       "3      [한강홍수통제소]오늘 13:40 섬강 원주시(문막교) 홍수주의보 발령, 안전에 유의...  \n",
       "4      [양구군청]집중호우에 따라 양구읍 상용터널 내 조명고장에 현재 조사 중으로, 시간이...  \n",
       "...                                                  ...  \n",
       "22095  [국민안전처]20일 12시 동해중부먼바다 풍랑경보, 어선은 출항을 금지하고 출어선은...  \n",
       "22096  [국민안전처]\\n18일21시10분 전남 해남지역 호우경보, 상습침수및위험지역 대피,...  \n",
       "22097  [국민안전처]\\n18일11시30분 제주동부지역 호우경보, 상습침수및위험지역 대피,외...  \n",
       "22098  [국민안전처]\\n18일8시20분 제주산간,북부지역 호우경보, 상습침수및위험지역 대피...  \n",
       "22099  [국민안전처]\\n18일07:30 제주서부지역 호우경보, 상습침수및위험지역 대피,외출...  \n",
       "\n",
       "[22100 rows x 5 columns]"
      ]
     },
     "execution_count": 16,
     "metadata": {},
     "output_type": "execute_result"
    }
   ],
   "source": [
    "msg_api_df"
   ]
  },
  {
   "cell_type": "code",
   "execution_count": null,
   "metadata": {},
   "outputs": [],
   "source": []
=======
   "execution_count": null,
   "metadata": {},
   "outputs": [],
   "source": [
    "# msg_api_df = msg_api_df.drop(['send_platform'], axis=column, inplace=True)"
   ]
>>>>>>> 24965cf... Add files via upload
  }
 ],
 "metadata": {
  "kernelspec": {
   "display_name": "Python 3",
   "language": "python",
   "name": "python3"
  },
  "language_info": {
   "codemirror_mode": {
    "name": "ipython",
    "version": 3
   },
   "file_extension": ".py",
   "mimetype": "text/x-python",
   "name": "python",
   "nbconvert_exporter": "python",
   "pygments_lexer": "ipython3",
   "version": "3.7.6"
  }
 },
 "nbformat": 4,
 "nbformat_minor": 4
}
