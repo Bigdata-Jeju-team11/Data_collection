{
 "cells": [
  {
   "cell_type": "code",
   "execution_count": 1,
   "metadata": {},
   "outputs": [],
   "source": [
    "import pandas as pd"
   ]
  },
  {
   "cell_type": "code",
   "execution_count": 2,
   "metadata": {},
   "outputs": [],
   "source": [
    "df = pd.read_csv(r'C:\\Users\\Shin\\Desktop\\for-kr-pjt\\NoonMap-Project\\data\\file_data\\수위_관측소_rawdata.csv')"
   ]
  },
  {
   "cell_type": "code",
   "execution_count": 4,
   "metadata": {},
   "outputs": [
    {
     "name": "stdout",
     "output_type": "stream",
     "text": [
      "<class 'pandas.core.frame.DataFrame'>\n",
      "RangeIndex: 138 entries, 0 to 137\n",
      "Data columns (total 11 columns):\n",
      " #   Column          Non-Null Count  Dtype  \n",
      "---  ------          --------------  -----  \n",
      " 0   Unnamed: 0      138 non-null    int64  \n",
      " 1   station_code    138 non-null    int64  \n",
      " 2   station_name    138 non-null    object \n",
      " 3   address         136 non-null    object \n",
      " 4   etc_address     136 non-null    object \n",
      " 5   longitude       138 non-null    object \n",
      " 6   latitude        138 non-null    object \n",
      " 7   zero_elevation  102 non-null    float64\n",
      " 8   warning_wl      81 non-null     float64\n",
      " 9   alarm_wl        81 non-null     float64\n",
      " 10  pfh             84 non-null     float64\n",
      "dtypes: float64(4), int64(2), object(5)\n",
      "memory usage: 12.0+ KB\n"
     ]
    }
   ],
   "source": [
    "df.info()"
   ]
  },
  {
   "cell_type": "code",
   "execution_count": 6,
   "metadata": {},
   "outputs": [
    {
     "data": {
      "text/plain": [
       "Unnamed: 0         0\n",
       "station_code       0\n",
       "station_name       0\n",
       "address            2\n",
       "etc_address        2\n",
       "longitude          0\n",
       "latitude           0\n",
       "zero_elevation    36\n",
       "warning_wl        57\n",
       "alarm_wl          57\n",
       "pfh               54\n",
       "dtype: int64"
      ]
     },
     "execution_count": 6,
     "metadata": {},
     "output_type": "execute_result"
    }
   ],
   "source": [
    "df.isna().sum()"
   ]
  },
  {
   "cell_type": "code",
   "execution_count": 19,
   "metadata": {},
   "outputs": [
    {
     "data": {
      "text/html": [
       "<div>\n",
       "<style scoped>\n",
       "    .dataframe tbody tr th:only-of-type {\n",
       "        vertical-align: middle;\n",
       "    }\n",
       "\n",
       "    .dataframe tbody tr th {\n",
       "        vertical-align: top;\n",
       "    }\n",
       "\n",
       "    .dataframe thead th {\n",
       "        text-align: right;\n",
       "    }\n",
       "</style>\n",
       "<table border=\"1\" class=\"dataframe\">\n",
       "  <thead>\n",
       "    <tr style=\"text-align: right;\">\n",
       "      <th></th>\n",
       "      <th>station_code</th>\n",
       "      <th>station_name</th>\n",
       "      <th>address</th>\n",
       "      <th>etc_address</th>\n",
       "      <th>longitude</th>\n",
       "      <th>latitude</th>\n",
       "    </tr>\n",
       "  </thead>\n",
       "  <tbody>\n",
       "    <tr>\n",
       "      <th>0</th>\n",
       "      <td>1007604</td>\n",
       "      <td>안성시(한평교)</td>\n",
       "      <td>경기도 안성시 일죽면</td>\n",
       "      <td>고은리 한평교</td>\n",
       "      <td>127-26-01</td>\n",
       "      <td>37-06-24</td>\n",
       "    </tr>\n",
       "    <tr>\n",
       "      <th>1</th>\n",
       "      <td>1007605</td>\n",
       "      <td>이천시(장호원교)</td>\n",
       "      <td>경기도 이천시</td>\n",
       "      <td>장호원읍 장호원리 장호원교</td>\n",
       "      <td>127-38-07</td>\n",
       "      <td>37-06-54</td>\n",
       "    </tr>\n",
       "    <tr>\n",
       "      <th>2</th>\n",
       "      <td>1007615</td>\n",
       "      <td>여주시(원부교)</td>\n",
       "      <td>경기도 여주시</td>\n",
       "      <td>점동면 원부리 원부교</td>\n",
       "      <td>127-38-03</td>\n",
       "      <td>37-09-45</td>\n",
       "    </tr>\n",
       "    <tr>\n",
       "      <th>3</th>\n",
       "      <td>1007617</td>\n",
       "      <td>여주시(삼합교)</td>\n",
       "      <td>경기도 여주시</td>\n",
       "      <td>점동면 삼합리 삼합교</td>\n",
       "      <td>127-43-09</td>\n",
       "      <td>37-12-08</td>\n",
       "    </tr>\n",
       "    <tr>\n",
       "      <th>4</th>\n",
       "      <td>1007620</td>\n",
       "      <td>여주시(강천리)</td>\n",
       "      <td>경기도 여주시</td>\n",
       "      <td>강천면 강천리 546-1</td>\n",
       "      <td>127-42-50</td>\n",
       "      <td>37-13-52</td>\n",
       "    </tr>\n",
       "    <tr>\n",
       "      <th>...</th>\n",
       "      <td>...</td>\n",
       "      <td>...</td>\n",
       "      <td>...</td>\n",
       "      <td>...</td>\n",
       "      <td>...</td>\n",
       "      <td>...</td>\n",
       "    </tr>\n",
       "    <tr>\n",
       "      <th>133</th>\n",
       "      <td>1201653</td>\n",
       "      <td>아라서해갑문(외)</td>\n",
       "      <td>인천광역시 서구</td>\n",
       "      <td>경서로 31번길 1</td>\n",
       "      <td>126-36-5</td>\n",
       "      <td>37-33-37</td>\n",
       "    </tr>\n",
       "    <tr>\n",
       "      <th>134</th>\n",
       "      <td>1201654</td>\n",
       "      <td>아라서해갑실(북)</td>\n",
       "      <td>인천광역시 서구</td>\n",
       "      <td>경서로 31번길 1</td>\n",
       "      <td>126-36-10</td>\n",
       "      <td>37-33-40</td>\n",
       "    </tr>\n",
       "    <tr>\n",
       "      <th>135</th>\n",
       "      <td>1202630</td>\n",
       "      <td>반월2</td>\n",
       "      <td>경기도 안산시</td>\n",
       "      <td>장상2동</td>\n",
       "      <td>126-52-30</td>\n",
       "      <td>37-20-54</td>\n",
       "    </tr>\n",
       "    <tr>\n",
       "      <th>136</th>\n",
       "      <td>1202660</td>\n",
       "      <td>반월1</td>\n",
       "      <td>경기도 안산시상록구 성포동</td>\n",
       "      <td>노적봉공원내</td>\n",
       "      <td>126-51-25</td>\n",
       "      <td>37-19-22</td>\n",
       "    </tr>\n",
       "    <tr>\n",
       "      <th>137</th>\n",
       "      <td>1202670</td>\n",
       "      <td>남양(외)</td>\n",
       "      <td>경기도 평택시 포승면</td>\n",
       "      <td>원정리</td>\n",
       "      <td>126-48-00</td>\n",
       "      <td>37-00-02</td>\n",
       "    </tr>\n",
       "  </tbody>\n",
       "</table>\n",
       "<p>138 rows × 6 columns</p>\n",
       "</div>"
      ],
      "text/plain": [
       "     station_code station_name         address     etc_address  longitude  \\\n",
       "0         1007604     안성시(한평교)     경기도 안성시 일죽면         고은리 한평교  127-26-01   \n",
       "1         1007605    이천시(장호원교)         경기도 이천시  장호원읍 장호원리 장호원교  127-38-07   \n",
       "2         1007615     여주시(원부교)         경기도 여주시     점동면 원부리 원부교  127-38-03   \n",
       "3         1007617     여주시(삼합교)         경기도 여주시     점동면 삼합리 삼합교  127-43-09   \n",
       "4         1007620     여주시(강천리)         경기도 여주시   강천면 강천리 546-1  127-42-50   \n",
       "..            ...          ...             ...             ...        ...   \n",
       "133       1201653    아라서해갑문(외)        인천광역시 서구      경서로 31번길 1  126-36-5    \n",
       "134       1201654    아라서해갑실(북)        인천광역시 서구      경서로 31번길 1  126-36-10   \n",
       "135       1202630          반월2         경기도 안산시            장상2동  126-52-30   \n",
       "136       1202660          반월1  경기도 안산시상록구 성포동          노적봉공원내  126-51-25   \n",
       "137       1202670        남양(외)     경기도 평택시 포승면            원정리   126-48-00   \n",
       "\n",
       "      latitude  \n",
       "0    37-06-24   \n",
       "1    37-06-54   \n",
       "2    37-09-45   \n",
       "3    37-12-08   \n",
       "4    37-13-52   \n",
       "..         ...  \n",
       "133  37-33-37   \n",
       "134  37-33-40   \n",
       "135  37-20-54   \n",
       "136  37-19-22   \n",
       "137  37-00-02   \n",
       "\n",
       "[138 rows x 6 columns]"
      ]
     },
     "execution_count": 19,
     "metadata": {},
     "output_type": "execute_result"
    }
   ],
   "source": [
    "df"
   ]
  },
  {
   "cell_type": "code",
   "execution_count": 8,
   "metadata": {},
   "outputs": [],
   "source": [
    "# 불필요한 컬럼 제거\n",
    "df = df.drop(columns=['Unnamed: 0', 'zero_elevation', 'warning_wl', 'alarm_wl', 'pfh'])"
   ]
  },
  {
   "cell_type": "code",
   "execution_count": 26,
   "metadata": {},
   "outputs": [
    {
     "data": {
      "text/html": [
       "<div>\n",
       "<style scoped>\n",
       "    .dataframe tbody tr th:only-of-type {\n",
       "        vertical-align: middle;\n",
       "    }\n",
       "\n",
       "    .dataframe tbody tr th {\n",
       "        vertical-align: top;\n",
       "    }\n",
       "\n",
       "    .dataframe thead th {\n",
       "        text-align: right;\n",
       "    }\n",
       "</style>\n",
       "<table border=\"1\" class=\"dataframe\">\n",
       "  <thead>\n",
       "    <tr style=\"text-align: right;\">\n",
       "      <th></th>\n",
       "      <th>station_code</th>\n",
       "      <th>station_name</th>\n",
       "      <th>address</th>\n",
       "      <th>etc_address</th>\n",
       "      <th>longitude</th>\n",
       "      <th>latitude</th>\n",
       "    </tr>\n",
       "  </thead>\n",
       "  <tbody>\n",
       "    <tr>\n",
       "      <th>78</th>\n",
       "      <td>1019640</td>\n",
       "      <td>굴포천(내)</td>\n",
       "      <td>NaN</td>\n",
       "      <td>NaN</td>\n",
       "      <td>126-45-35</td>\n",
       "      <td>37-31-23</td>\n",
       "    </tr>\n",
       "    <tr>\n",
       "      <th>84</th>\n",
       "      <td>1019660</td>\n",
       "      <td>굴포천(한강)</td>\n",
       "      <td>NaN</td>\n",
       "      <td>NaN</td>\n",
       "      <td>126-46-58</td>\n",
       "      <td>37-35-23</td>\n",
       "    </tr>\n",
       "  </tbody>\n",
       "</table>\n",
       "</div>"
      ],
      "text/plain": [
       "    station_code station_name address etc_address  longitude   latitude\n",
       "78       1019640       굴포천(내)     NaN         NaN  126-45-35  37-31-23 \n",
       "84       1019660      굴포천(한강)     NaN         NaN  126-46-58  37-35-23 "
      ]
     },
     "execution_count": 26,
     "metadata": {},
     "output_type": "execute_result"
    }
   ],
   "source": [
    "# 결측값 처리\n",
    "df[df['address'].isna() == True]"
   ]
  },
  {
   "cell_type": "code",
   "execution_count": 35,
   "metadata": {},
   "outputs": [
    {
     "name": "stderr",
     "output_type": "stream",
     "text": [
      "C:\\Users\\Shin\\Anaconda3\\lib\\site-packages\\ipykernel_launcher.py:1: SettingWithCopyWarning: \n",
      "A value is trying to be set on a copy of a slice from a DataFrame\n",
      "\n",
      "See the caveats in the documentation: https://pandas.pydata.org/pandas-docs/stable/user_guide/indexing.html#returning-a-view-versus-a-copy\n",
      "  \"\"\"Entry point for launching an IPython kernel.\n"
     ]
    }
   ],
   "source": [
    "df['address'][78] = '인천광역시 부평구'"
   ]
  },
  {
   "cell_type": "code",
   "execution_count": 36,
   "metadata": {},
   "outputs": [
    {
     "name": "stderr",
     "output_type": "stream",
     "text": [
      "C:\\Users\\Shin\\Anaconda3\\lib\\site-packages\\ipykernel_launcher.py:1: SettingWithCopyWarning: \n",
      "A value is trying to be set on a copy of a slice from a DataFrame\n",
      "\n",
      "See the caveats in the documentation: https://pandas.pydata.org/pandas-docs/stable/user_guide/indexing.html#returning-a-view-versus-a-copy\n",
      "  \"\"\"Entry point for launching an IPython kernel.\n"
     ]
    }
   ],
   "source": [
    "df['etc_address'][78] = '삼산1동 325-326'"
   ]
  },
  {
   "cell_type": "code",
   "execution_count": 37,
   "metadata": {},
   "outputs": [
    {
     "name": "stderr",
     "output_type": "stream",
     "text": [
      "C:\\Users\\Shin\\Anaconda3\\lib\\site-packages\\ipykernel_launcher.py:1: SettingWithCopyWarning: \n",
      "A value is trying to be set on a copy of a slice from a DataFrame\n",
      "\n",
      "See the caveats in the documentation: https://pandas.pydata.org/pandas-docs/stable/user_guide/indexing.html#returning-a-view-versus-a-copy\n",
      "  \"\"\"Entry point for launching an IPython kernel.\n"
     ]
    }
   ],
   "source": [
    "df['address'][84] = '경기도 김포시'"
   ]
  },
  {
   "cell_type": "code",
   "execution_count": 38,
   "metadata": {},
   "outputs": [
    {
     "name": "stderr",
     "output_type": "stream",
     "text": [
      "C:\\Users\\Shin\\Anaconda3\\lib\\site-packages\\ipykernel_launcher.py:1: SettingWithCopyWarning: \n",
      "A value is trying to be set on a copy of a slice from a DataFrame\n",
      "\n",
      "See the caveats in the documentation: https://pandas.pydata.org/pandas-docs/stable/user_guide/indexing.html#returning-a-view-versus-a-copy\n",
      "  \"\"\"Entry point for launching an IPython kernel.\n"
     ]
    }
   ],
   "source": [
    "df['etc_address'][84] = '고촌읍 김포대로 177-42'"
   ]
  },
  {
   "cell_type": "code",
   "execution_count": 39,
   "metadata": {},
   "outputs": [
    {
     "data": {
      "text/plain": [
       "station_code    0\n",
       "station_name    0\n",
       "address         0\n",
       "etc_address     0\n",
       "longitude       0\n",
       "latitude        0\n",
       "dtype: int64"
      ]
     },
     "execution_count": 39,
     "metadata": {},
     "output_type": "execute_result"
    }
   ],
   "source": [
    "df.isna().sum()"
   ]
  },
  {
   "cell_type": "code",
   "execution_count": 40,
   "metadata": {},
   "outputs": [
    {
     "data": {
      "text/html": [
       "<div>\n",
       "<style scoped>\n",
       "    .dataframe tbody tr th:only-of-type {\n",
       "        vertical-align: middle;\n",
       "    }\n",
       "\n",
       "    .dataframe tbody tr th {\n",
       "        vertical-align: top;\n",
       "    }\n",
       "\n",
       "    .dataframe thead th {\n",
       "        text-align: right;\n",
       "    }\n",
       "</style>\n",
       "<table border=\"1\" class=\"dataframe\">\n",
       "  <thead>\n",
       "    <tr style=\"text-align: right;\">\n",
       "      <th></th>\n",
       "      <th>station_code</th>\n",
       "      <th>station_name</th>\n",
       "      <th>address</th>\n",
       "      <th>etc_address</th>\n",
       "      <th>longitude</th>\n",
       "      <th>latitude</th>\n",
       "    </tr>\n",
       "  </thead>\n",
       "  <tbody>\n",
       "    <tr>\n",
       "      <th>0</th>\n",
       "      <td>1007604</td>\n",
       "      <td>안성시(한평교)</td>\n",
       "      <td>경기도 안성시 일죽면</td>\n",
       "      <td>고은리 한평교</td>\n",
       "      <td>127-26-01</td>\n",
       "      <td>37-06-24</td>\n",
       "    </tr>\n",
       "    <tr>\n",
       "      <th>1</th>\n",
       "      <td>1007605</td>\n",
       "      <td>이천시(장호원교)</td>\n",
       "      <td>경기도 이천시</td>\n",
       "      <td>장호원읍 장호원리 장호원교</td>\n",
       "      <td>127-38-07</td>\n",
       "      <td>37-06-54</td>\n",
       "    </tr>\n",
       "    <tr>\n",
       "      <th>2</th>\n",
       "      <td>1007615</td>\n",
       "      <td>여주시(원부교)</td>\n",
       "      <td>경기도 여주시</td>\n",
       "      <td>점동면 원부리 원부교</td>\n",
       "      <td>127-38-03</td>\n",
       "      <td>37-09-45</td>\n",
       "    </tr>\n",
       "    <tr>\n",
       "      <th>3</th>\n",
       "      <td>1007617</td>\n",
       "      <td>여주시(삼합교)</td>\n",
       "      <td>경기도 여주시</td>\n",
       "      <td>점동면 삼합리 삼합교</td>\n",
       "      <td>127-43-09</td>\n",
       "      <td>37-12-08</td>\n",
       "    </tr>\n",
       "    <tr>\n",
       "      <th>4</th>\n",
       "      <td>1007620</td>\n",
       "      <td>여주시(강천리)</td>\n",
       "      <td>경기도 여주시</td>\n",
       "      <td>강천면 강천리 546-1</td>\n",
       "      <td>127-42-50</td>\n",
       "      <td>37-13-52</td>\n",
       "    </tr>\n",
       "    <tr>\n",
       "      <th>...</th>\n",
       "      <td>...</td>\n",
       "      <td>...</td>\n",
       "      <td>...</td>\n",
       "      <td>...</td>\n",
       "      <td>...</td>\n",
       "      <td>...</td>\n",
       "    </tr>\n",
       "    <tr>\n",
       "      <th>133</th>\n",
       "      <td>1201653</td>\n",
       "      <td>아라서해갑문(외)</td>\n",
       "      <td>인천광역시 서구</td>\n",
       "      <td>경서로 31번길 1</td>\n",
       "      <td>126-36-5</td>\n",
       "      <td>37-33-37</td>\n",
       "    </tr>\n",
       "    <tr>\n",
       "      <th>134</th>\n",
       "      <td>1201654</td>\n",
       "      <td>아라서해갑실(북)</td>\n",
       "      <td>인천광역시 서구</td>\n",
       "      <td>경서로 31번길 1</td>\n",
       "      <td>126-36-10</td>\n",
       "      <td>37-33-40</td>\n",
       "    </tr>\n",
       "    <tr>\n",
       "      <th>135</th>\n",
       "      <td>1202630</td>\n",
       "      <td>반월2</td>\n",
       "      <td>경기도 안산시</td>\n",
       "      <td>장상2동</td>\n",
       "      <td>126-52-30</td>\n",
       "      <td>37-20-54</td>\n",
       "    </tr>\n",
       "    <tr>\n",
       "      <th>136</th>\n",
       "      <td>1202660</td>\n",
       "      <td>반월1</td>\n",
       "      <td>경기도 안산시상록구 성포동</td>\n",
       "      <td>노적봉공원내</td>\n",
       "      <td>126-51-25</td>\n",
       "      <td>37-19-22</td>\n",
       "    </tr>\n",
       "    <tr>\n",
       "      <th>137</th>\n",
       "      <td>1202670</td>\n",
       "      <td>남양(외)</td>\n",
       "      <td>경기도 평택시 포승면</td>\n",
       "      <td>원정리</td>\n",
       "      <td>126-48-00</td>\n",
       "      <td>37-00-02</td>\n",
       "    </tr>\n",
       "  </tbody>\n",
       "</table>\n",
       "<p>138 rows × 6 columns</p>\n",
       "</div>"
      ],
      "text/plain": [
       "     station_code station_name         address     etc_address  longitude  \\\n",
       "0         1007604     안성시(한평교)     경기도 안성시 일죽면         고은리 한평교  127-26-01   \n",
       "1         1007605    이천시(장호원교)         경기도 이천시  장호원읍 장호원리 장호원교  127-38-07   \n",
       "2         1007615     여주시(원부교)         경기도 여주시     점동면 원부리 원부교  127-38-03   \n",
       "3         1007617     여주시(삼합교)         경기도 여주시     점동면 삼합리 삼합교  127-43-09   \n",
       "4         1007620     여주시(강천리)         경기도 여주시   강천면 강천리 546-1  127-42-50   \n",
       "..            ...          ...             ...             ...        ...   \n",
       "133       1201653    아라서해갑문(외)        인천광역시 서구      경서로 31번길 1  126-36-5    \n",
       "134       1201654    아라서해갑실(북)        인천광역시 서구      경서로 31번길 1  126-36-10   \n",
       "135       1202630          반월2         경기도 안산시            장상2동  126-52-30   \n",
       "136       1202660          반월1  경기도 안산시상록구 성포동          노적봉공원내  126-51-25   \n",
       "137       1202670        남양(외)     경기도 평택시 포승면            원정리   126-48-00   \n",
       "\n",
       "      latitude  \n",
       "0    37-06-24   \n",
       "1    37-06-54   \n",
       "2    37-09-45   \n",
       "3    37-12-08   \n",
       "4    37-13-52   \n",
       "..         ...  \n",
       "133  37-33-37   \n",
       "134  37-33-40   \n",
       "135  37-20-54   \n",
       "136  37-19-22   \n",
       "137  37-00-02   \n",
       "\n",
       "[138 rows x 6 columns]"
      ]
     },
     "execution_count": 40,
     "metadata": {},
     "output_type": "execute_result"
    }
   ],
   "source": [
    "df"
   ]
  },
  {
   "cell_type": "code",
   "execution_count": 45,
   "metadata": {},
   "outputs": [],
   "source": [
    "df.to_csv('수위_관측소.csv')"
   ]
  },
  {
   "cell_type": "code",
   "execution_count": null,
   "metadata": {},
   "outputs": [],
   "source": []
  }
 ],
 "metadata": {
  "kernelspec": {
   "display_name": "Python 3",
   "language": "python",
   "name": "python3"
  },
  "language_info": {
   "codemirror_mode": {
    "name": "ipython",
    "version": 3
   },
   "file_extension": ".py",
   "mimetype": "text/x-python",
   "name": "python",
   "nbconvert_exporter": "python",
   "pygments_lexer": "ipython3",
   "version": "3.7.6"
  }
 },
 "nbformat": 4,
 "nbformat_minor": 4
}
