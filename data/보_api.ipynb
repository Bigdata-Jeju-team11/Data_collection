{
 "cells": [
  {
   "cell_type": "code",
   "execution_count": 1,
   "metadata": {},
   "outputs": [],
   "source": [
    "import requests\n",
    "import json\n",
    "from tqdm import tqdm\n",
    "import pandas as pd"
   ]
  },
  {
   "cell_type": "markdown",
   "metadata": {},
   "source": [
    "# 보 관측소 api\n",
    "- 보 관측소 제원 요청"
   ]
  },
  {
   "cell_type": "code",
   "execution_count": null,
   "metadata": {},
   "outputs": [],
   "source": [
    "url = 'http://api.hrfco.go.kr/A5F02E26-FBD3-47F7-A191-280B5944845D/bo/info.json'\n",
    "resp = requests.get(url)\n",
    "json_row = resp.json()['content']\n",
    "json_row"
   ]
  },
  {
   "cell_type": "code",
   "execution_count": 29,
   "metadata": {},
   "outputs": [],
   "source": [
    "def bo_station():\n",
    "    url = 'http://api.hrfco.go.kr/A5F02E26-FBD3-47F7-A191-280B5944845D/bo/info.json'\n",
    "    \n",
    "    resp = requests.get(url)\n",
    "    \n",
    "    json_row = resp.json()['content']\n",
    "    \n",
    "    code = [] #보 관측소 코드\n",
    "    name = [] #보 관측소 명칭\n",
    "    agency = [] #관할 기관\n",
    "    addr = [] #주소\n",
    "    etcaddr = [] #나머지주소\n",
    "    lat = [] #위도\n",
    "    lon = [] #경도\n",
    "    pfh = [] #계획홍수위\n",
    "    spcwl = [] #관리수위\n",
    "    \n",
    "    for i in range(len(json_row)):\n",
    "        row = json_row[i]\n",
    "        \n",
    "        if row == None:\n",
    "            pass\n",
    "        else:\n",
    "            code.append(row['boobscd'])\n",
    "            name.append(row['obsnm'])\n",
    "            agency.append(row['agcnm']) \n",
    "            addr.append(row['addr'])\n",
    "            etcaddr.append(row['etcaddr'])\n",
    "            lat.append(row['lat'])\n",
    "            lon.append(row['lon'])\n",
    "            pfh.append(row['pfh'])\n",
    "            spcwl.append(row['spcwl'])\n",
    "        \n",
    "    df = pd.DataFrame({\"station_code\": code, \"agency_name\": agency, \"station_name\":name, \"address\":addr, \"etc_address\":etcaddr,\n",
    "                       \"latitude\": lat, \"longitude\": lon, \"pfh\": pfh, \"spcwl\": spcwl})\n",
    "    \n",
    "    return df"
   ]
  },
  {
   "cell_type": "code",
   "execution_count": 33,
   "metadata": {},
   "outputs": [],
   "source": [
    "bo_station_df = bo_station()\n",
    "bo_staion_code = [ bo_station_df['station_code'][i] for i in range(len(bo_station_df)) ]"
   ]
  },
  {
   "cell_type": "markdown",
   "metadata": {},
   "source": [
    "# 보 api\n",
    "- 보 자료 요청"
   ]
  },
  {
   "cell_type": "code",
   "execution_count": null,
   "metadata": {},
   "outputs": [],
   "source": []
  },
  {
   "cell_type": "code",
   "execution_count": null,
   "metadata": {},
   "outputs": [],
   "source": [
    "url = 'http://api.hrfco.go.kr/A5F02E26-FBD3-47F7-A191-280B5944845D/bo/list/1H.json'\n",
    "resp = requests.get(url)\n",
    "json_row = resp.json()['content']\n",
    "json_row"
   ]
  },
  {
   "cell_type": "code",
   "execution_count": 46,
   "metadata": {},
   "outputs": [],
   "source": [
    "bo_station_df = bo_station()\n",
    "bo_station_code = [ bo_station_df['station_code'][i] for i in range(len(bo_station_df)) ]\n",
    "\n",
    "def bo_api():\n",
    "    global bo_station_code\n",
    "    url = 'http://api.hrfco.go.kr/A5F02E26-FBD3-47F7-A191-280B5944845D/bo/list/1H.json'\n",
    "    \n",
    "    resp = requests.get(url)\n",
    "    \n",
    "    json_row = resp.json()['content']\n",
    "    \n",
    "    #station_code = [ json_row[i]['boobscd'] for i in range(len(json_row)) ]\n",
    "    \n",
    "    url_list = ['http://api.hrfco.go.kr/A5F02E26-FBD3-47F7-A191-280B5944845D/bo/list/1H/' + i for i in bo_station_code]\n",
    "    \n",
    "    date = [ '/20' + str(i) + '010100/20' + str(i) + '123123.json' for i in range(10,21) ]\n",
    "    \n",
    "    code = [] #보 관측소 코드\n",
    "    YMDHM = [] #년월일시분\n",
    "    SWL = [] #보 상류수위\n",
    "    OWL = [] #하류수위\n",
    "    INF = [] #유입량\n",
    "    SFW = [] #저수량\n",
    "    ECPC = [] #공용량\n",
    "    TOTOTF = [] #총 방유량\n",
    "    \n",
    "    for i in tqdm(url_list):\n",
    "        for j in date:\n",
    "            url = i + j\n",
    "            resp = requests.get(url)\n",
    "            json_row = resp.json()['content']\n",
    "            \n",
    "            for k in range(len(json_row)):\n",
    "                row = json_row[k]\n",
    "                code.append(row['boobscd'])\n",
    "                YMDHM.append(row['ymdhm'])\n",
    "                SWL.append(row['swl'])\n",
    "                OWL.append(row['owl'])\n",
    "                INF.append(row['inf'])\n",
    "                SFW.append(row['sfw'])\n",
    "                ECPC.append(row['ecpc'])\n",
    "                TOTOTF.append(row['tototf'])\n",
    "                \n",
    "    df = pd.DataFrame({'station_code':code, 'obs_date':YMDHM, 'swl':SWL, 'owl':OWL, 'inf':INF,\n",
    "                      'sfw':SFW, 'ecpc':ECPC, 'tototf':TOTOTF})\n",
    "    \n",
    "    return df"
   ]
  },
  {
   "cell_type": "code",
   "execution_count": 47,
   "metadata": {},
   "outputs": [
    {
     "name": "stderr",
     "output_type": "stream",
     "text": [
      "100%|██████████████████████████████████████████████████████████████████████████████████| 17/17 [22:27<00:00, 79.25s/it]\n"
     ]
    }
   ],
   "source": [
    "bo_df = bo_api()"
   ]
  },
  {
   "cell_type": "code",
   "execution_count": 48,
   "metadata": {},
   "outputs": [],
   "source": [
    "bo_df.to_csv(\"보_api.csv\")"
   ]
  },
  {
   "cell_type": "code",
   "execution_count": null,
   "metadata": {},
   "outputs": [],
   "source": []
  }
 ],
 "metadata": {
  "kernelspec": {
   "display_name": "Python 3",
   "language": "python",
   "name": "python3"
  },
  "language_info": {
   "codemirror_mode": {
    "name": "ipython",
    "version": 3
   },
   "file_extension": ".py",
   "mimetype": "text/x-python",
   "name": "python",
   "nbconvert_exporter": "python",
   "pygments_lexer": "ipython3",
   "version": "3.8.3"
  }
 },
 "nbformat": 4,
 "nbformat_minor": 4
}
